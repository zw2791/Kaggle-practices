{
 "cells":[
  {
   "cell_type":"code",
   "source":[
    "import pandas as pd\n",
    "import numpy as np\n",
    "import matplotlib.pyplot as plt\n",
    "import seaborn as sns\n",
    "\n",
    "import warnings; warnings.filterwarnings(\"ignore\")"
   ],
   "execution_count":64,
   "outputs":[
    
   ],
   "metadata":{
    "datalore":{
     "type":"CODE",
     "hide_input_from_viewers":false,
     "hide_output_from_viewers":false,
     "node_id":"gBrOIFuJz8B9HUhYX1sX8G"
    }
   }
  },
  {
   "cell_type":"code",
   "source":[
    "path = 'GDP by Country 1999-2022.csv'\n",
    "gdp = pd.read_csv(path, sep=',', header=0, thousands=\",\")\n",
    "\n",
    "\n",
    "row, col = gdp.shape\n",
    "print(f\"This dataset has {row} rows and {col} columns\")"
   ],
   "execution_count":65,
   "outputs":[
    {
     "name":"stdout",
     "text":[
      "This dataset has 180 rows and 24 columns\n"
     ],
     "output_type":"stream"
    }
   ],
   "metadata":{
    "datalore":{
     "type":"CODE",
     "hide_input_from_viewers":false,
     "hide_output_from_viewers":false,
     "node_id":"jN0wYtRqtaDF6ogepB2MGu"
    }
   }
  },
  {
   "cell_type":"code",
   "source":[
    "gdp.set_index(\"Country\", inplace=True)\n",
    "gdp = gdp.T"
   ],
   "execution_count":66,
   "outputs":[
    
   ],
   "metadata":{
    "datalore":{
     "type":"CODE",
     "hide_input_from_viewers":false,
     "hide_output_from_viewers":false,
     "node_id":"nn3YHUyOfR1GAPvftSPdKt"
    }
   }
  },
  {
   "cell_type":"code",
   "source":[
    "gdp.head(10)"
   ],
   "execution_count":67,
   "outputs":[
    {
     "data":{
      "text\/html":[
       "<div>\n",
       "<style scoped>\n",
       "    .dataframe tbody tr th:only-of-type {\n",
       "        vertical-align: middle;\n",
       "    }\n",
       "\n",
       "    .dataframe tbody tr th {\n",
       "        vertical-align: top;\n",
       "    }\n",
       "\n",
       "    .dataframe thead th {\n",
       "        text-align: right;\n",
       "    }\n",
       "<\/style>\n",
       "<table border=\"1\" class=\"dataframe\">\n",
       "  <thead>\n",
       "    <tr style=\"text-align: right;\">\n",
       "      <th>Country<\/th>\n",
       "      <th>Afghanistan, Rep. of.<\/th>\n",
       "      <th>Albania<\/th>\n",
       "      <th>Algeria<\/th>\n",
       "      <th>Angola<\/th>\n",
       "      <th>Antigua and Barbuda<\/th>\n",
       "      <th>Argentina<\/th>\n",
       "      <th>Armenia<\/th>\n",
       "      <th>Australia<\/th>\n",
       "      <th>Austria<\/th>\n",
       "      <th>Azerbaijan<\/th>\n",
       "      <th>...<\/th>\n",
       "      <th>United Kingdom<\/th>\n",
       "      <th>United States<\/th>\n",
       "      <th>Uruguay<\/th>\n",
       "      <th>Uzbekistan<\/th>\n",
       "      <th>Vanuatu<\/th>\n",
       "      <th>Venezuela<\/th>\n",
       "      <th>Vietnam<\/th>\n",
       "      <th>Yemen, Republic of<\/th>\n",
       "      <th>Zambia<\/th>\n",
       "      <th>Zimbabwe<\/th>\n",
       "    <\/tr>\n",
       "  <\/thead>\n",
       "  <tbody>\n",
       "    <tr>\n",
       "      <th>1999<\/th>\n",
       "      <td>0.000<\/td>\n",
       "      <td>3.444<\/td>\n",
       "      <td>48.845<\/td>\n",
       "      <td>6.153<\/td>\n",
       "      <td>0.652<\/td>\n",
       "      <td>283.523<\/td>\n",
       "      <td>1.845<\/td>\n",
       "      <td>401.782<\/td>\n",
       "      <td>213.390<\/td>\n",
       "      <td>4.581<\/td>\n",
       "      <td>...<\/td>\n",
       "      <td>1467.03<\/td>\n",
       "      <td>9268.43<\/td>\n",
       "      <td>20.913<\/td>\n",
       "      <td>17.041<\/td>\n",
       "      <td>0.251<\/td>\n",
       "      <td>97.977<\/td>\n",
       "      <td>28.684<\/td>\n",
       "      <td>7.530<\/td>\n",
       "      <td>3.132<\/td>\n",
       "      <td>5.963<\/td>\n",
       "    <\/tr>\n",
       "    <tr>\n",
       "      <th>2000<\/th>\n",
       "      <td>0.000<\/td>\n",
       "      <td>3.695<\/td>\n",
       "      <td>54.749<\/td>\n",
       "      <td>9.135<\/td>\n",
       "      <td>0.678<\/td>\n",
       "      <td>284.204<\/td>\n",
       "      <td>1.912<\/td>\n",
       "      <td>390.017<\/td>\n",
       "      <td>194.407<\/td>\n",
       "      <td>5.273<\/td>\n",
       "      <td>...<\/td>\n",
       "      <td>1445.19<\/td>\n",
       "      <td>9816.98<\/td>\n",
       "      <td>20.086<\/td>\n",
       "      <td>13.717<\/td>\n",
       "      <td>0.245<\/td>\n",
       "      <td>117.153<\/td>\n",
       "      <td>31.196<\/td>\n",
       "      <td>9.561<\/td>\n",
       "      <td>3.238<\/td>\n",
       "      <td>8.136<\/td>\n",
       "    <\/tr>\n",
       "    <tr>\n",
       "      <th>2001<\/th>\n",
       "      <td>0.000<\/td>\n",
       "      <td>4.096<\/td>\n",
       "      <td>55.181<\/td>\n",
       "      <td>8.936<\/td>\n",
       "      <td>0.710<\/td>\n",
       "      <td>268.697<\/td>\n",
       "      <td>2.118<\/td>\n",
       "      <td>368.191<\/td>\n",
       "      <td>193.345<\/td>\n",
       "      <td>5.708<\/td>\n",
       "      <td>...<\/td>\n",
       "      <td>1435.63<\/td>\n",
       "      <td>10127.95<\/td>\n",
       "      <td>18.561<\/td>\n",
       "      <td>11.632<\/td>\n",
       "      <td>0.235<\/td>\n",
       "      <td>122.872<\/td>\n",
       "      <td>32.504<\/td>\n",
       "      <td>9.533<\/td>\n",
       "      <td>3.640<\/td>\n",
       "      <td>12.883<\/td>\n",
       "    <\/tr>\n",
       "    <tr>\n",
       "      <th>2002<\/th>\n",
       "      <td>4.084<\/td>\n",
       "      <td>4.456<\/td>\n",
       "      <td>57.053<\/td>\n",
       "      <td>11.386<\/td>\n",
       "      <td>0.718<\/td>\n",
       "      <td>97.732<\/td>\n",
       "      <td>2.376<\/td>\n",
       "      <td>412.901<\/td>\n",
       "      <td>208.566<\/td>\n",
       "      <td>6.236<\/td>\n",
       "      <td>...<\/td>\n",
       "      <td>1574.47<\/td>\n",
       "      <td>10469.60<\/td>\n",
       "      <td>12.089<\/td>\n",
       "      <td>9.657<\/td>\n",
       "      <td>0.230<\/td>\n",
       "      <td>92.889<\/td>\n",
       "      <td>35.148<\/td>\n",
       "      <td>9.985<\/td>\n",
       "      <td>3.775<\/td>\n",
       "      <td>30.856<\/td>\n",
       "    <\/tr>\n",
       "    <tr>\n",
       "      <th>2003<\/th>\n",
       "      <td>4.585<\/td>\n",
       "      <td>5.600<\/td>\n",
       "      <td>68.013<\/td>\n",
       "      <td>13.956<\/td>\n",
       "      <td>0.754<\/td>\n",
       "      <td>127.643<\/td>\n",
       "      <td>2.807<\/td>\n",
       "      <td>527.588<\/td>\n",
       "      <td>255.842<\/td>\n",
       "      <td>7.276<\/td>\n",
       "      <td>...<\/td>\n",
       "      <td>1814.64<\/td>\n",
       "      <td>10960.75<\/td>\n",
       "      <td>11.211<\/td>\n",
       "      <td>10.129<\/td>\n",
       "      <td>0.280<\/td>\n",
       "      <td>83.442<\/td>\n",
       "      <td>39.630<\/td>\n",
       "      <td>11.869<\/td>\n",
       "      <td>4.326<\/td>\n",
       "      <td>10.515<\/td>\n",
       "    <\/tr>\n",
       "    <tr>\n",
       "      <th>2004<\/th>\n",
       "      <td>5.971<\/td>\n",
       "      <td>7.452<\/td>\n",
       "      <td>85.016<\/td>\n",
       "      <td>19.800<\/td>\n",
       "      <td>0.818<\/td>\n",
       "      <td>151.958<\/td>\n",
       "      <td>3.573<\/td>\n",
       "      <td>639.356<\/td>\n",
       "      <td>293.194<\/td>\n",
       "      <td>8.682<\/td>\n",
       "      <td>...<\/td>\n",
       "      <td>2155.16<\/td>\n",
       "      <td>11712.48<\/td>\n",
       "      <td>13.268<\/td>\n",
       "      <td>12.001<\/td>\n",
       "      <td>0.330<\/td>\n",
       "      <td>112.800<\/td>\n",
       "      <td>45.548<\/td>\n",
       "      <td>13.565<\/td>\n",
       "      <td>5.440<\/td>\n",
       "      <td>4.700<\/td>\n",
       "    <\/tr>\n",
       "    <tr>\n",
       "      <th>2005<\/th>\n",
       "      <td>7.309<\/td>\n",
       "      <td>8.376<\/td>\n",
       "      <td>102.380<\/td>\n",
       "      <td>30.632<\/td>\n",
       "      <td>0.875<\/td>\n",
       "      <td>181.549<\/td>\n",
       "      <td>4.903<\/td>\n",
       "      <td>712.436<\/td>\n",
       "      <td>305.338<\/td>\n",
       "      <td>12.561<\/td>\n",
       "      <td>...<\/td>\n",
       "      <td>2230.61<\/td>\n",
       "      <td>12455.83<\/td>\n",
       "      <td>16.878<\/td>\n",
       "      <td>13.670<\/td>\n",
       "      <td>0.368<\/td>\n",
       "      <td>143.443<\/td>\n",
       "      <td>53.053<\/td>\n",
       "      <td>15.193<\/td>\n",
       "      <td>7.271<\/td>\n",
       "      <td>4.552<\/td>\n",
       "    <\/tr>\n",
       "    <tr>\n",
       "      <th>2006<\/th>\n",
       "      <td>8.399<\/td>\n",
       "      <td>9.133<\/td>\n",
       "      <td>114.322<\/td>\n",
       "      <td>43.759<\/td>\n",
       "      <td>0.962<\/td>\n",
       "      <td>212.702<\/td>\n",
       "      <td>6.410<\/td>\n",
       "      <td>754.816<\/td>\n",
       "      <td>321.934<\/td>\n",
       "      <td>19.817<\/td>\n",
       "      <td>...<\/td>\n",
       "      <td>2373.69<\/td>\n",
       "      <td>13244.55<\/td>\n",
       "      <td>19.221<\/td>\n",
       "      <td>16.088<\/td>\n",
       "      <td>0.387<\/td>\n",
       "      <td>181.608<\/td>\n",
       "      <td>60.995<\/td>\n",
       "      <td>18.700<\/td>\n",
       "      <td>10.942<\/td>\n",
       "      <td>5.540<\/td>\n",
       "    <\/tr>\n",
       "    <tr>\n",
       "      <th>2007<\/th>\n",
       "      <td>9.892<\/td>\n",
       "      <td>10.163<\/td>\n",
       "      <td>116.158<\/td>\n",
       "      <td>55.370<\/td>\n",
       "      <td>1.026<\/td>\n",
       "      <td>247.096<\/td>\n",
       "      <td>7.666<\/td>\n",
       "      <td>822.089<\/td>\n",
       "      <td>348.659<\/td>\n",
       "      <td>28.699<\/td>\n",
       "      <td>...<\/td>\n",
       "      <td>2660.66<\/td>\n",
       "      <td>13770.31<\/td>\n",
       "      <td>20.725<\/td>\n",
       "      <td>18.840<\/td>\n",
       "      <td>0.421<\/td>\n",
       "      <td>219.372<\/td>\n",
       "      <td>68.298<\/td>\n",
       "      <td>21.657<\/td>\n",
       "      <td>10.104<\/td>\n",
       "      <td>18.281<\/td>\n",
       "    <\/tr>\n",
       "    <tr>\n",
       "      <th>2008<\/th>\n",
       "      <td>11.513<\/td>\n",
       "      <td>11.131<\/td>\n",
       "      <td>126.889<\/td>\n",
       "      <td>67.608<\/td>\n",
       "      <td>1.074<\/td>\n",
       "      <td>277.912<\/td>\n",
       "      <td>8.579<\/td>\n",
       "      <td>854.072<\/td>\n",
       "      <td>364.580<\/td>\n",
       "      <td>40.229<\/td>\n",
       "      <td>...<\/td>\n",
       "      <td>2822.66<\/td>\n",
       "      <td>14418.48<\/td>\n",
       "      <td>22.211<\/td>\n",
       "      <td>21.727<\/td>\n",
       "      <td>0.451<\/td>\n",
       "      <td>231.959<\/td>\n",
       "      <td>76.414<\/td>\n",
       "      <td>24.504<\/td>\n",
       "      <td>10.519<\/td>\n",
       "      <td>63.039<\/td>\n",
       "    <\/tr>\n",
       "  <\/tbody>\n",
       "<\/table>\n",
       "<p>10 rows × 180 columns<\/p>\n",
       "<\/div>"
      ]
     },
     "metadata":{
      
     },
     "output_type":"display_data"
    }
   ],
   "metadata":{
    "datalore":{
     "type":"CODE",
     "hide_input_from_viewers":false,
     "hide_output_from_viewers":false,
     "node_id":"28kNh5X1Hy6QeDN7UDPgge"
    }
   }
  },
  {
   "cell_type":"markdown",
   "source":[
    "## EDA"
   ],
   "attachments":{
    
   },
   "metadata":{
    "datalore":{
     "type":"MD",
     "hide_input_from_viewers":false,
     "hide_output_from_viewers":false,
     "node_id":"JYUa88F0qnoNhW7cR7OHr9"
    }
   }
  },
  {
   "cell_type":"markdown",
   "source":[
    "### Look at China's growth"
   ],
   "attachments":{
    
   },
   "metadata":{
    "datalore":{
     "type":"MD",
     "hide_input_from_viewers":false,
     "hide_output_from_viewers":false,
     "node_id":"arT5vx40SVJPXUgQ2cYM3d"
    }
   }
  },
  {
   "cell_type":"code",
   "source":[
    "# Let's look at a particular country China\n",
    "plt.figure(figsize=(15,8))\n",
    "sns.set_style('whitegrid')\n",
    "\n",
    "\n",
    "ax = sns.lineplot(data = gdp[['China']], x=gdp.index, y='China')\n",
    "plt.title('GDP of China from 1999 to 2022')\n",
    "plt.ylabel('Gross Domestic Product (billions US dollars')\n",
    "\n",
    "plt.show()"
   ],
   "execution_count":68,
   "outputs":[
    {
     "data":{
      "image\/png":"[encoded data removed]"
     },
     "metadata":{
      "image\/png":{
       
      }
     },
     "output_type":"display_data"
    }
   ],
   "metadata":{
    "datalore":{
     "type":"CODE",
     "hide_input_from_viewers":false,
     "hide_output_from_viewers":false,
     "node_id":"XYX3nK85fQEhRynsoW2Jnl"
    }
   }
  },
  {
   "cell_type":"markdown",
   "source":[
    "### Look at top 5 countries"
   ],
   "attachments":{
    
   },
   "metadata":{
    "datalore":{
     "type":"MD",
     "hide_input_from_viewers":false,
     "hide_output_from_viewers":false,
     "node_id":"DHMfox5AWSu1Co1jZ9BtXV"
    }
   }
  },
  {
   "cell_type":"code",
   "source":[
    "# let's see who are the top 5 rishest countries\n",
    "gdp22 = gdp.iloc[-1:,:].T\n",
    "\n",
    "top5 = gdp22.sort_values('2022', ascending=False).head().index\n",
    "top5 = list(top5)\n",
    "\n",
    "top5"
   ],
   "execution_count":69,
   "outputs":[
    {
     "data":{
      "text\/plain":[
       "['United States', 'China', 'Japan', 'Germany', 'United Kingdom']"
      ]
     },
     "metadata":{
      
     },
     "output_type":"display_data"
    }
   ],
   "metadata":{
    "datalore":{
     "type":"CODE",
     "hide_input_from_viewers":false,
     "hide_output_from_viewers":false,
     "node_id":"7t3gBa6guQXdsQIWkV5Gge"
    }
   }
  },
  {
   "cell_type":"code",
   "source":[
    "fig, ax = plt.subplots(figsize=(15,8))\n",
    "sns.set(font_scale = 1)\n",
    "# plot top 5 counties\n",
    "for i in top5:\n",
    "    sns.lineplot(data = gdp, x=gdp.index, y=i)\n",
    "\n",
    "plt.legend(['United States', 'China', 'Japan', 'Germany', 'United Kingdom'])\n",
    "plt.ylabel('Gross Domestic Product (billions US dollars')\n",
    "plt.show()"
   ],
   "execution_count":70,
   "outputs":[
    {
     "data":{
      "image\/png":"[encoded data removed]"
     },
     "metadata":{
      "image\/png":{
       
      }
     },
     "output_type":"display_data"
    }
   ],
   "metadata":{
    "datalore":{
     "type":"CODE",
     "hide_input_from_viewers":false,
     "hide_output_from_viewers":false,
     "node_id":"mEP5tEaCST6poLPSL0036u"
    }
   }
  },
  {
   "cell_type":"markdown",
   "source":[
    "### Let's try map visulization"
   ],
   "attachments":{
    
   },
   "metadata":{
    "datalore":{
     "type":"MD",
     "hide_input_from_viewers":false,
     "hide_output_from_viewers":false,
     "node_id":"Tyz0q5PR9Gul1yuU6JvEOe"
    }
   }
  },
  {
   "cell_type":"code",
   "source":[
    "# Merge with ISO convention\n",
    "path = 'https:\/\/gist.githubusercontent.com\/radcliff\/f09c0f88344a7fcef373\/raw\/2753c482ad091c54b1822288ad2e4811c021d8ec\/wikipedia-iso-country-codes.csv'\n",
    "iso = pd.read_csv(path, sep=',')\n",
    "iso.rename(columns={\"English short name lower case\": \"Country\",\n",
    "                    \"Alpha-3 code\":\"iso_alpha\"},\n",
    "           inplace=True)\n",
    "iso.set_index(\"Country\", inplace=True)\n",
    "gdp = gdp.T\n",
    "gdp = gdp.merge(iso, on=\"Country\", how=\"left\")\n",
    "iso.head()"
   ],
   "execution_count":71,
   "outputs":[
    {
     "data":{
      "text\/html":[
       "<div>\n",
       "<style scoped>\n",
       "    .dataframe tbody tr th:only-of-type {\n",
       "        vertical-align: middle;\n",
       "    }\n",
       "\n",
       "    .dataframe tbody tr th {\n",
       "        vertical-align: top;\n",
       "    }\n",
       "\n",
       "    .dataframe thead th {\n",
       "        text-align: right;\n",
       "    }\n",
       "<\/style>\n",
       "<table border=\"1\" class=\"dataframe\">\n",
       "  <thead>\n",
       "    <tr style=\"text-align: right;\">\n",
       "      <th><\/th>\n",
       "      <th>Alpha-2 code<\/th>\n",
       "      <th>iso_alpha<\/th>\n",
       "      <th>Numeric code<\/th>\n",
       "      <th>ISO 3166-2<\/th>\n",
       "    <\/tr>\n",
       "    <tr>\n",
       "      <th>Country<\/th>\n",
       "      <th><\/th>\n",
       "      <th><\/th>\n",
       "      <th><\/th>\n",
       "      <th><\/th>\n",
       "    <\/tr>\n",
       "  <\/thead>\n",
       "  <tbody>\n",
       "    <tr>\n",
       "      <th>Afghanistan<\/th>\n",
       "      <td>AF<\/td>\n",
       "      <td>AFG<\/td>\n",
       "      <td>4<\/td>\n",
       "      <td>ISO 3166-2:AF<\/td>\n",
       "    <\/tr>\n",
       "    <tr>\n",
       "      <th>Åland Islands<\/th>\n",
       "      <td>AX<\/td>\n",
       "      <td>ALA<\/td>\n",
       "      <td>248<\/td>\n",
       "      <td>ISO 3166-2:AX<\/td>\n",
       "    <\/tr>\n",
       "    <tr>\n",
       "      <th>Albania<\/th>\n",
       "      <td>AL<\/td>\n",
       "      <td>ALB<\/td>\n",
       "      <td>8<\/td>\n",
       "      <td>ISO 3166-2:AL<\/td>\n",
       "    <\/tr>\n",
       "    <tr>\n",
       "      <th>Algeria<\/th>\n",
       "      <td>DZ<\/td>\n",
       "      <td>DZA<\/td>\n",
       "      <td>12<\/td>\n",
       "      <td>ISO 3166-2:DZ<\/td>\n",
       "    <\/tr>\n",
       "    <tr>\n",
       "      <th>American Samoa<\/th>\n",
       "      <td>AS<\/td>\n",
       "      <td>ASM<\/td>\n",
       "      <td>16<\/td>\n",
       "      <td>ISO 3166-2:AS<\/td>\n",
       "    <\/tr>\n",
       "  <\/tbody>\n",
       "<\/table>\n",
       "<\/div>"
      ]
     },
     "metadata":{
      
     },
     "output_type":"display_data"
    }
   ],
   "metadata":{
    "datalore":{
     "type":"CODE",
     "hide_input_from_viewers":false,
     "hide_output_from_viewers":false,
     "node_id":"qfOIosl9ERROtaxypjP9nt"
    }
   }
  },
  {
   "cell_type":"markdown",
   "source":[
    "### Geographical map"
   ],
   "attachments":{
    
   },
   "metadata":{
    "datalore":{
     "type":"MD",
     "hide_input_from_viewers":false,
     "hide_output_from_viewers":false,
     "node_id":"lphfcN7ylrf8S5gs70CCo2"
    }
   }
  },
  {
   "cell_type":"code",
   "source":[
    "import plotly.express as px\n",
    "\n",
    "year = \"2022\"\n",
    "\n",
    "ds = gdp[[year,\"iso_alpha\"]]\n",
    "ds.reset_index(inplace=True)\n",
    "\n",
    "fig = px.choropleth(ds, locations=\"iso_alpha\",\n",
    "                    color=year,\n",
    "                    hover_name=\"Country\",\n",
    "                    color_continuous_scale=px.colors.sequential.Plasma)\n",
    "fig.update_layout(\n",
    "    title_text = f'Gross Domestic Product {year}',\n",
    "    title_pad={\"l\":700}\n",
    ")\n",
    "\n",
    "fig.show()"
   ],
   "execution_count":72,
   "outputs":[
    {
     "data":{
      "application\/vnd.plotly.v1+json":{
       "data":[
        {
         "coloraxis":"coloraxis",
         "geo":"geo",
         "hovertemplate":"<b>%{hovertext}<\/b><br><br>iso_alpha=%{location}<br>2022=%{z}<extra><\/extra>",
         "hovertext":[
          "Afghanistan, Rep. of.",
          "Albania",
          "Algeria",
          "Angola",
          "Antigua and Barbuda",
          "Argentina",
          "Armenia",
          "Australia",
          "Austria",
          "Azerbaijan",
          "Bahamas, The",
          "Bahrain",
          "Bangladesh",
          "Barbados",
          "Belarus",
          "Belgium",
          "Belize",
          "Benin",
          "Bhutan",
          "Bolivia",
          "Bosnia and Herzegovina",
          "Botswana",
          "Brazil",
          "Brunei Darussalam",
          "Bulgaria",
          "Burkina Faso",
          "Burundi",
          "Cambodia",
          "Cameroon",
          "Canada",
          "Cape Verde",
          "Central African Republic",
          "Chad",
          "Chile",
          "China",
          "Colombia",
          "Comoros",
          "Congo, Democratic Republic of",
          "Congo, Republic of",
          "Costa Rica",
          "Côte d'Ivoire",
          "Croatia",
          "Cyprus",
          "Czech Republic",
          "Denmark",
          "Djibouti",
          "Dominica",
          "Dominican Republic",
          "Ecuador",
          "Egypt",
          "El Salvador",
          "Equatorial Guinea",
          "Eritrea",
          "Estonia",
          "Ethiopia",
          "Fiji",
          "Finland",
          "France",
          "Gabon",
          "Gambia, The",
          "Georgia",
          "Germany",
          "Ghana",
          "Greece",
          "Grenada",
          "Guatemala",
          "Guinea",
          "Guinea-Bissau",
          "Guyana",
          "Haiti",
          "Honduras",
          "Hong Kong SAR",
          "Hungary",
          "Iceland",
          "India",
          "Indonesia",
          "Iran, Islamic Republic of",
          "Ireland",
          "Israel",
          "Italy",
          "Jamaica",
          "Japan",
          "Jordan",
          "Kazakhstan",
          "Kenya",
          "Kiribati",
          "Korea",
          "Kuwait",
          "Kyrgyz Republic",
          "Lao People's Democratic Republic",
          "Latvia",
          "Lebanon",
          "Lesotho",
          "Liberia",
          "Libya",
          "Lithuania",
          "Luxembourg",
          "Macedonia, Former Yugoslav Republic of",
          "Madagascar",
          "Malawi",
          "Malaysia",
          "Maldives",
          "Mali",
          "Malta",
          "Mauritania",
          "Mauritius",
          "Mexico",
          "Moldova",
          "Mongolia",
          "Morocco",
          "Mozambique",
          "Myanmar",
          "Namibia",
          "Nepal",
          "Netherlands",
          "New Zealand",
          "Nicaragua",
          "Niger",
          "Nigeria",
          "Norway",
          "Oman",
          "Pakistan",
          "Panama",
          "Papua New Guinea",
          "Paraguay",
          "Peru",
          "Philippines",
          "Poland",
          "Portugal",
          "Qatar",
          "Romania",
          "Russia",
          "Rwanda",
          "Samoa",
          "São Tomé and Príncipe",
          "Saudi Arabia",
          "Senegal",
          "Serbia",
          "Seychelles",
          "Sierra Leone",
          "Singapore",
          "Slovak Republic",
          "Slovenia",
          "Solomon Islands",
          "South Africa",
          "Spain",
          "Sri Lanka",
          "St. Kitts and Nevis",
          "St. Lucia",
          "St. Vincent and the Grenadines",
          "Sudan",
          "Suriname",
          "Swaziland",
          "Sweden",
          "Switzerland",
          "Syrian Arab Republic",
          "Taiwan Province of China",
          "Tajikistan",
          "Tanzania",
          "Thailand",
          "Timor-Leste, Dem. Rep. of",
          "Togo",
          "Tonga",
          "Trinidad and Tobago",
          "Tunisia",
          "Turkey",
          "Turkmenistan",
          "Uganda",
          "Ukraine",
          "United Arab Emirates",
          "United Kingdom",
          "United States",
          "Uruguay",
          "Uzbekistan",
          "Vanuatu",
          "Venezuela",
          "Vietnam",
          "Yemen, Republic of",
          "Zambia",
          "Zimbabwe"
         ],
         "locations":[
          null,
          "ALB",
          "DZA",
          "AGO",
          "ATG",
          "ARG",
          "ARM",
          "AUS",
          "AUT",
          "AZE",
          null,
          "BHR",
          "BGD",
          "BRB",
          "BLR",
          "BEL",
          "BLZ",
          "BEN",
          "BTN",
          null,
          "BIH",
          "BWA",
          "BRA",
          "BRN",
          "BGR",
          "BFA",
          "BDI",
          "KHM",
          "CMR",
          "CAN",
          "CPV",
          "CAF",
          "TCD",
          "CHL",
          "CHN",
          "COL",
          "COM",
          null,
          null,
          "CRI",
          "CIV",
          "HRV",
          "CYP",
          "CZE",
          "DNK",
          "DJI",
          "DMA",
          "DOM",
          "ECU",
          "EGY",
          "SLV",
          "GNQ",
          "ERI",
          "EST",
          "ETH",
          "FJI",
          "FIN",
          "FRA",
          "GAB",
          null,
          "GEO",
          "DEU",
          "GHA",
          "GRC",
          "GRD",
          "GTM",
          "GIN",
          "GNB",
          "GUY",
          "HTI",
          "HND",
          null,
          "HUN",
          "ISL",
          "IND",
          "IDN",
          "IRN",
          "IRL",
          "ISR",
          "ITA",
          "JAM",
          "JPN",
          "JOR",
          "KAZ",
          "KEN",
          "KIR",
          null,
          "KWT",
          null,
          "LAO",
          "LVA",
          "LBN",
          "LSO",
          "LBR",
          null,
          "LTU",
          "LUX",
          null,
          "MDG",
          "MWI",
          "MYS",
          "MDV",
          "MLI",
          "MLT",
          "MRT",
          "MUS",
          "MEX",
          null,
          "MNG",
          "MAR",
          "MOZ",
          "MMR",
          "NAM",
          "NPL",
          "NLD",
          "NZL",
          "NIC",
          "NER",
          "NGA",
          "NOR",
          "OMN",
          "PAK",
          "PAN",
          "PNG",
          "PRY",
          "PER",
          "PHL",
          "POL",
          "PRT",
          "QAT",
          "ROU",
          null,
          "RWA",
          "WSM",
          null,
          "SAU",
          "SEN",
          "SRB",
          "SYC",
          "SLE",
          "SGP",
          null,
          "SVN",
          "SLB",
          "ZAF",
          "ESP",
          "LKA",
          null,
          null,
          null,
          "SDN",
          "SUR",
          "SWZ",
          "SWE",
          "CHE",
          "SYR",
          null,
          "TJK",
          null,
          "THA",
          null,
          "TGO",
          "TON",
          "TTO",
          "TUN",
          "TUR",
          "TKM",
          "UGA",
          "UKR",
          "ARE",
          "GBR",
          "USA",
          "URY",
          "UZB",
          "VUT",
          null,
          null,
          null,
          "ZMB",
          "ZWE"
         ],
         "name":"",
         "z":[
          0,
          18.012,
          168.195,
          74.953,
          1.534,
          483.765,
          15.06,
          1677.45,
          520.343,
          54.725,
          0,
          41.057,
          390.608,
          5.142,
          70.632,
          619.16,
          2.062,
          19.917,
          2.74,
          40.895,
          23.006,
          19.002,
          1810.61,
          16.263,
          84.308,
          21.887,
          3.396,
          27.985,
          48.29,
          2189.79,
          0,
          2.797,
          12.953,
          352.664,
          18463.13,
          319.29,
          1.363,
          0,
          0,
          64.374,
          75.075,
          68.525,
          28.291,
          302.061,
          414.55,
          3.932,
          0.628,
          97.371,
          109.975,
          438.348,
          29.316,
          12.074,
          2.484,
          39.542,
          0,
          5.01,
          314.538,
          3140.03,
          19.632,
          0,
          19.688,
          4557.35,
          82.018,
          224.894,
          1.16,
          89.214,
          18.223,
          1.721,
          9.837,
          18.825,
          27.923,
          389.977,
          198.992,
          27.172,
          3250.08,
          1247.35,
          0,
          550.518,
          501.409,
          2272.27,
          15.63,
          5383.68,
          47.5,
          203.666,
          116.641,
          0.245,
          1907.66,
          138.78,
          8.928,
          0,
          40.83,
          0,
          2.592,
          3.664,
          29.202,
          67.659,
          89.683,
          0,
          15.402,
          12.008,
          415.375,
          5.296,
          21.261,
          18.209,
          9.336,
          11.954,
          1371.64,
          13.315,
          15.83,
          132.645,
          16.759,
          63.052,
          13.122,
          36.296,
          1070.75,
          267.636,
          13.948,
          17.261,
          555.346,
          458.398,
          85.719,
          0,
          64.366,
          28.31,
          39.197,
          231.691,
          406.107,
          720.35,
          271.191,
          180.883,
          314.876,
          1703.53,
          11.035,
          0.808,
          0.573,
          876.148,
          30.039,
          65.697,
          1.751,
          4.587,
          396.995,
          127.497,
          65.475,
          1.798,
          435.212,
          1570.91,
          83.315,
          1.092,
          1.998,
          0.855,
          37.769,
          2.937,
          0,
          660.918,
          862.819,
          0,
          850.528,
          8.756,
          74.536,
          585.586,
          0,
          9.357,
          0.54,
          23.082,
          45.454,
          844.534,
          60.263,
          47,
          203.925,
          427.93,
          3442.21,
          24796.08,
          63.741,
          72.762,
          1.06,
          43.546,
          415.493,
          0,
          23.967,
          27.806
         ],
         "type":"choropleth"
        }
       ],
       "layout":{
        "template":{
         "data":{
          "bar":[
           {
            "error_x":{
             "color":"#2a3f5f"
            },
            "error_y":{
             "color":"#2a3f5f"
            },
            "marker":{
             "line":{
              "color":"#E5ECF6",
              "width":0.5
             },
             "pattern":{
              "fillmode":"overlay",
              "size":10,
              "solidity":0.2
             }
            },
            "type":"bar"
           }
          ],
          "barpolar":[
           {
            "marker":{
             "line":{
              "color":"#E5ECF6",
              "width":0.5
             },
             "pattern":{
              "fillmode":"overlay",
              "size":10,
              "solidity":0.2
             }
            },
            "type":"barpolar"
           }
          ],
          "carpet":[
           {
            "aaxis":{
             "endlinecolor":"#2a3f5f",
             "gridcolor":"white",
             "linecolor":"white",
             "minorgridcolor":"white",
             "startlinecolor":"#2a3f5f"
            },
            "baxis":{
             "endlinecolor":"#2a3f5f",
             "gridcolor":"white",
             "linecolor":"white",
             "minorgridcolor":"white",
             "startlinecolor":"#2a3f5f"
            },
            "type":"carpet"
           }
          ],
          "choropleth":[
           {
            "colorbar":{
             "outlinewidth":0,
             "ticks":""
            },
            "type":"choropleth"
           }
          ],
          "contour":[
           {
            "colorbar":{
             "outlinewidth":0,
             "ticks":""
            },
            "colorscale":[
             [
              0,
              "#0d0887"
             ],
             [
              0.1111111111111111,
              "#46039f"
             ],
             [
              0.2222222222222222,
              "#7201a8"
             ],
             [
              0.3333333333333333,
              "#9c179e"
             ],
             [
              0.4444444444444444,
              "#bd3786"
             ],
             [
              0.5555555555555556,
              "#d8576b"
             ],
             [
              0.6666666666666666,
              "#ed7953"
             ],
             [
              0.7777777777777778,
              "#fb9f3a"
             ],
             [
              0.8888888888888888,
              "#fdca26"
             ],
             [
              1,
              "#f0f921"
             ]
            ],
            "type":"contour"
           }
          ],
          "contourcarpet":[
           {
            "colorbar":{
             "outlinewidth":0,
             "ticks":""
            },
            "type":"contourcarpet"
           }
          ],
          "heatmap":[
           {
            "colorbar":{
             "outlinewidth":0,
             "ticks":""
            },
            "colorscale":[
             [
              0,
              "#0d0887"
             ],
             [
              0.1111111111111111,
              "#46039f"
             ],
             [
              0.2222222222222222,
              "#7201a8"
             ],
             [
              0.3333333333333333,
              "#9c179e"
             ],
             [
              0.4444444444444444,
              "#bd3786"
             ],
             [
              0.5555555555555556,
              "#d8576b"
             ],
             [
              0.6666666666666666,
              "#ed7953"
             ],
             [
              0.7777777777777778,
              "#fb9f3a"
             ],
             [
              0.8888888888888888,
              "#fdca26"
             ],
             [
              1,
              "#f0f921"
             ]
            ],
            "type":"heatmap"
           }
          ],
          "heatmapgl":[
           {
            "colorbar":{
             "outlinewidth":0,
             "ticks":""
            },
            "colorscale":[
             [
              0,
              "#0d0887"
             ],
             [
              0.1111111111111111,
              "#46039f"
             ],
             [
              0.2222222222222222,
              "#7201a8"
             ],
             [
              0.3333333333333333,
              "#9c179e"
             ],
             [
              0.4444444444444444,
              "#bd3786"
             ],
             [
              0.5555555555555556,
              "#d8576b"
             ],
             [
              0.6666666666666666,
              "#ed7953"
             ],
             [
              0.7777777777777778,
              "#fb9f3a"
             ],
             [
              0.8888888888888888,
              "#fdca26"
             ],
             [
              1,
              "#f0f921"
             ]
            ],
            "type":"heatmapgl"
           }
          ],
          "histogram":[
           {
            "marker":{
             "pattern":{
              "fillmode":"overlay",
              "size":10,
              "solidity":0.2
             }
            },
            "type":"histogram"
           }
          ],
          "histogram2d":[
           {
            "colorbar":{
             "outlinewidth":0,
             "ticks":""
            },
            "colorscale":[
             [
              0,
              "#0d0887"
             ],
             [
              0.1111111111111111,
              "#46039f"
             ],
             [
              0.2222222222222222,
              "#7201a8"
             ],
             [
              0.3333333333333333,
              "#9c179e"
             ],
             [
              0.4444444444444444,
              "#bd3786"
             ],
             [
              0.5555555555555556,
              "#d8576b"
             ],
             [
              0.6666666666666666,
              "#ed7953"
             ],
             [
              0.7777777777777778,
              "#fb9f3a"
             ],
             [
              0.8888888888888888,
              "#fdca26"
             ],
             [
              1,
              "#f0f921"
             ]
            ],
            "type":"histogram2d"
           }
          ],
          "histogram2dcontour":[
           {
            "colorbar":{
             "outlinewidth":0,
             "ticks":""
            },
            "colorscale":[
             [
              0,
              "#0d0887"
             ],
             [
              0.1111111111111111,
              "#46039f"
             ],
             [
              0.2222222222222222,
              "#7201a8"
             ],
             [
              0.3333333333333333,
              "#9c179e"
             ],
             [
              0.4444444444444444,
              "#bd3786"
             ],
             [
              0.5555555555555556,
              "#d8576b"
             ],
             [
              0.6666666666666666,
              "#ed7953"
             ],
             [
              0.7777777777777778,
              "#fb9f3a"
             ],
             [
              0.8888888888888888,
              "#fdca26"
             ],
             [
              1,
              "#f0f921"
             ]
            ],
            "type":"histogram2dcontour"
           }
          ],
          "mesh3d":[
           {
            "colorbar":{
             "outlinewidth":0,
             "ticks":""
            },
            "type":"mesh3d"
           }
          ],
          "parcoords":[
           {
            "line":{
             "colorbar":{
              "outlinewidth":0,
              "ticks":""
             }
            },
            "type":"parcoords"
           }
          ],
          "pie":[
           {
            "automargin":true,
            "type":"pie"
           }
          ],
          "scatter":[
           {
            "marker":{
             "colorbar":{
              "outlinewidth":0,
              "ticks":""
             }
            },
            "type":"scatter"
           }
          ],
          "scatter3d":[
           {
            "line":{
             "colorbar":{
              "outlinewidth":0,
              "ticks":""
             }
            },
            "marker":{
             "colorbar":{
              "outlinewidth":0,
              "ticks":""
             }
            },
            "type":"scatter3d"
           }
          ],
          "scattercarpet":[
           {
            "marker":{
             "colorbar":{
              "outlinewidth":0,
              "ticks":""
             }
            },
            "type":"scattercarpet"
           }
          ],
          "scattergeo":[
           {
            "marker":{
             "colorbar":{
              "outlinewidth":0,
              "ticks":""
             }
            },
            "type":"scattergeo"
           }
          ],
          "scattergl":[
           {
            "marker":{
             "colorbar":{
              "outlinewidth":0,
              "ticks":""
             }
            },
            "type":"scattergl"
           }
          ],
          "scattermapbox":[
           {
            "marker":{
             "colorbar":{
              "outlinewidth":0,
              "ticks":""
             }
            },
            "type":"scattermapbox"
           }
          ],
          "scatterpolar":[
           {
            "marker":{
             "colorbar":{
              "outlinewidth":0,
              "ticks":""
             }
            },
            "type":"scatterpolar"
           }
          ],
          "scatterpolargl":[
           {
            "marker":{
             "colorbar":{
              "outlinewidth":0,
              "ticks":""
             }
            },
            "type":"scatterpolargl"
           }
          ],
          "scatterternary":[
           {
            "marker":{
             "colorbar":{
              "outlinewidth":0,
              "ticks":""
             }
            },
            "type":"scatterternary"
           }
          ],
          "surface":[
           {
            "colorbar":{
             "outlinewidth":0,
             "ticks":""
            },
            "colorscale":[
             [
              0,
              "#0d0887"
             ],
             [
              0.1111111111111111,
              "#46039f"
             ],
             [
              0.2222222222222222,
              "#7201a8"
             ],
             [
              0.3333333333333333,
              "#9c179e"
             ],
             [
              0.4444444444444444,
              "#bd3786"
             ],
             [
              0.5555555555555556,
              "#d8576b"
             ],
             [
              0.6666666666666666,
              "#ed7953"
             ],
             [
              0.7777777777777778,
              "#fb9f3a"
             ],
             [
              0.8888888888888888,
              "#fdca26"
             ],
             [
              1,
              "#f0f921"
             ]
            ],
            "type":"surface"
           }
          ],
          "table":[
           {
            "cells":{
             "fill":{
              "color":"#EBF0F8"
             },
             "line":{
              "color":"white"
             }
            },
            "header":{
             "fill":{
              "color":"#C8D4E3"
             },
             "line":{
              "color":"white"
             }
            },
            "type":"table"
           }
          ]
         },
         "layout":{
          "annotationdefaults":{
           "arrowcolor":"#2a3f5f",
           "arrowhead":0,
           "arrowwidth":1
          },
          "autotypenumbers":"strict",
          "coloraxis":{
           "colorbar":{
            "outlinewidth":0,
            "ticks":""
           }
          },
          "colorscale":{
           "diverging":[
            [
             0,
             "#8e0152"
            ],
            [
             0.1,
             "#c51b7d"
            ],
            [
             0.2,
             "#de77ae"
            ],
            [
             0.3,
             "#f1b6da"
            ],
            [
             0.4,
             "#fde0ef"
            ],
            [
             0.5,
             "#f7f7f7"
            ],
            [
             0.6,
             "#e6f5d0"
            ],
            [
             0.7,
             "#b8e186"
            ],
            [
             0.8,
             "#7fbc41"
            ],
            [
             0.9,
             "#4d9221"
            ],
            [
             1,
             "#276419"
            ]
           ],
           "sequential":[
            [
             0,
             "#0d0887"
            ],
            [
             0.1111111111111111,
             "#46039f"
            ],
            [
             0.2222222222222222,
             "#7201a8"
            ],
            [
             0.3333333333333333,
             "#9c179e"
            ],
            [
             0.4444444444444444,
             "#bd3786"
            ],
            [
             0.5555555555555556,
             "#d8576b"
            ],
            [
             0.6666666666666666,
             "#ed7953"
            ],
            [
             0.7777777777777778,
             "#fb9f3a"
            ],
            [
             0.8888888888888888,
             "#fdca26"
            ],
            [
             1,
             "#f0f921"
            ]
           ],
           "sequentialminus":[
            [
             0,
             "#0d0887"
            ],
            [
             0.1111111111111111,
             "#46039f"
            ],
            [
             0.2222222222222222,
             "#7201a8"
            ],
            [
             0.3333333333333333,
             "#9c179e"
            ],
            [
             0.4444444444444444,
             "#bd3786"
            ],
            [
             0.5555555555555556,
             "#d8576b"
            ],
            [
             0.6666666666666666,
             "#ed7953"
            ],
            [
             0.7777777777777778,
             "#fb9f3a"
            ],
            [
             0.8888888888888888,
             "#fdca26"
            ],
            [
             1,
             "#f0f921"
            ]
           ]
          },
          "colorway":[
           "#636efa",
           "#EF553B",
           "#00cc96",
           "#ab63fa",
           "#FFA15A",
           "#19d3f3",
           "#FF6692",
           "#B6E880",
           "#FF97FF",
           "#FECB52"
          ],
          "font":{
           "color":"#2a3f5f"
          },
          "geo":{
           "bgcolor":"white",
           "lakecolor":"white",
           "landcolor":"#E5ECF6",
           "showlakes":true,
           "showland":true,
           "subunitcolor":"white"
          },
          "hoverlabel":{
           "align":"left"
          },
          "hovermode":"closest",
          "mapbox":{
           "style":"light"
          },
          "paper_bgcolor":"white",
          "plot_bgcolor":"#E5ECF6",
          "polar":{
           "angularaxis":{
            "gridcolor":"white",
            "linecolor":"white",
            "ticks":""
           },
           "bgcolor":"#E5ECF6",
           "radialaxis":{
            "gridcolor":"white",
            "linecolor":"white",
            "ticks":""
           }
          },
          "scene":{
           "xaxis":{
            "backgroundcolor":"#E5ECF6",
            "gridcolor":"white",
            "gridwidth":2,
            "linecolor":"white",
            "showbackground":true,
            "ticks":"",
            "zerolinecolor":"white"
           },
           "yaxis":{
            "backgroundcolor":"#E5ECF6",
            "gridcolor":"white",
            "gridwidth":2,
            "linecolor":"white",
            "showbackground":true,
            "ticks":"",
            "zerolinecolor":"white"
           },
           "zaxis":{
            "backgroundcolor":"#E5ECF6",
            "gridcolor":"white",
            "gridwidth":2,
            "linecolor":"white",
            "showbackground":true,
            "ticks":"",
            "zerolinecolor":"white"
           }
          },
          "shapedefaults":{
           "line":{
            "color":"#2a3f5f"
           }
          },
          "ternary":{
           "aaxis":{
            "gridcolor":"white",
            "linecolor":"white",
            "ticks":""
           },
           "baxis":{
            "gridcolor":"white",
            "linecolor":"white",
            "ticks":""
           },
           "bgcolor":"#E5ECF6",
           "caxis":{
            "gridcolor":"white",
            "linecolor":"white",
            "ticks":""
           }
          },
          "title":{
           "x":0.05
          },
          "xaxis":{
           "automargin":true,
           "gridcolor":"white",
           "linecolor":"white",
           "ticks":"",
           "title":{
            "standoff":15
           },
           "zerolinecolor":"white",
           "zerolinewidth":2
          },
          "yaxis":{
           "automargin":true,
           "gridcolor":"white",
           "linecolor":"white",
           "ticks":"",
           "title":{
            "standoff":15
           },
           "zerolinecolor":"white",
           "zerolinewidth":2
          }
         }
        },
        "geo":{
         "domain":{
          "x":[
           0,
           1
          ],
          "y":[
           0,
           1
          ]
         },
         "center":{
          
         }
        },
        "coloraxis":{
         "colorbar":{
          "title":{
           "text":"2022"
          }
         },
         "colorscale":[
          [
           0,
           "#0d0887"
          ],
          [
           0.1111111111111111,
           "#46039f"
          ],
          [
           0.2222222222222222,
           "#7201a8"
          ],
          [
           0.3333333333333333,
           "#9c179e"
          ],
          [
           0.4444444444444444,
           "#bd3786"
          ],
          [
           0.5555555555555556,
           "#d8576b"
          ],
          [
           0.6666666666666666,
           "#ed7953"
          ],
          [
           0.7777777777777778,
           "#fb9f3a"
          ],
          [
           0.8888888888888888,
           "#fdca26"
          ],
          [
           1,
           "#f0f921"
          ]
         ]
        },
        "legend":{
         "tracegroupgap":0
        },
        "margin":{
         "t":60
        },
        "title":{
         "pad":{
          "l":700
         },
         "text":"Gross Domestic Product 2022"
        }
       },
       "config":{
        "plotlyServerURL":"https:\/\/plot.ly"
       }
      }
     },
     "metadata":{
      
     },
     "output_type":"display_data"
    }
   ],
   "metadata":{
    "datalore":{
     "type":"CODE",
     "hide_input_from_viewers":false,
     "hide_output_from_viewers":false,
     "node_id":"yObEBdibymDF3S02LklTmR"
    }
   }
  },
  {
   "cell_type":"markdown",
   "source":[
    "### Logarithmic scale"
   ],
   "attachments":{
    
   },
   "metadata":{
    "datalore":{
     "type":"MD",
     "hide_input_from_viewers":false,
     "hide_output_from_viewers":false,
     "node_id":"7INNnqAPGNDkTaOqOQcfuh"
    }
   }
  },
  {
   "cell_type":"code",
   "source":[
    "# plot it in logarithmic scale for better visualization.\n",
    "ds[\"log\"] = ds[year].apply(lambda x: np.log(x))\n",
    "\n",
    "fig = px.choropleth(ds, locations=\"iso_alpha\",\n",
    "                    color=\"log\",\n",
    "                    hover_name=\"Country\",\n",
    "                    color_continuous_scale=px.colors.sequential.Plasma)\n",
    "fig.update_layout(\n",
    "    title_text = f'Gross Domestic Product {year}',\n",
    "    title_pad={\"l\":700}\n",
    ")\n",
    "\n",
    "fig.show()"
   ],
   "execution_count":73,
   "outputs":[
    {
     "data":{
      "application\/vnd.plotly.v1+json":{
       "data":[
        {
         "coloraxis":"coloraxis",
         "geo":"geo",
         "hovertemplate":"<b>%{hovertext}<\/b><br><br>iso_alpha=%{location}<br>log=%{z}<extra><\/extra>",
         "hovertext":[
          "Afghanistan, Rep. of.",
          "Albania",
          "Algeria",
          "Angola",
          "Antigua and Barbuda",
          "Argentina",
          "Armenia",
          "Australia",
          "Austria",
          "Azerbaijan",
          "Bahamas, The",
          "Bahrain",
          "Bangladesh",
          "Barbados",
          "Belarus",
          "Belgium",
          "Belize",
          "Benin",
          "Bhutan",
          "Bolivia",
          "Bosnia and Herzegovina",
          "Botswana",
          "Brazil",
          "Brunei Darussalam",
          "Bulgaria",
          "Burkina Faso",
          "Burundi",
          "Cambodia",
          "Cameroon",
          "Canada",
          "Cape Verde",
          "Central African Republic",
          "Chad",
          "Chile",
          "China",
          "Colombia",
          "Comoros",
          "Congo, Democratic Republic of",
          "Congo, Republic of",
          "Costa Rica",
          "Côte d'Ivoire",
          "Croatia",
          "Cyprus",
          "Czech Republic",
          "Denmark",
          "Djibouti",
          "Dominica",
          "Dominican Republic",
          "Ecuador",
          "Egypt",
          "El Salvador",
          "Equatorial Guinea",
          "Eritrea",
          "Estonia",
          "Ethiopia",
          "Fiji",
          "Finland",
          "France",
          "Gabon",
          "Gambia, The",
          "Georgia",
          "Germany",
          "Ghana",
          "Greece",
          "Grenada",
          "Guatemala",
          "Guinea",
          "Guinea-Bissau",
          "Guyana",
          "Haiti",
          "Honduras",
          "Hong Kong SAR",
          "Hungary",
          "Iceland",
          "India",
          "Indonesia",
          "Iran, Islamic Republic of",
          "Ireland",
          "Israel",
          "Italy",
          "Jamaica",
          "Japan",
          "Jordan",
          "Kazakhstan",
          "Kenya",
          "Kiribati",
          "Korea",
          "Kuwait",
          "Kyrgyz Republic",
          "Lao People's Democratic Republic",
          "Latvia",
          "Lebanon",
          "Lesotho",
          "Liberia",
          "Libya",
          "Lithuania",
          "Luxembourg",
          "Macedonia, Former Yugoslav Republic of",
          "Madagascar",
          "Malawi",
          "Malaysia",
          "Maldives",
          "Mali",
          "Malta",
          "Mauritania",
          "Mauritius",
          "Mexico",
          "Moldova",
          "Mongolia",
          "Morocco",
          "Mozambique",
          "Myanmar",
          "Namibia",
          "Nepal",
          "Netherlands",
          "New Zealand",
          "Nicaragua",
          "Niger",
          "Nigeria",
          "Norway",
          "Oman",
          "Pakistan",
          "Panama",
          "Papua New Guinea",
          "Paraguay",
          "Peru",
          "Philippines",
          "Poland",
          "Portugal",
          "Qatar",
          "Romania",
          "Russia",
          "Rwanda",
          "Samoa",
          "São Tomé and Príncipe",
          "Saudi Arabia",
          "Senegal",
          "Serbia",
          "Seychelles",
          "Sierra Leone",
          "Singapore",
          "Slovak Republic",
          "Slovenia",
          "Solomon Islands",
          "South Africa",
          "Spain",
          "Sri Lanka",
          "St. Kitts and Nevis",
          "St. Lucia",
          "St. Vincent and the Grenadines",
          "Sudan",
          "Suriname",
          "Swaziland",
          "Sweden",
          "Switzerland",
          "Syrian Arab Republic",
          "Taiwan Province of China",
          "Tajikistan",
          "Tanzania",
          "Thailand",
          "Timor-Leste, Dem. Rep. of",
          "Togo",
          "Tonga",
          "Trinidad and Tobago",
          "Tunisia",
          "Turkey",
          "Turkmenistan",
          "Uganda",
          "Ukraine",
          "United Arab Emirates",
          "United Kingdom",
          "United States",
          "Uruguay",
          "Uzbekistan",
          "Vanuatu",
          "Venezuela",
          "Vietnam",
          "Yemen, Republic of",
          "Zambia",
          "Zimbabwe"
         ],
         "locations":[
          null,
          "ALB",
          "DZA",
          "AGO",
          "ATG",
          "ARG",
          "ARM",
          "AUS",
          "AUT",
          "AZE",
          null,
          "BHR",
          "BGD",
          "BRB",
          "BLR",
          "BEL",
          "BLZ",
          "BEN",
          "BTN",
          null,
          "BIH",
          "BWA",
          "BRA",
          "BRN",
          "BGR",
          "BFA",
          "BDI",
          "KHM",
          "CMR",
          "CAN",
          "CPV",
          "CAF",
          "TCD",
          "CHL",
          "CHN",
          "COL",
          "COM",
          null,
          null,
          "CRI",
          "CIV",
          "HRV",
          "CYP",
          "CZE",
          "DNK",
          "DJI",
          "DMA",
          "DOM",
          "ECU",
          "EGY",
          "SLV",
          "GNQ",
          "ERI",
          "EST",
          "ETH",
          "FJI",
          "FIN",
          "FRA",
          "GAB",
          null,
          "GEO",
          "DEU",
          "GHA",
          "GRC",
          "GRD",
          "GTM",
          "GIN",
          "GNB",
          "GUY",
          "HTI",
          "HND",
          null,
          "HUN",
          "ISL",
          "IND",
          "IDN",
          "IRN",
          "IRL",
          "ISR",
          "ITA",
          "JAM",
          "JPN",
          "JOR",
          "KAZ",
          "KEN",
          "KIR",
          null,
          "KWT",
          null,
          "LAO",
          "LVA",
          "LBN",
          "LSO",
          "LBR",
          null,
          "LTU",
          "LUX",
          null,
          "MDG",
          "MWI",
          "MYS",
          "MDV",
          "MLI",
          "MLT",
          "MRT",
          "MUS",
          "MEX",
          null,
          "MNG",
          "MAR",
          "MOZ",
          "MMR",
          "NAM",
          "NPL",
          "NLD",
          "NZL",
          "NIC",
          "NER",
          "NGA",
          "NOR",
          "OMN",
          "PAK",
          "PAN",
          "PNG",
          "PRY",
          "PER",
          "PHL",
          "POL",
          "PRT",
          "QAT",
          "ROU",
          null,
          "RWA",
          "WSM",
          null,
          "SAU",
          "SEN",
          "SRB",
          "SYC",
          "SLE",
          "SGP",
          null,
          "SVN",
          "SLB",
          "ZAF",
          "ESP",
          "LKA",
          null,
          null,
          null,
          "SDN",
          "SUR",
          "SWZ",
          "SWE",
          "CHE",
          "SYR",
          null,
          "TJK",
          null,
          "THA",
          null,
          "TGO",
          "TON",
          "TTO",
          "TUN",
          "TUR",
          "TKM",
          "UGA",
          "UKR",
          "ARE",
          "GBR",
          "USA",
          "URY",
          "UZB",
          "VUT",
          null,
          null,
          null,
          "ZMB",
          "ZWE"
         ],
         "name":"",
         "z":[
          null,
          2.8910382024393253,
          5.125124020580953,
          4.316861250432017,
          0.42787870294506447,
          6.181599251615199,
          2.7120422223717475,
          7.425030062142307,
          6.254488209509478,
          4.002320643408926,
          null,
          3.7149613451124375,
          5.967704499543643,
          1.637442108843698,
          4.257483299599281,
          6.4283637207056765,
          0.7236763855947681,
          2.991573638405132,
          1.007957920399979,
          3.7110078061869376,
          3.1357550514738186,
          2.944544236784558,
          7.501419084057128,
          2.788892588946311,
          4.4344767596748005,
          3.085892853261948,
          1.2225982684491008,
          3.331668652343323,
          3.8772244998854504,
          7.691560927801808,
          null,
          1.0285474142198228,
          2.561327421548119,
          5.865515762284875,
          9.8235310494802,
          5.7660997807210626,
          0.30968815271439554,
          null,
          null,
          4.164709824882664,
          4.318487613869394,
          4.227198642188849,
          3.3425437328683123,
          5.710628983733258,
          6.0271935945622275,
          1.3691482022849202,
          -0.4652151125139384,
          4.578528425041656,
          4.700253067234783,
          6.083013115460025,
          3.3781334420636036,
          2.4910543803742344,
          0.9098701640712323,
          3.6773633981526888,
          null,
          1.6114359150967734,
          5.751104895550599,
          8.051987632996786,
          2.9771608879685556,
          null,
          2.980009313088755,
          8.424496593230051,
          4.406938735370098,
          5.415629180085603,
          0.14842000511827322,
          4.491037977943141,
          2.902684532503918,
          0.5429055172294024,
          2.2861507865306208,
          2.9351857736859572,
          3.3294507219785827,
          5.966087763025662,
          5.293264622911385,
          3.3021870313290553,
          8.086434890405444,
          7.128776579915246,
          null,
          6.310859653175865,
          6.217422135303824,
          7.7285346108085315,
          2.749192144433385,
          8.59112743419417,
          3.8607297110405954,
          5.316481397175706,
          4.7591008416118,
          -1.40649706843741,
          7.553632639064259,
          4.932889945471403,
          2.189192405638955,
          null,
          3.709417105331484,
          null,
          0.9524297784900283,
          1.2985554468118838,
          3.374237200079372,
          4.214480383462082,
          4.496281230479144,
          null,
          2.734497371117058,
          2.4855730943311607,
          6.029181726674758,
          1.6669518186347072,
          3.0568744084962285,
          2.9019159773497063,
          2.233877894984255,
          2.4810659504020625,
          7.2237623831848214,
          2.5888912192658955,
          2.761906873892921,
          4.887676386695809,
          2.8189354274027365,
          4.143959782764296,
          2.574290210922686,
          3.5917075423616627,
          6.97611461649548,
          5.589627848353821,
          2.635336128813405,
          2.8484496214045523,
          6.3195913429222035,
          6.127737802389267,
          4.451074504648388,
          null,
          4.164585543384912,
          3.343215099123808,
          3.6686002132555555,
          5.445404587352014,
          6.006616671677405,
          6.579737205007482,
          5.60282336967487,
          5.197850413413776,
          5.752178910531169,
          7.440457847747244,
          2.4010720397086995,
          -0.2131932204610416,
          -0.5568695622673976,
          6.775535026437676,
          3.4024965373937754,
          4.185053262347563,
          0.5601870533037148,
          1.523226215615035,
          5.983923686149441,
          4.848092834909895,
          4.181668390393775,
          0.5866749360494286,
          6.075833268691002,
          7.3594103482632125,
          4.422628604990587,
          0.08801087732271337,
          0.6921466802263617,
          -0.15665381004537685,
          3.6314886603346843,
          1.077388652216483,
          null,
          6.49362977769336,
          6.760204935598451,
          null,
          6.745857333104706,
          2.1697391796606165,
          4.311282230148124,
          6.3726130552574975,
          null,
          2.236124726293776,
          -0.616186139423817,
          3.1390530929982132,
          3.8167008255518207,
          6.738784995946599,
          4.098718316731131,
          3.8501476017100584,
          5.317752279186644,
          6.058959630803939,
          8.14386898595048,
          10.118440855143433,
          4.154827997601611,
          4.2871938409027095,
          0.058268908123975824,
          3.773817850630127,
          6.029465766981506,
          null,
          3.1766778841680146,
          3.3252518247473515
         ],
         "type":"choropleth"
        }
       ],
       "layout":{
        "template":{
         "data":{
          "bar":[
           {
            "error_x":{
             "color":"#2a3f5f"
            },
            "error_y":{
             "color":"#2a3f5f"
            },
            "marker":{
             "line":{
              "color":"#E5ECF6",
              "width":0.5
             },
             "pattern":{
              "fillmode":"overlay",
              "size":10,
              "solidity":0.2
             }
            },
            "type":"bar"
           }
          ],
          "barpolar":[
           {
            "marker":{
             "line":{
              "color":"#E5ECF6",
              "width":0.5
             },
             "pattern":{
              "fillmode":"overlay",
              "size":10,
              "solidity":0.2
             }
            },
            "type":"barpolar"
           }
          ],
          "carpet":[
           {
            "aaxis":{
             "endlinecolor":"#2a3f5f",
             "gridcolor":"white",
             "linecolor":"white",
             "minorgridcolor":"white",
             "startlinecolor":"#2a3f5f"
            },
            "baxis":{
             "endlinecolor":"#2a3f5f",
             "gridcolor":"white",
             "linecolor":"white",
             "minorgridcolor":"white",
             "startlinecolor":"#2a3f5f"
            },
            "type":"carpet"
           }
          ],
          "choropleth":[
           {
            "colorbar":{
             "outlinewidth":0,
             "ticks":""
            },
            "type":"choropleth"
           }
          ],
          "contour":[
           {
            "colorbar":{
             "outlinewidth":0,
             "ticks":""
            },
            "colorscale":[
             [
              0,
              "#0d0887"
             ],
             [
              0.1111111111111111,
              "#46039f"
             ],
             [
              0.2222222222222222,
              "#7201a8"
             ],
             [
              0.3333333333333333,
              "#9c179e"
             ],
             [
              0.4444444444444444,
              "#bd3786"
             ],
             [
              0.5555555555555556,
              "#d8576b"
             ],
             [
              0.6666666666666666,
              "#ed7953"
             ],
             [
              0.7777777777777778,
              "#fb9f3a"
             ],
             [
              0.8888888888888888,
              "#fdca26"
             ],
             [
              1,
              "#f0f921"
             ]
            ],
            "type":"contour"
           }
          ],
          "contourcarpet":[
           {
            "colorbar":{
             "outlinewidth":0,
             "ticks":""
            },
            "type":"contourcarpet"
           }
          ],
          "heatmap":[
           {
            "colorbar":{
             "outlinewidth":0,
             "ticks":""
            },
            "colorscale":[
             [
              0,
              "#0d0887"
             ],
             [
              0.1111111111111111,
              "#46039f"
             ],
             [
              0.2222222222222222,
              "#7201a8"
             ],
             [
              0.3333333333333333,
              "#9c179e"
             ],
             [
              0.4444444444444444,
              "#bd3786"
             ],
             [
              0.5555555555555556,
              "#d8576b"
             ],
             [
              0.6666666666666666,
              "#ed7953"
             ],
             [
              0.7777777777777778,
              "#fb9f3a"
             ],
             [
              0.8888888888888888,
              "#fdca26"
             ],
             [
              1,
              "#f0f921"
             ]
            ],
            "type":"heatmap"
           }
          ],
          "heatmapgl":[
           {
            "colorbar":{
             "outlinewidth":0,
             "ticks":""
            },
            "colorscale":[
             [
              0,
              "#0d0887"
             ],
             [
              0.1111111111111111,
              "#46039f"
             ],
             [
              0.2222222222222222,
              "#7201a8"
             ],
             [
              0.3333333333333333,
              "#9c179e"
             ],
             [
              0.4444444444444444,
              "#bd3786"
             ],
             [
              0.5555555555555556,
              "#d8576b"
             ],
             [
              0.6666666666666666,
              "#ed7953"
             ],
             [
              0.7777777777777778,
              "#fb9f3a"
             ],
             [
              0.8888888888888888,
              "#fdca26"
             ],
             [
              1,
              "#f0f921"
             ]
            ],
            "type":"heatmapgl"
           }
          ],
          "histogram":[
           {
            "marker":{
             "pattern":{
              "fillmode":"overlay",
              "size":10,
              "solidity":0.2
             }
            },
            "type":"histogram"
           }
          ],
          "histogram2d":[
           {
            "colorbar":{
             "outlinewidth":0,
             "ticks":""
            },
            "colorscale":[
             [
              0,
              "#0d0887"
             ],
             [
              0.1111111111111111,
              "#46039f"
             ],
             [
              0.2222222222222222,
              "#7201a8"
             ],
             [
              0.3333333333333333,
              "#9c179e"
             ],
             [
              0.4444444444444444,
              "#bd3786"
             ],
             [
              0.5555555555555556,
              "#d8576b"
             ],
             [
              0.6666666666666666,
              "#ed7953"
             ],
             [
              0.7777777777777778,
              "#fb9f3a"
             ],
             [
              0.8888888888888888,
              "#fdca26"
             ],
             [
              1,
              "#f0f921"
             ]
            ],
            "type":"histogram2d"
           }
          ],
          "histogram2dcontour":[
           {
            "colorbar":{
             "outlinewidth":0,
             "ticks":""
            },
            "colorscale":[
             [
              0,
              "#0d0887"
             ],
             [
              0.1111111111111111,
              "#46039f"
             ],
             [
              0.2222222222222222,
              "#7201a8"
             ],
             [
              0.3333333333333333,
              "#9c179e"
             ],
             [
              0.4444444444444444,
              "#bd3786"
             ],
             [
              0.5555555555555556,
              "#d8576b"
             ],
             [
              0.6666666666666666,
              "#ed7953"
             ],
             [
              0.7777777777777778,
              "#fb9f3a"
             ],
             [
              0.8888888888888888,
              "#fdca26"
             ],
             [
              1,
              "#f0f921"
             ]
            ],
            "type":"histogram2dcontour"
           }
          ],
          "mesh3d":[
           {
            "colorbar":{
             "outlinewidth":0,
             "ticks":""
            },
            "type":"mesh3d"
           }
          ],
          "parcoords":[
           {
            "line":{
             "colorbar":{
              "outlinewidth":0,
              "ticks":""
             }
            },
            "type":"parcoords"
           }
          ],
          "pie":[
           {
            "automargin":true,
            "type":"pie"
           }
          ],
          "scatter":[
           {
            "marker":{
             "colorbar":{
              "outlinewidth":0,
              "ticks":""
             }
            },
            "type":"scatter"
           }
          ],
          "scatter3d":[
           {
            "line":{
             "colorbar":{
              "outlinewidth":0,
              "ticks":""
             }
            },
            "marker":{
             "colorbar":{
              "outlinewidth":0,
              "ticks":""
             }
            },
            "type":"scatter3d"
           }
          ],
          "scattercarpet":[
           {
            "marker":{
             "colorbar":{
              "outlinewidth":0,
              "ticks":""
             }
            },
            "type":"scattercarpet"
           }
          ],
          "scattergeo":[
           {
            "marker":{
             "colorbar":{
              "outlinewidth":0,
              "ticks":""
             }
            },
            "type":"scattergeo"
           }
          ],
          "scattergl":[
           {
            "marker":{
             "colorbar":{
              "outlinewidth":0,
              "ticks":""
             }
            },
            "type":"scattergl"
           }
          ],
          "scattermapbox":[
           {
            "marker":{
             "colorbar":{
              "outlinewidth":0,
              "ticks":""
             }
            },
            "type":"scattermapbox"
           }
          ],
          "scatterpolar":[
           {
            "marker":{
             "colorbar":{
              "outlinewidth":0,
              "ticks":""
             }
            },
            "type":"scatterpolar"
           }
          ],
          "scatterpolargl":[
           {
            "marker":{
             "colorbar":{
              "outlinewidth":0,
              "ticks":""
             }
            },
            "type":"scatterpolargl"
           }
          ],
          "scatterternary":[
           {
            "marker":{
             "colorbar":{
              "outlinewidth":0,
              "ticks":""
             }
            },
            "type":"scatterternary"
           }
          ],
          "surface":[
           {
            "colorbar":{
             "outlinewidth":0,
             "ticks":""
            },
            "colorscale":[
             [
              0,
              "#0d0887"
             ],
             [
              0.1111111111111111,
              "#46039f"
             ],
             [
              0.2222222222222222,
              "#7201a8"
             ],
             [
              0.3333333333333333,
              "#9c179e"
             ],
             [
              0.4444444444444444,
              "#bd3786"
             ],
             [
              0.5555555555555556,
              "#d8576b"
             ],
             [
              0.6666666666666666,
              "#ed7953"
             ],
             [
              0.7777777777777778,
              "#fb9f3a"
             ],
             [
              0.8888888888888888,
              "#fdca26"
             ],
             [
              1,
              "#f0f921"
             ]
            ],
            "type":"surface"
           }
          ],
          "table":[
           {
            "cells":{
             "fill":{
              "color":"#EBF0F8"
             },
             "line":{
              "color":"white"
             }
            },
            "header":{
             "fill":{
              "color":"#C8D4E3"
             },
             "line":{
              "color":"white"
             }
            },
            "type":"table"
           }
          ]
         },
         "layout":{
          "annotationdefaults":{
           "arrowcolor":"#2a3f5f",
           "arrowhead":0,
           "arrowwidth":1
          },
          "autotypenumbers":"strict",
          "coloraxis":{
           "colorbar":{
            "outlinewidth":0,
            "ticks":""
           }
          },
          "colorscale":{
           "diverging":[
            [
             0,
             "#8e0152"
            ],
            [
             0.1,
             "#c51b7d"
            ],
            [
             0.2,
             "#de77ae"
            ],
            [
             0.3,
             "#f1b6da"
            ],
            [
             0.4,
             "#fde0ef"
            ],
            [
             0.5,
             "#f7f7f7"
            ],
            [
             0.6,
             "#e6f5d0"
            ],
            [
             0.7,
             "#b8e186"
            ],
            [
             0.8,
             "#7fbc41"
            ],
            [
             0.9,
             "#4d9221"
            ],
            [
             1,
             "#276419"
            ]
           ],
           "sequential":[
            [
             0,
             "#0d0887"
            ],
            [
             0.1111111111111111,
             "#46039f"
            ],
            [
             0.2222222222222222,
             "#7201a8"
            ],
            [
             0.3333333333333333,
             "#9c179e"
            ],
            [
             0.4444444444444444,
             "#bd3786"
            ],
            [
             0.5555555555555556,
             "#d8576b"
            ],
            [
             0.6666666666666666,
             "#ed7953"
            ],
            [
             0.7777777777777778,
             "#fb9f3a"
            ],
            [
             0.8888888888888888,
             "#fdca26"
            ],
            [
             1,
             "#f0f921"
            ]
           ],
           "sequentialminus":[
            [
             0,
             "#0d0887"
            ],
            [
             0.1111111111111111,
             "#46039f"
            ],
            [
             0.2222222222222222,
             "#7201a8"
            ],
            [
             0.3333333333333333,
             "#9c179e"
            ],
            [
             0.4444444444444444,
             "#bd3786"
            ],
            [
             0.5555555555555556,
             "#d8576b"
            ],
            [
             0.6666666666666666,
             "#ed7953"
            ],
            [
             0.7777777777777778,
             "#fb9f3a"
            ],
            [
             0.8888888888888888,
             "#fdca26"
            ],
            [
             1,
             "#f0f921"
            ]
           ]
          },
          "colorway":[
           "#636efa",
           "#EF553B",
           "#00cc96",
           "#ab63fa",
           "#FFA15A",
           "#19d3f3",
           "#FF6692",
           "#B6E880",
           "#FF97FF",
           "#FECB52"
          ],
          "font":{
           "color":"#2a3f5f"
          },
          "geo":{
           "bgcolor":"white",
           "lakecolor":"white",
           "landcolor":"#E5ECF6",
           "showlakes":true,
           "showland":true,
           "subunitcolor":"white"
          },
          "hoverlabel":{
           "align":"left"
          },
          "hovermode":"closest",
          "mapbox":{
           "style":"light"
          },
          "paper_bgcolor":"white",
          "plot_bgcolor":"#E5ECF6",
          "polar":{
           "angularaxis":{
            "gridcolor":"white",
            "linecolor":"white",
            "ticks":""
           },
           "bgcolor":"#E5ECF6",
           "radialaxis":{
            "gridcolor":"white",
            "linecolor":"white",
            "ticks":""
           }
          },
          "scene":{
           "xaxis":{
            "backgroundcolor":"#E5ECF6",
            "gridcolor":"white",
            "gridwidth":2,
            "linecolor":"white",
            "showbackground":true,
            "ticks":"",
            "zerolinecolor":"white"
           },
           "yaxis":{
            "backgroundcolor":"#E5ECF6",
            "gridcolor":"white",
            "gridwidth":2,
            "linecolor":"white",
            "showbackground":true,
            "ticks":"",
            "zerolinecolor":"white"
           },
           "zaxis":{
            "backgroundcolor":"#E5ECF6",
            "gridcolor":"white",
            "gridwidth":2,
            "linecolor":"white",
            "showbackground":true,
            "ticks":"",
            "zerolinecolor":"white"
           }
          },
          "shapedefaults":{
           "line":{
            "color":"#2a3f5f"
           }
          },
          "ternary":{
           "aaxis":{
            "gridcolor":"white",
            "linecolor":"white",
            "ticks":""
           },
           "baxis":{
            "gridcolor":"white",
            "linecolor":"white",
            "ticks":""
           },
           "bgcolor":"#E5ECF6",
           "caxis":{
            "gridcolor":"white",
            "linecolor":"white",
            "ticks":""
           }
          },
          "title":{
           "x":0.05
          },
          "xaxis":{
           "automargin":true,
           "gridcolor":"white",
           "linecolor":"white",
           "ticks":"",
           "title":{
            "standoff":15
           },
           "zerolinecolor":"white",
           "zerolinewidth":2
          },
          "yaxis":{
           "automargin":true,
           "gridcolor":"white",
           "linecolor":"white",
           "ticks":"",
           "title":{
            "standoff":15
           },
           "zerolinecolor":"white",
           "zerolinewidth":2
          }
         }
        },
        "geo":{
         "domain":{
          "x":[
           0,
           1
          ],
          "y":[
           0,
           1
          ]
         },
         "center":{
          
         }
        },
        "coloraxis":{
         "colorbar":{
          "title":{
           "text":"log"
          }
         },
         "colorscale":[
          [
           0,
           "#0d0887"
          ],
          [
           0.1111111111111111,
           "#46039f"
          ],
          [
           0.2222222222222222,
           "#7201a8"
          ],
          [
           0.3333333333333333,
           "#9c179e"
          ],
          [
           0.4444444444444444,
           "#bd3786"
          ],
          [
           0.5555555555555556,
           "#d8576b"
          ],
          [
           0.6666666666666666,
           "#ed7953"
          ],
          [
           0.7777777777777778,
           "#fb9f3a"
          ],
          [
           0.8888888888888888,
           "#fdca26"
          ],
          [
           1,
           "#f0f921"
          ]
         ]
        },
        "legend":{
         "tracegroupgap":0
        },
        "margin":{
         "t":60
        },
        "title":{
         "pad":{
          "l":700
         },
         "text":"Gross Domestic Product 2022"
        }
       },
       "config":{
        "plotlyServerURL":"https:\/\/plot.ly"
       }
      }
     },
     "metadata":{
      
     },
     "output_type":"display_data"
    }
   ],
   "metadata":{
    "datalore":{
     "type":"CODE",
     "hide_input_from_viewers":false,
     "hide_output_from_viewers":false,
     "node_id":"iPwDyN23nxu955JEYN1oJq"
    }
   }
  },
  {
   "cell_type":"code",
   "source":[
    
   ],
   "execution_count":null,
   "outputs":[
    
   ],
   "metadata":{
    "datalore":{
     "type":"CODE",
     "hide_input_from_viewers":false,
     "hide_output_from_viewers":false,
     "node_id":"kEjkYqGZPNDTGSxRi5TydZ"
    }
   }
  }
 ],
 "metadata":{
  "kernelspec":{
   "display_name":"Python",
   "language":"python",
   "name":"python"
  },
  "datalore":{
   "version":1,
   "computation_mode":"JUPYTER",
   "package_manager":"pip",
   "base_environment":"default",
   "packages":[
    
   ]
  }
 },
 "nbformat":4,
 "nbformat_minor":4
}