{
 "cells":[
  {
   "cell_type":"code",
   "source":[
    "import pandas as pd\n",
    "import numpy as np\n",
    "import matplotlib.pyplot as plt"
   ],
   "execution_count":20,
   "outputs":[
    
   ],
   "metadata":{
    "datalore":{
     "type":"CODE",
     "hide_input_from_viewers":false,
     "hide_output_from_viewers":false,
     "node_id":"Kj3hVgNmh7IZ5NsYKsbk22"
    }
   }
  },
  {
   "cell_type":"code",
   "source":[
    "df = pd.read_csv(\n",
    "    'https:\/\/archive.ics.uci.edu\/ml\/machine-learning-databases\/wine\/wine.data',\n",
    "    header=None\n",
    "    )"
   ],
   "execution_count":32,
   "outputs":[
    
   ],
   "metadata":{
    "datalore":{
     "type":"CODE",
     "hide_input_from_viewers":false,
     "hide_output_from_viewers":false,
     "node_id":"VPEOUkTXrScSobioD5Q2pJ"
    }
   }
  },
  {
   "cell_type":"code",
   "source":[
    "df.shape"
   ],
   "execution_count":33,
   "outputs":[
    {
     "data":{
      "text\/plain":[
       "(178, 14)"
      ]
     },
     "metadata":{
      
     },
     "output_type":"display_data"
    }
   ],
   "metadata":{
    "datalore":{
     "type":"CODE",
     "hide_input_from_viewers":false,
     "hide_output_from_viewers":false,
     "node_id":"Xq4GVa2M7vmn9hcnmyuoZ6"
    }
   }
  },
  {
   "cell_type":"code",
   "source":[
    "df.head()"
   ],
   "execution_count":34,
   "outputs":[
    {
     "data":{
      "text\/html":[
       "<div>\n",
       "<style scoped>\n",
       "    .dataframe tbody tr th:only-of-type {\n",
       "        vertical-align: middle;\n",
       "    }\n",
       "\n",
       "    .dataframe tbody tr th {\n",
       "        vertical-align: top;\n",
       "    }\n",
       "\n",
       "    .dataframe thead th {\n",
       "        text-align: right;\n",
       "    }\n",
       "<\/style>\n",
       "<table border=\"1\" class=\"dataframe\">\n",
       "  <thead>\n",
       "    <tr style=\"text-align: right;\">\n",
       "      <th><\/th>\n",
       "      <th>0<\/th>\n",
       "      <th>1<\/th>\n",
       "      <th>2<\/th>\n",
       "      <th>3<\/th>\n",
       "      <th>4<\/th>\n",
       "      <th>5<\/th>\n",
       "      <th>6<\/th>\n",
       "      <th>7<\/th>\n",
       "      <th>8<\/th>\n",
       "      <th>9<\/th>\n",
       "      <th>10<\/th>\n",
       "      <th>11<\/th>\n",
       "      <th>12<\/th>\n",
       "      <th>13<\/th>\n",
       "    <\/tr>\n",
       "  <\/thead>\n",
       "  <tbody>\n",
       "    <tr>\n",
       "      <th>0<\/th>\n",
       "      <td>1<\/td>\n",
       "      <td>14.23<\/td>\n",
       "      <td>1.71<\/td>\n",
       "      <td>2.43<\/td>\n",
       "      <td>15.6<\/td>\n",
       "      <td>127<\/td>\n",
       "      <td>2.80<\/td>\n",
       "      <td>3.06<\/td>\n",
       "      <td>0.28<\/td>\n",
       "      <td>2.29<\/td>\n",
       "      <td>5.64<\/td>\n",
       "      <td>1.04<\/td>\n",
       "      <td>3.92<\/td>\n",
       "      <td>1065<\/td>\n",
       "    <\/tr>\n",
       "    <tr>\n",
       "      <th>1<\/th>\n",
       "      <td>1<\/td>\n",
       "      <td>13.20<\/td>\n",
       "      <td>1.78<\/td>\n",
       "      <td>2.14<\/td>\n",
       "      <td>11.2<\/td>\n",
       "      <td>100<\/td>\n",
       "      <td>2.65<\/td>\n",
       "      <td>2.76<\/td>\n",
       "      <td>0.26<\/td>\n",
       "      <td>1.28<\/td>\n",
       "      <td>4.38<\/td>\n",
       "      <td>1.05<\/td>\n",
       "      <td>3.40<\/td>\n",
       "      <td>1050<\/td>\n",
       "    <\/tr>\n",
       "    <tr>\n",
       "      <th>2<\/th>\n",
       "      <td>1<\/td>\n",
       "      <td>13.16<\/td>\n",
       "      <td>2.36<\/td>\n",
       "      <td>2.67<\/td>\n",
       "      <td>18.6<\/td>\n",
       "      <td>101<\/td>\n",
       "      <td>2.80<\/td>\n",
       "      <td>3.24<\/td>\n",
       "      <td>0.30<\/td>\n",
       "      <td>2.81<\/td>\n",
       "      <td>5.68<\/td>\n",
       "      <td>1.03<\/td>\n",
       "      <td>3.17<\/td>\n",
       "      <td>1185<\/td>\n",
       "    <\/tr>\n",
       "    <tr>\n",
       "      <th>3<\/th>\n",
       "      <td>1<\/td>\n",
       "      <td>14.37<\/td>\n",
       "      <td>1.95<\/td>\n",
       "      <td>2.50<\/td>\n",
       "      <td>16.8<\/td>\n",
       "      <td>113<\/td>\n",
       "      <td>3.85<\/td>\n",
       "      <td>3.49<\/td>\n",
       "      <td>0.24<\/td>\n",
       "      <td>2.18<\/td>\n",
       "      <td>7.80<\/td>\n",
       "      <td>0.86<\/td>\n",
       "      <td>3.45<\/td>\n",
       "      <td>1480<\/td>\n",
       "    <\/tr>\n",
       "    <tr>\n",
       "      <th>4<\/th>\n",
       "      <td>1<\/td>\n",
       "      <td>13.24<\/td>\n",
       "      <td>2.59<\/td>\n",
       "      <td>2.87<\/td>\n",
       "      <td>21.0<\/td>\n",
       "      <td>118<\/td>\n",
       "      <td>2.80<\/td>\n",
       "      <td>2.69<\/td>\n",
       "      <td>0.39<\/td>\n",
       "      <td>1.82<\/td>\n",
       "      <td>4.32<\/td>\n",
       "      <td>1.04<\/td>\n",
       "      <td>2.93<\/td>\n",
       "      <td>735<\/td>\n",
       "    <\/tr>\n",
       "  <\/tbody>\n",
       "<\/table>\n",
       "<\/div>"
      ]
     },
     "metadata":{
      
     },
     "output_type":"display_data"
    }
   ],
   "metadata":{
    "datalore":{
     "type":"CODE",
     "hide_input_from_viewers":false,
     "hide_output_from_viewers":false,
     "node_id":"LGi0DUhyCCXGgGvcwbW7jb"
    }
   }
  },
  {
   "cell_type":"code",
   "source":[
    "# create train and test data\n",
    "from sklearn.model_selection import train_test_split\n",
    "X, y = df.iloc[:,1:].values, df.iloc[:,0].values\n",
    "X_train, X_test,  y_train, y_test = train_test_split(X, y, test_size = 0.3,\n",
    "                                                     stratify=y, random_state=0)"
   ],
   "execution_count":35,
   "outputs":[
    
   ],
   "metadata":{
    "datalore":{
     "type":"CODE",
     "hide_input_from_viewers":false,
     "hide_output_from_viewers":false,
     "node_id":"7kPNLlTUch29s1uFm0cqfP"
    }
   }
  },
  {
   "cell_type":"code",
   "source":[
    "# standardize features\n",
    "from sklearn.preprocessing import StandardScaler\n",
    "sc = StandardScaler()\n",
    "X_train_std = sc.fit_transform(X_train)\n",
    "X_test_std = sc.transform(X_test)"
   ],
   "execution_count":36,
   "outputs":[
    
   ],
   "metadata":{
    "datalore":{
     "type":"CODE",
     "hide_input_from_viewers":false,
     "hide_output_from_viewers":false,
     "node_id":"RpuXZl7YrrmIYnI85exjSs"
    }
   }
  },
  {
   "cell_type":"code",
   "source":[
    "from matplotlib.colors import ListedColormap\n",
    "def plot_decision_regions(X, y, classifier, test_idx=None, resolution=0.02):\n",
    "\n",
    "    # setup marker generator and color map\n",
    "    markers = ('o', 's', '^', 'v', '<')\n",
    "    colors = ('red', 'blue', 'lightgreen', 'gray', 'cyan')\n",
    "    cmap = ListedColormap(colors[:len(np.unique(y))])\n",
    "    \n",
    "    # plot the decision surface\n",
    "    x1_min, x1_max = X[:, 0].min() - 1, X[:, 0].max() + 1\n",
    "    x2_min, x2_max = X[:, 1].min() - 1, X[:, 1].max() + 1\n",
    "    xx1, xx2 = np.meshgrid(np.arange(x1_min, x1_max, resolution),\n",
    "    np.arange(x2_min, x2_max, resolution))\n",
    "    lab = classifier.predict(np.array([xx1.ravel(), xx2.ravel()]).T)\n",
    "    lab = lab.reshape(xx1.shape)\n",
    "    plt.contourf(xx1, xx2, lab, alpha=0.3, cmap=cmap)\n",
    "    plt.xlim(xx1.min(), xx1.max())\n",
    "    plt.ylim(xx2.min(), xx2.max())\n",
    "    \n",
    "    # plot class examples\n",
    "    for idx, cl in enumerate(np.unique(y)):\n",
    "        plt.scatter(x=X[y == cl, 0],\n",
    "        y=X[y == cl, 1],\n",
    "        alpha=0.8,\n",
    "        c=colors[idx],\n",
    "        marker=markers[idx],\n",
    "        label=f'Class {cl}',\n",
    "        edgecolor='black')"
   ],
   "execution_count":37,
   "outputs":[
    
   ],
   "metadata":{
    "datalore":{
     "type":"CODE",
     "hide_input_from_viewers":false,
     "hide_output_from_viewers":false,
     "node_id":"080XLKcfQGVzFelixt8Qut"
    }
   }
  },
  {
   "cell_type":"code",
   "source":[
    "from sklearn.linear_model import LogisticRegression\n",
    "from sklearn.decomposition import PCA\n",
    "# Initializeing the PCA transformer and\n",
    "# logistic regression estimator\n",
    "pca = PCA(n_components=2)\n",
    "lr = LogisticRegression(multi_class='ovr',\n",
    "                        random_state=0,\n",
    "                        solver='lbfgs')\n",
    "\n",
    "# dimensionality reduction:\n",
    "X_train_pca = pca.fit_transform(X_train_std)\n",
    "X_test_pca = pca.transform(X_test_std)\n",
    "\n",
    "# fitting the lr model based on pca\n",
    "lr.fit(X_train_pca, y_train)\n",
    "plot_decision_regions(X_train_pca, y_train, classifier=lr)\n",
    "plt.xlabel('PC 1')\n",
    "plt.ylabel('PC 2')\n",
    "plt.legend(loc='lower left')\n",
    "plt.tight_layout()\n",
    "plt.show()"
   ],
   "execution_count":38,
   "outputs":[
    {
     "data":{
      "image\/png":"[encoded data removed]"
     },
     "metadata":{
      "image\/png":{
       
      }
     },
     "output_type":"display_data"
    }
   ],
   "metadata":{
    "datalore":{
     "type":"CODE",
     "hide_input_from_viewers":false,
     "hide_output_from_viewers":false,
     "node_id":"igHkbjLG0suXSwVcD9d0LY"
    }
   }
  },
  {
   "cell_type":"code",
   "source":[
    "# apply to test data\n",
    "plot_decision_regions(X_test_pca, y_test, classifier=lr)\n",
    "plt.xlabel('PC 1')\n",
    "plt.ylabel('PC 2')\n",
    "plt.legend(loc='lower left')\n",
    "plt.show()"
   ],
   "execution_count":39,
   "outputs":[
    {
     "data":{
      "image\/png":"[encoded data removed]"
     },
     "metadata":{
      "image\/png":{
       
      }
     },
     "output_type":"display_data"
    }
   ],
   "metadata":{
    "datalore":{
     "type":"CODE",
     "hide_input_from_viewers":false,
     "hide_output_from_viewers":false,
     "node_id":"2LJxr43qKzsx2uopOLyi2h"
    }
   }
  },
  {
   "cell_type":"code",
   "source":[
    "# Assess feature contributions\n",
    "sklearn_loadings = pca.components_.T * np.sqrt(pca.explained_variance_)\n",
    "\n",
    "fig, ax = plt.subplots()\n",
    "ax.bar(range(13), sklearn_loadings[:, 0], align='center')\n",
    "ax.set_ylabel('Loadings for PC 1')\n",
    "ax.set_xticks(range(13))\n",
    "ax.set_xticklabels(df.columns[1:], rotation=90)\n",
    "plt.ylim([-1, 1])\n",
    "plt.tight_layout()\n",
    "plt.show()"
   ],
   "execution_count":41,
   "outputs":[
    {
     "data":{
      "image\/png":"[encoded data removed]"
     },
     "metadata":{
      "image\/png":{
       
      }
     },
     "output_type":"display_data"
    }
   ],
   "metadata":{
    "datalore":{
     "type":"CODE",
     "hide_input_from_viewers":false,
     "hide_output_from_viewers":false,
     "node_id":"CIo759F5Thjf6GtWGcwG1m"
    }
   }
  },
  {
   "cell_type":"code",
   "source":[
    
   ],
   "execution_count":null,
   "outputs":[
    
   ],
   "metadata":{
    "datalore":{
     "type":"CODE",
     "hide_input_from_viewers":false,
     "hide_output_from_viewers":false,
     "node_id":"fRdjkbN4Fg92XI1FyK64LC"
    }
   }
  }
 ],
 "metadata":{
  "kernelspec":{
   "display_name":"Python",
   "language":"python",
   "name":"python"
  },
  "datalore":{
   "version":1,
   "computation_mode":"JUPYTER",
   "package_manager":"pip",
   "base_environment":"default",
   "packages":[
    
   ]
  }
 },
 "nbformat":4,
 "nbformat_minor":4
}