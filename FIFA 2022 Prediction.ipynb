{
 "cells": [
  {
   "cell_type": "markdown",
   "source": [
    "## Import Packages"
   ],
   "metadata": {
    "collapsed": false
   }
  },
  {
   "cell_type": "code",
   "execution_count": 48,
   "outputs": [],
   "source": [
    "# Basic\n",
    "import pandas as pd\n",
    "import seaborn as sns\n",
    "\n",
    "# Warning\n",
    "import warnings\n",
    "warnings.filterwarnings('ignore')"
   ],
   "metadata": {
    "collapsed": false
   }
  },
  {
   "cell_type": "markdown",
   "source": [
    "### Pre-defined Functions"
   ],
   "metadata": {
    "collapsed": false
   }
  },
  {
   "cell_type": "code",
   "execution_count": 33,
   "outputs": [],
   "source": [
    "# compare score of home and away teams\n",
    "def result_finder(home, away):\n",
    "        if home > away:\n",
    "                return pd.Series([0, 3, 0])\n",
    "        if home < away:\n",
    "                return pd.Series([1, 0, 3])\n",
    "        else:\n",
    "                return pd.Series([2, 1, 1])"
   ],
   "metadata": {
    "collapsed": false
   }
  },
  {
   "cell_type": "code",
   "execution_count": 51,
   "outputs": [],
   "source": [
    "def stats(team_stats):\n",
    "        stats_val = []\n",
    "\n",
    "        for index, row in team_stats.iterrows():\n",
    "                team = row[\"team\"]\n",
    "                date = row[\"date\"]\n",
    "                past_games = team_stats.loc[(team_stats[\"team\"] == team) & (team_stats[\"date\"] < date)].sort_values(by=['date'], ascending=False)\n",
    "                last5 = past_games.head(5)\n",
    "\n",
    "                goals = past_games[\"score\"].mean()\n",
    "                goals_l5 = last5[\"score\"].mean()\n",
    "\n",
    "                goals_suf = past_games[\"suf_score\"].mean()\n",
    "                goals_suf_l5 = last5[\"suf_score\"].mean()\n",
    "\n",
    "                rank = past_games[\"rank_suf\"].mean()\n",
    "                rank_l5 = last5[\"rank_suf\"].mean()\n",
    "\n",
    "                if len(last5) > 0:\n",
    "                        points = past_games[\"total_points\"].values[0] - past_games[\"total_points\"].values[-1]#qtd de pontos ganhos\n",
    "                        points_l5 = last5[\"total_points\"].values[0] - last5[\"total_points\"].values[-1]\n",
    "                else:\n",
    "                        points = 0\n",
    "                        points_l5 = 0\n",
    "\n",
    "                gp = past_games[\"team_points\"].mean()\n",
    "                gp_l5 = last5[\"team_points\"].mean()\n",
    "\n",
    "                gp_rank = past_games[\"points_by_rank\"].mean()\n",
    "                gp_rank_l5 = last5[\"points_by_rank\"].mean()\n",
    "\n",
    "                stats_val.append([goals, goals_l5, goals_suf, goals_suf_l5, rank, rank_l5, points, points_l5, gp, gp_l5, gp_rank, gp_rank_l5])\n",
    "\n",
    "        return stats_val, team_stats"
   ],
   "metadata": {
    "collapsed": false
   }
  },
  {
   "cell_type": "code",
   "execution_count": 60,
   "outputs": [],
   "source": [
    "def find_friendly(x):\n",
    "        if x == \"Friendly\":\n",
    "                return 1\n",
    "        else: return 0"
   ],
   "metadata": {
    "collapsed": false
   }
  },
  {
   "cell_type": "markdown",
   "source": [
    "## Read Data"
   ],
   "metadata": {
    "collapsed": false
   }
  },
  {
   "cell_type": "code",
   "execution_count": 3,
   "outputs": [],
   "source": [
    "# read data files\n",
    "ranking = pd.read_csv('fifa_ranking-2022-10-06.csv')\n",
    "shootouts = pd.read_csv('shootouts.csv')\n",
    "results = pd.read_csv('results.csv')\n",
    "gs = pd.read_csv('goalscorers.csv')"
   ],
   "metadata": {
    "collapsed": false
   }
  },
  {
   "cell_type": "markdown",
   "source": [
    "## Inspect Data"
   ],
   "metadata": {
    "collapsed": false
   }
  },
  {
   "cell_type": "code",
   "execution_count": 12,
   "outputs": [
    {
     "data": {
      "text/plain": "   rank  country_full country_abrv  total_points  previous_points  \\\n0     1       Germany          GER          57.0              0.0   \n1    96         Syria          SYR          11.0              0.0   \n2    97  Burkina Faso          BFA          11.0              0.0   \n3    99        Latvia          LVA          10.0              0.0   \n4   100       Burundi          BDI          10.0              0.0   \n\n   rank_change confederation   rank_date  \n0            0          UEFA  1992-12-31  \n1            0           AFC  1992-12-31  \n2            0           CAF  1992-12-31  \n3            0          UEFA  1992-12-31  \n4            0           CAF  1992-12-31  ",
      "text/html": "<div>\n<style scoped>\n    .dataframe tbody tr th:only-of-type {\n        vertical-align: middle;\n    }\n\n    .dataframe tbody tr th {\n        vertical-align: top;\n    }\n\n    .dataframe thead th {\n        text-align: right;\n    }\n</style>\n<table border=\"1\" class=\"dataframe\">\n  <thead>\n    <tr style=\"text-align: right;\">\n      <th></th>\n      <th>rank</th>\n      <th>country_full</th>\n      <th>country_abrv</th>\n      <th>total_points</th>\n      <th>previous_points</th>\n      <th>rank_change</th>\n      <th>confederation</th>\n      <th>rank_date</th>\n    </tr>\n  </thead>\n  <tbody>\n    <tr>\n      <th>0</th>\n      <td>1</td>\n      <td>Germany</td>\n      <td>GER</td>\n      <td>57.0</td>\n      <td>0.0</td>\n      <td>0</td>\n      <td>UEFA</td>\n      <td>1992-12-31</td>\n    </tr>\n    <tr>\n      <th>1</th>\n      <td>96</td>\n      <td>Syria</td>\n      <td>SYR</td>\n      <td>11.0</td>\n      <td>0.0</td>\n      <td>0</td>\n      <td>AFC</td>\n      <td>1992-12-31</td>\n    </tr>\n    <tr>\n      <th>2</th>\n      <td>97</td>\n      <td>Burkina Faso</td>\n      <td>BFA</td>\n      <td>11.0</td>\n      <td>0.0</td>\n      <td>0</td>\n      <td>CAF</td>\n      <td>1992-12-31</td>\n    </tr>\n    <tr>\n      <th>3</th>\n      <td>99</td>\n      <td>Latvia</td>\n      <td>LVA</td>\n      <td>10.0</td>\n      <td>0.0</td>\n      <td>0</td>\n      <td>UEFA</td>\n      <td>1992-12-31</td>\n    </tr>\n    <tr>\n      <th>4</th>\n      <td>100</td>\n      <td>Burundi</td>\n      <td>BDI</td>\n      <td>10.0</td>\n      <td>0.0</td>\n      <td>0</td>\n      <td>CAF</td>\n      <td>1992-12-31</td>\n    </tr>\n  </tbody>\n</table>\n</div>"
     },
     "execution_count": 12,
     "metadata": {},
     "output_type": "execute_result"
    }
   ],
   "source": [
    "ranking.head()"
   ],
   "metadata": {
    "collapsed": false
   }
  },
  {
   "cell_type": "code",
   "execution_count": 5,
   "outputs": [
    {
     "name": "stdout",
     "output_type": "stream",
     "text": [
      "<class 'pandas.core.frame.DataFrame'>\n",
      "RangeIndex: 63916 entries, 0 to 63915\n",
      "Data columns (total 8 columns):\n",
      " #   Column           Non-Null Count  Dtype  \n",
      "---  ------           --------------  -----  \n",
      " 0   rank             63916 non-null  int64  \n",
      " 1   country_full     63916 non-null  object \n",
      " 2   country_abrv     63916 non-null  object \n",
      " 3   total_points     63916 non-null  float64\n",
      " 4   previous_points  63916 non-null  float64\n",
      " 5   rank_change      63916 non-null  int64  \n",
      " 6   confederation    63916 non-null  object \n",
      " 7   rank_date        63916 non-null  object \n",
      "dtypes: float64(2), int64(2), object(4)\n",
      "memory usage: 3.9+ MB\n"
     ]
    }
   ],
   "source": [
    "ranking.info()"
   ],
   "metadata": {
    "collapsed": false
   }
  },
  {
   "cell_type": "code",
   "execution_count": 6,
   "outputs": [
    {
     "data": {
      "text/plain": "         date    home_team         away_team       winner\n0  1967-08-22        India            Taiwan       Taiwan\n1  1971-11-14  South Korea  Vietnam Republic  South Korea\n2  1972-05-07  South Korea              Iraq         Iraq\n3  1972-05-17     Thailand       South Korea  South Korea\n4  1972-05-19     Thailand          Cambodia     Thailand",
      "text/html": "<div>\n<style scoped>\n    .dataframe tbody tr th:only-of-type {\n        vertical-align: middle;\n    }\n\n    .dataframe tbody tr th {\n        vertical-align: top;\n    }\n\n    .dataframe thead th {\n        text-align: right;\n    }\n</style>\n<table border=\"1\" class=\"dataframe\">\n  <thead>\n    <tr style=\"text-align: right;\">\n      <th></th>\n      <th>date</th>\n      <th>home_team</th>\n      <th>away_team</th>\n      <th>winner</th>\n    </tr>\n  </thead>\n  <tbody>\n    <tr>\n      <th>0</th>\n      <td>1967-08-22</td>\n      <td>India</td>\n      <td>Taiwan</td>\n      <td>Taiwan</td>\n    </tr>\n    <tr>\n      <th>1</th>\n      <td>1971-11-14</td>\n      <td>South Korea</td>\n      <td>Vietnam Republic</td>\n      <td>South Korea</td>\n    </tr>\n    <tr>\n      <th>2</th>\n      <td>1972-05-07</td>\n      <td>South Korea</td>\n      <td>Iraq</td>\n      <td>Iraq</td>\n    </tr>\n    <tr>\n      <th>3</th>\n      <td>1972-05-17</td>\n      <td>Thailand</td>\n      <td>South Korea</td>\n      <td>South Korea</td>\n    </tr>\n    <tr>\n      <th>4</th>\n      <td>1972-05-19</td>\n      <td>Thailand</td>\n      <td>Cambodia</td>\n      <td>Thailand</td>\n    </tr>\n  </tbody>\n</table>\n</div>"
     },
     "execution_count": 6,
     "metadata": {},
     "output_type": "execute_result"
    }
   ],
   "source": [
    "shootouts.head()"
   ],
   "metadata": {
    "collapsed": false
   }
  },
  {
   "cell_type": "code",
   "execution_count": 7,
   "outputs": [
    {
     "name": "stdout",
     "output_type": "stream",
     "text": [
      "<class 'pandas.core.frame.DataFrame'>\n",
      "RangeIndex: 513 entries, 0 to 512\n",
      "Data columns (total 4 columns):\n",
      " #   Column     Non-Null Count  Dtype \n",
      "---  ------     --------------  ----- \n",
      " 0   date       513 non-null    object\n",
      " 1   home_team  513 non-null    object\n",
      " 2   away_team  513 non-null    object\n",
      " 3   winner     513 non-null    object\n",
      "dtypes: object(4)\n",
      "memory usage: 16.2+ KB\n"
     ]
    }
   ],
   "source": [
    "shootouts.info()"
   ],
   "metadata": {
    "collapsed": false
   }
  },
  {
   "cell_type": "code",
   "execution_count": 8,
   "outputs": [
    {
     "data": {
      "text/plain": "         date home_team away_team  home_score  away_score tournament     city  \\\n0  1872-11-30  Scotland   England           0           0   Friendly  Glasgow   \n1  1873-03-08   England  Scotland           4           2   Friendly   London   \n2  1874-03-07  Scotland   England           2           1   Friendly  Glasgow   \n3  1875-03-06   England  Scotland           2           2   Friendly   London   \n4  1876-03-04  Scotland   England           3           0   Friendly  Glasgow   \n\n    country  neutral  \n0  Scotland    False  \n1   England    False  \n2  Scotland    False  \n3   England    False  \n4  Scotland    False  ",
      "text/html": "<div>\n<style scoped>\n    .dataframe tbody tr th:only-of-type {\n        vertical-align: middle;\n    }\n\n    .dataframe tbody tr th {\n        vertical-align: top;\n    }\n\n    .dataframe thead th {\n        text-align: right;\n    }\n</style>\n<table border=\"1\" class=\"dataframe\">\n  <thead>\n    <tr style=\"text-align: right;\">\n      <th></th>\n      <th>date</th>\n      <th>home_team</th>\n      <th>away_team</th>\n      <th>home_score</th>\n      <th>away_score</th>\n      <th>tournament</th>\n      <th>city</th>\n      <th>country</th>\n      <th>neutral</th>\n    </tr>\n  </thead>\n  <tbody>\n    <tr>\n      <th>0</th>\n      <td>1872-11-30</td>\n      <td>Scotland</td>\n      <td>England</td>\n      <td>0</td>\n      <td>0</td>\n      <td>Friendly</td>\n      <td>Glasgow</td>\n      <td>Scotland</td>\n      <td>False</td>\n    </tr>\n    <tr>\n      <th>1</th>\n      <td>1873-03-08</td>\n      <td>England</td>\n      <td>Scotland</td>\n      <td>4</td>\n      <td>2</td>\n      <td>Friendly</td>\n      <td>London</td>\n      <td>England</td>\n      <td>False</td>\n    </tr>\n    <tr>\n      <th>2</th>\n      <td>1874-03-07</td>\n      <td>Scotland</td>\n      <td>England</td>\n      <td>2</td>\n      <td>1</td>\n      <td>Friendly</td>\n      <td>Glasgow</td>\n      <td>Scotland</td>\n      <td>False</td>\n    </tr>\n    <tr>\n      <th>3</th>\n      <td>1875-03-06</td>\n      <td>England</td>\n      <td>Scotland</td>\n      <td>2</td>\n      <td>2</td>\n      <td>Friendly</td>\n      <td>London</td>\n      <td>England</td>\n      <td>False</td>\n    </tr>\n    <tr>\n      <th>4</th>\n      <td>1876-03-04</td>\n      <td>Scotland</td>\n      <td>England</td>\n      <td>3</td>\n      <td>0</td>\n      <td>Friendly</td>\n      <td>Glasgow</td>\n      <td>Scotland</td>\n      <td>False</td>\n    </tr>\n  </tbody>\n</table>\n</div>"
     },
     "execution_count": 8,
     "metadata": {},
     "output_type": "execute_result"
    }
   ],
   "source": [
    "results.head()"
   ],
   "metadata": {
    "collapsed": false
   }
  },
  {
   "cell_type": "code",
   "execution_count": 13,
   "outputs": [
    {
     "name": "stdout",
     "output_type": "stream",
     "text": [
      "<class 'pandas.core.frame.DataFrame'>\n",
      "RangeIndex: 44341 entries, 0 to 44340\n",
      "Data columns (total 9 columns):\n",
      " #   Column      Non-Null Count  Dtype \n",
      "---  ------      --------------  ----- \n",
      " 0   date        44341 non-null  object\n",
      " 1   home_team   44341 non-null  object\n",
      " 2   away_team   44341 non-null  object\n",
      " 3   home_score  44341 non-null  int64 \n",
      " 4   away_score  44341 non-null  int64 \n",
      " 5   tournament  44341 non-null  object\n",
      " 6   city        44341 non-null  object\n",
      " 7   country     44341 non-null  object\n",
      " 8   neutral     44341 non-null  bool  \n",
      "dtypes: bool(1), int64(2), object(6)\n",
      "memory usage: 2.7+ MB\n"
     ]
    }
   ],
   "source": [
    "results.info()"
   ],
   "metadata": {
    "collapsed": false
   }
  },
  {
   "cell_type": "code",
   "execution_count": 14,
   "outputs": [
    {
     "data": {
      "text/plain": "         date  home_team away_team       team            scorer  minute  \\\n0  1916-07-02      Chile   Uruguay    Uruguay   José Piendibene    44.0   \n1  1916-07-02      Chile   Uruguay    Uruguay  Isabelino Gradín    55.0   \n2  1916-07-02      Chile   Uruguay    Uruguay  Isabelino Gradín    70.0   \n3  1916-07-02      Chile   Uruguay    Uruguay   José Piendibene    75.0   \n4  1916-07-06  Argentina     Chile  Argentina     Alberto Ohaco     2.0   \n\n   own_goal  penalty  \n0     False    False  \n1     False    False  \n2     False    False  \n3     False    False  \n4     False    False  ",
      "text/html": "<div>\n<style scoped>\n    .dataframe tbody tr th:only-of-type {\n        vertical-align: middle;\n    }\n\n    .dataframe tbody tr th {\n        vertical-align: top;\n    }\n\n    .dataframe thead th {\n        text-align: right;\n    }\n</style>\n<table border=\"1\" class=\"dataframe\">\n  <thead>\n    <tr style=\"text-align: right;\">\n      <th></th>\n      <th>date</th>\n      <th>home_team</th>\n      <th>away_team</th>\n      <th>team</th>\n      <th>scorer</th>\n      <th>minute</th>\n      <th>own_goal</th>\n      <th>penalty</th>\n    </tr>\n  </thead>\n  <tbody>\n    <tr>\n      <th>0</th>\n      <td>1916-07-02</td>\n      <td>Chile</td>\n      <td>Uruguay</td>\n      <td>Uruguay</td>\n      <td>José Piendibene</td>\n      <td>44.0</td>\n      <td>False</td>\n      <td>False</td>\n    </tr>\n    <tr>\n      <th>1</th>\n      <td>1916-07-02</td>\n      <td>Chile</td>\n      <td>Uruguay</td>\n      <td>Uruguay</td>\n      <td>Isabelino Gradín</td>\n      <td>55.0</td>\n      <td>False</td>\n      <td>False</td>\n    </tr>\n    <tr>\n      <th>2</th>\n      <td>1916-07-02</td>\n      <td>Chile</td>\n      <td>Uruguay</td>\n      <td>Uruguay</td>\n      <td>Isabelino Gradín</td>\n      <td>70.0</td>\n      <td>False</td>\n      <td>False</td>\n    </tr>\n    <tr>\n      <th>3</th>\n      <td>1916-07-02</td>\n      <td>Chile</td>\n      <td>Uruguay</td>\n      <td>Uruguay</td>\n      <td>José Piendibene</td>\n      <td>75.0</td>\n      <td>False</td>\n      <td>False</td>\n    </tr>\n    <tr>\n      <th>4</th>\n      <td>1916-07-06</td>\n      <td>Argentina</td>\n      <td>Chile</td>\n      <td>Argentina</td>\n      <td>Alberto Ohaco</td>\n      <td>2.0</td>\n      <td>False</td>\n      <td>False</td>\n    </tr>\n  </tbody>\n</table>\n</div>"
     },
     "execution_count": 14,
     "metadata": {},
     "output_type": "execute_result"
    }
   ],
   "source": [
    "gs.head()"
   ],
   "metadata": {
    "collapsed": false
   }
  },
  {
   "cell_type": "code",
   "execution_count": 15,
   "outputs": [
    {
     "name": "stdout",
     "output_type": "stream",
     "text": [
      "<class 'pandas.core.frame.DataFrame'>\n",
      "RangeIndex: 40990 entries, 0 to 40989\n",
      "Data columns (total 8 columns):\n",
      " #   Column     Non-Null Count  Dtype  \n",
      "---  ------     --------------  -----  \n",
      " 0   date       40990 non-null  object \n",
      " 1   home_team  40990 non-null  object \n",
      " 2   away_team  40990 non-null  object \n",
      " 3   team       40990 non-null  object \n",
      " 4   scorer     40941 non-null  object \n",
      " 5   minute     40732 non-null  float64\n",
      " 6   own_goal   40990 non-null  bool   \n",
      " 7   penalty    40990 non-null  bool   \n",
      "dtypes: bool(2), float64(1), object(5)\n",
      "memory usage: 2.0+ MB\n"
     ]
    }
   ],
   "source": [
    "gs.info()"
   ],
   "metadata": {
    "collapsed": false
   }
  },
  {
   "cell_type": "markdown",
   "source": [
    "We see some missing values in here (scorer, minute)"
   ],
   "metadata": {
    "collapsed": false
   }
  },
  {
   "cell_type": "markdown",
   "source": [
    "### Diagnose missing values"
   ],
   "metadata": {
    "collapsed": false
   }
  },
  {
   "cell_type": "code",
   "execution_count": 20,
   "outputs": [
    {
     "data": {
      "text/plain": "New Caledonia      15\nFiji               13\nSolomon Islands    13\nVanuatu             7\nMalaysia            1\nName: home_team, dtype: int64"
     },
     "execution_count": 20,
     "metadata": {},
     "output_type": "execute_result"
    }
   ],
   "source": [
    "# look into these NAs\n",
    "gs[gs['scorer'].isna()]['home_team'].value_counts()"
   ],
   "metadata": {
    "collapsed": false
   }
  },
  {
   "cell_type": "markdown",
   "source": [
    "**scorer** - name of the player scoring the goal\n",
    "Only five countries have missing values in scorer"
   ],
   "metadata": {
    "collapsed": false
   }
  },
  {
   "cell_type": "code",
   "execution_count": 21,
   "outputs": [
    {
     "data": {
      "text/plain": "New Caledonia      34\nFiji               22\nAustralia          17\nNew Zealand        17\nSuriname           14\nEthiopia           13\nSolomon Islands    13\nGhana              10\nHaiti               9\nVanuatu             8\nQatar               8\nSaudi Arabia        7\nIndonesia           6\nKuwait              6\nChina PR            6\nTaiwan              6\nSyria               5\nIraq                5\nJordan              5\nCameroon            5\nCosta Rica          4\nNigeria             4\nCongo               4\nBrunei              3\nThailand            3\nLibya               3\nIvory Coast         3\nDR Congo            3\nSingapore           2\nGuatemala           2\nMalaysia            2\nNorth Korea         2\nCuraçao             2\nKenya               2\nUnited States       1\nEl Salvador         1\nBangladesh          1\nName: home_team, dtype: int64"
     },
     "execution_count": 21,
     "metadata": {},
     "output_type": "execute_result"
    }
   ],
   "source": [
    "# look into these NAs\n",
    "gs[gs['minute'].isna()]['home_team'].value_counts()"
   ],
   "metadata": {
    "collapsed": false
   }
  },
  {
   "cell_type": "markdown",
   "source": [
    "**Minute** is unexplained\n",
    "37 countries have missing values in minute"
   ],
   "metadata": {
    "collapsed": false
   }
  },
  {
   "cell_type": "markdown",
   "source": [
    "Since the combination of these data sets is still small, and they are pretty much fact-based, so I will not impute anything"
   ],
   "metadata": {
    "collapsed": false
   }
  },
  {
   "cell_type": "markdown",
   "source": [
    "## Data Process"
   ],
   "metadata": {
    "collapsed": false
   }
  },
  {
   "cell_type": "code",
   "execution_count": 23,
   "outputs": [],
   "source": [
    "# Standardize all date variables\n",
    "gs['date'] = pd.to_datetime(gs[\"date\"])\n",
    "shootouts['date'] = pd.to_datetime(shootouts[\"date\"])\n",
    "results['date'] = pd.to_datetime(results[\"date\"])\n",
    "ranking['rank_date'] = pd.to_datetime(ranking[\"rank_date\"])"
   ],
   "metadata": {
    "collapsed": false
   }
  },
  {
   "cell_type": "markdown",
   "source": [
    "Only the performance at the 2022 World Cup cycle will be analyzed. The idea is to take into account only the variation of performance in preparation for the World Cup."
   ],
   "metadata": {
    "collapsed": false
   }
  },
  {
   "cell_type": "code",
   "execution_count": 24,
   "outputs": [],
   "source": [
    "ranking = ranking[(ranking[\"rank_date\"] >= \"2018-8-1\")].reset_index(drop=True) #selecting games from the 2022 wc cycle"
   ],
   "metadata": {
    "collapsed": false
   }
  },
  {
   "cell_type": "code",
   "execution_count": 28,
   "outputs": [],
   "source": [
    "results = results[(results[\"date\"] >= \"2018-8-1\")].reset_index(drop=True) # games at the 2022 wc cycle"
   ],
   "metadata": {
    "collapsed": false
   }
  },
  {
   "cell_type": "markdown",
   "source": [
    "Modify string format: remove abbreviations"
   ],
   "metadata": {
    "collapsed": false
   }
  },
  {
   "cell_type": "code",
   "execution_count": 25,
   "outputs": [],
   "source": [
    "ranking[\"country_full\"] = ranking[\"country_full\"].str.replace(\"IR Iran\", \"Iran\") \\\n",
    "        .str.replace(\"Korea Republic\", \"South Korea\").str.replace(\"USA\", \"United States\")"
   ],
   "metadata": {
    "collapsed": false
   }
  },
  {
   "cell_type": "markdown",
   "source": [
    "Downsample data into daily based, take one value. If null then use the second one (forward filling)"
   ],
   "metadata": {
    "collapsed": false
   }
  },
  {
   "cell_type": "code",
   "execution_count": 27,
   "outputs": [],
   "source": [
    "ranking = ranking.set_index(['rank_date']).groupby(['country_full'], group_keys=False) \\\n",
    "        .resample('D').first().fillna(method='ffill').reset_index()"
   ],
   "metadata": {
    "collapsed": false
   }
  },
  {
   "cell_type": "code",
   "execution_count": 30,
   "outputs": [],
   "source": [
    "#Making the merge\n",
    "results_wc_ranked = results.merge(ranking[[\"country_full\", \"total_points\", \"previous_points\", \"rank\", \"rank_change\", \"rank_date\"]], left_on=[\"date\", \"home_team\"], right_on=[\"rank_date\", \"country_full\"]).drop([\"rank_date\", \"country_full\"], axis=1)\n",
    "\n",
    "results_wc_ranked = results_wc_ranked.merge(ranking[[\"country_full\", \"total_points\", \"previous_points\", \"rank\", \"rank_change\", \"rank_date\"]], left_on=[\"date\", \"away_team\"], right_on=[\"rank_date\", \"country_full\"], suffixes=(\"_home\", \"_away\")).drop([\"rank_date\", \"country_full\"], axis=1)"
   ],
   "metadata": {
    "collapsed": false
   }
  },
  {
   "cell_type": "code",
   "execution_count": 32,
   "outputs": [
    {
     "data": {
      "text/plain": "        date  home_team             away_team  home_score  away_score  \\\n0 2018-08-18    Andorra  United Arab Emirates           0           0   \n1 2018-08-18    Grenada               Jamaica           1           5   \n2 2018-08-18  Guatemala                  Cuba           1           0   \n\n  tournament            city    country  neutral  total_points_home  \\\n0   Friendly          Grödig    Austria     True             1120.0   \n1   Friendly    St. George's    Grenada    False              980.0   \n2   Friendly  Quetzaltenango  Guatemala    False             1064.0   \n\n   previous_points_home  rank_home  rank_change_home  total_points_away  \\\n0                1120.0      130.0               0.0             1312.0   \n1                 980.0      168.0               0.0             1400.0   \n2                1064.0      146.0               0.0              940.0   \n\n   previous_points_away  rank_away  rank_change_away  \n0                1312.0       77.0               0.0  \n1                1400.0       54.0               0.0  \n2                 940.0      181.0               0.0  ",
      "text/html": "<div>\n<style scoped>\n    .dataframe tbody tr th:only-of-type {\n        vertical-align: middle;\n    }\n\n    .dataframe tbody tr th {\n        vertical-align: top;\n    }\n\n    .dataframe thead th {\n        text-align: right;\n    }\n</style>\n<table border=\"1\" class=\"dataframe\">\n  <thead>\n    <tr style=\"text-align: right;\">\n      <th></th>\n      <th>date</th>\n      <th>home_team</th>\n      <th>away_team</th>\n      <th>home_score</th>\n      <th>away_score</th>\n      <th>tournament</th>\n      <th>city</th>\n      <th>country</th>\n      <th>neutral</th>\n      <th>total_points_home</th>\n      <th>previous_points_home</th>\n      <th>rank_home</th>\n      <th>rank_change_home</th>\n      <th>total_points_away</th>\n      <th>previous_points_away</th>\n      <th>rank_away</th>\n      <th>rank_change_away</th>\n    </tr>\n  </thead>\n  <tbody>\n    <tr>\n      <th>0</th>\n      <td>2018-08-18</td>\n      <td>Andorra</td>\n      <td>United Arab Emirates</td>\n      <td>0</td>\n      <td>0</td>\n      <td>Friendly</td>\n      <td>Grödig</td>\n      <td>Austria</td>\n      <td>True</td>\n      <td>1120.0</td>\n      <td>1120.0</td>\n      <td>130.0</td>\n      <td>0.0</td>\n      <td>1312.0</td>\n      <td>1312.0</td>\n      <td>77.0</td>\n      <td>0.0</td>\n    </tr>\n    <tr>\n      <th>1</th>\n      <td>2018-08-18</td>\n      <td>Grenada</td>\n      <td>Jamaica</td>\n      <td>1</td>\n      <td>5</td>\n      <td>Friendly</td>\n      <td>St. George's</td>\n      <td>Grenada</td>\n      <td>False</td>\n      <td>980.0</td>\n      <td>980.0</td>\n      <td>168.0</td>\n      <td>0.0</td>\n      <td>1400.0</td>\n      <td>1400.0</td>\n      <td>54.0</td>\n      <td>0.0</td>\n    </tr>\n    <tr>\n      <th>2</th>\n      <td>2018-08-18</td>\n      <td>Guatemala</td>\n      <td>Cuba</td>\n      <td>1</td>\n      <td>0</td>\n      <td>Friendly</td>\n      <td>Quetzaltenango</td>\n      <td>Guatemala</td>\n      <td>False</td>\n      <td>1064.0</td>\n      <td>1064.0</td>\n      <td>146.0</td>\n      <td>0.0</td>\n      <td>940.0</td>\n      <td>940.0</td>\n      <td>181.0</td>\n      <td>0.0</td>\n    </tr>\n  </tbody>\n</table>\n</div>"
     },
     "execution_count": 32,
     "metadata": {},
     "output_type": "execute_result"
    }
   ],
   "source": [
    "# prepared dataset\n",
    "results_wc_ranked.head(3)"
   ],
   "metadata": {
    "collapsed": false
   }
  },
  {
   "cell_type": "markdown",
   "source": [
    "## Feature Engineering"
   ],
   "metadata": {
    "collapsed": false
   }
  },
  {
   "cell_type": "markdown",
   "source": [
    "* Goals average at World Cup cycle and in the last 5 games.\n",
    "* Suffered goals average at World Cup cycle and in the last 5 games.\n",
    "* Difference in FIFA ranking positions between each team.\n",
    "* FIFA ranking that each team faced average at World Cup cycle games and in the last 5 games.\n",
    "* Increment in points in FIFA Ranking from the first game of the cycle and now.\n",
    "* Increment in points in FIFA Ranking 5 games ago and now.\n",
    "* Game points average won at World Cup cycle and in the last 5 games.\n",
    "* Game points average won weighted by ranking position faced at World Cup cycle and in the last 5 games.\n",
    "* Categorical variable telling if the game was a friendly or not."
   ],
   "metadata": {
    "collapsed": false
   }
  },
  {
   "cell_type": "code",
   "execution_count": 34,
   "outputs": [],
   "source": [
    "# use pre-defined function to transform data\n",
    "df = results_wc_ranked.apply(lambda x: result_finder(x[\"home_score\"], x[\"away_score\"]), axis=1)\n",
    "results_wc_ranked[[\"result\", \"home_team_points\", \"away_team_points\"]] = df"
   ],
   "metadata": {
    "collapsed": false
   }
  },
  {
   "cell_type": "code",
   "execution_count": 42,
   "outputs": [],
   "source": [
    "# Difference in FIFA ranking positions between each team.\n",
    "results_wc_ranked[\"rank_dif\"] = results_wc_ranked[\"rank_home\"] - results_wc_ranked[\"rank_away\"]\n",
    "# Difference in score between each team.\n",
    "results_wc_ranked[\"sg\"] = results_wc_ranked[\"home_score\"] - results_wc_ranked[\"away_score\"]\n",
    "# Mathematical features\n",
    "results_wc_ranked[\"points_home_by_rank\"] = results_wc_ranked[\"home_team_points\"]/results_wc_ranked[\"rank_away\"]\n",
    "results_wc_ranked[\"points_away_by_rank\"] = results_wc_ranked[\"away_team_points\"]/results_wc_ranked[\"rank_home\"]"
   ],
   "metadata": {
    "collapsed": false
   }
  },
  {
   "cell_type": "code",
   "execution_count": 44,
   "outputs": [
    {
     "data": {
      "text/plain": "Index(['date', 'home_team', 'away_team', 'home_score', 'away_score',\n       'tournament', 'city', 'country', 'neutral', 'total_points_home',\n       'previous_points_home', 'rank_home', 'rank_change_home',\n       'total_points_away', 'previous_points_away', 'rank_away',\n       'rank_change_away', 'result', 'home_team_points', 'away_team_points',\n       'rank_dif', 'sg', 'points_home_by_rank', 'points_away_by_rank'],\n      dtype='object')"
     },
     "execution_count": 44,
     "metadata": {},
     "output_type": "execute_result"
    }
   ],
   "source": [
    "results_wc_ranked.columns"
   ],
   "metadata": {
    "collapsed": false
   }
  },
  {
   "cell_type": "code",
   "execution_count": 43,
   "outputs": [
    {
     "data": {
      "text/plain": "<Figure size 640x480 with 2 Axes>",
      "image/png": "[encoded data removed]"
     },
     "metadata": {},
     "output_type": "display_data"
    }
   ],
   "source": [
    "sns.heatmap(results_wc_ranked.corr());"
   ],
   "metadata": {
    "collapsed": false
   }
  },
  {
   "cell_type": "code",
   "execution_count": 45,
   "outputs": [],
   "source": [
    "home_team = results_wc_ranked[[\"date\", \"home_team\", \"home_score\", \"away_score\", \"rank_home\", \"rank_away\",\"rank_change_home\", \"total_points_home\", \"result\", \"rank_dif\", \"points_home_by_rank\", \"home_team_points\"]]\n",
    "\n",
    "away_team = results_wc_ranked[[\"date\", \"away_team\", \"away_score\", \"home_score\", \"rank_away\", \"rank_home\",\"rank_change_away\", \"total_points_away\", \"result\", \"rank_dif\", \"points_away_by_rank\", \"away_team_points\"]]"
   ],
   "metadata": {
    "collapsed": false
   }
  },
  {
   "cell_type": "code",
   "execution_count": 46,
   "outputs": [],
   "source": [
    "home_team.columns = [h.replace(\"home_\", \"\").replace(\"_home\", \"\").replace(\"away_\", \"suf_\").replace(\"_away\", \"_suf\") for h in home_team.columns]\n",
    "\n",
    "away_team.columns = [a.replace(\"away_\", \"\").replace(\"_away\", \"\").replace(\"home_\", \"suf_\").replace(\"_home\", \"_suf\") for a in away_team.columns]"
   ],
   "metadata": {
    "collapsed": false
   }
  },
  {
   "cell_type": "code",
   "execution_count": 49,
   "outputs": [],
   "source": [
    "team_stats = home_team.append(away_team) #.sort_values(\"date\")"
   ],
   "metadata": {
    "collapsed": false
   }
  },
  {
   "cell_type": "code",
   "execution_count": 52,
   "outputs": [],
   "source": [
    "stats_val, team_stats = stats(team_stats)"
   ],
   "metadata": {
    "collapsed": false
   }
  },
  {
   "cell_type": "code",
   "execution_count": 53,
   "outputs": [],
   "source": [
    "stats_mean = [\"goals_mean\", \"goals_mean_l5\", \"goals_suf_mean\", \"goals_suf_mean_l5\", \"rank_mean\", \"rank_mean_l5\", \"points_mean\", \"points_mean_l5\", \"game_points_mean\", \"game_points_mean_l5\", \"game_points_rank_mean\", \"game_points_rank_mean_l5\"]"
   ],
   "metadata": {
    "collapsed": false
   }
  },
  {
   "cell_type": "code",
   "execution_count": 54,
   "outputs": [],
   "source": [
    "stats_df = pd.DataFrame(stats_val, columns=stats_mean)\n",
    "full_df = pd.concat([team_stats.reset_index(drop=True), stats_df], axis=1, ignore_index=False)"
   ],
   "metadata": {
    "collapsed": false
   }
  },
  {
   "cell_type": "code",
   "execution_count": 55,
   "outputs": [],
   "source": [
    "home_team_stats = full_df.iloc[:int(full_df.shape[0]/2),:]\n",
    "away_team_stats = full_df.iloc[int(full_df.shape[0]/2):,:]"
   ],
   "metadata": {
    "collapsed": false
   }
  },
  {
   "cell_type": "code",
   "execution_count": 56,
   "outputs": [],
   "source": [
    "home_team_stats = home_team_stats[home_team_stats.columns[-12:]]\n",
    "away_team_stats = away_team_stats[away_team_stats.columns[-12:]]"
   ],
   "metadata": {
    "collapsed": false
   }
  },
  {
   "cell_type": "code",
   "execution_count": 57,
   "outputs": [],
   "source": [
    "home_team_stats.columns = ['home_'+str(col) for col in home_team_stats.columns]\n",
    "away_team_stats.columns = ['away_'+str(col) for col in away_team_stats.columns]"
   ],
   "metadata": {
    "collapsed": false
   }
  },
  {
   "cell_type": "code",
   "execution_count": 58,
   "outputs": [],
   "source": [
    "match_stats = pd.concat([home_team_stats, away_team_stats.reset_index(drop=True)], axis=1, ignore_index=False)"
   ],
   "metadata": {
    "collapsed": false
   }
  },
  {
   "cell_type": "code",
   "execution_count": 62,
   "outputs": [],
   "source": [
    "full_df = pd.concat([results_wc_ranked, match_stats.reset_index(drop=True)], axis=1, ignore_index=False)"
   ],
   "metadata": {
    "collapsed": false
   }
  },
  {
   "cell_type": "code",
   "execution_count": 63,
   "outputs": [],
   "source": [
    "full_df[\"is_friendly\"] = full_df[\"tournament\"].apply(lambda x: find_friendly(x))"
   ],
   "metadata": {
    "collapsed": false
   }
  },
  {
   "cell_type": "code",
   "execution_count": 64,
   "outputs": [],
   "source": [
    "full_df = pd.get_dummies(full_df, columns=[\"is_friendly\"])"
   ],
   "metadata": {
    "collapsed": false
   }
  },
  {
   "cell_type": "code",
   "execution_count": 65,
   "outputs": [],
   "source": [
    "\n",
    "base_df = full_df[[\"date\", \"home_team\", \"away_team\", \"rank_home\", \"rank_away\",\"home_score\", \"away_score\",\"result\", \"rank_dif\", \"rank_change_home\", \"rank_change_away\", 'home_goals_mean',\n",
    "                   'home_goals_mean_l5', 'home_goals_suf_mean', 'home_goals_suf_mean_l5',\n",
    "                   'home_rank_mean', 'home_rank_mean_l5', 'home_points_mean',\n",
    "                   'home_points_mean_l5', 'away_goals_mean', 'away_goals_mean_l5',\n",
    "                   'away_goals_suf_mean', 'away_goals_suf_mean_l5', 'away_rank_mean',\n",
    "                   'away_rank_mean_l5', 'away_points_mean', 'away_points_mean_l5','home_game_points_mean', 'home_game_points_mean_l5',\n",
    "                   'home_game_points_rank_mean', 'home_game_points_rank_mean_l5','away_game_points_mean',\n",
    "                   'away_game_points_mean_l5', 'away_game_points_rank_mean',\n",
    "                   'away_game_points_rank_mean_l5',\n",
    "                   'is_friendly_0', 'is_friendly_1']]"
   ],
   "metadata": {
    "collapsed": false
   }
  },
  {
   "cell_type": "code",
   "execution_count": 66,
   "outputs": [],
   "source": [
    "base_df_no_fg = base_df.dropna()"
   ],
   "metadata": {
    "collapsed": false
   }
  },
  {
   "cell_type": "code",
   "execution_count": 72,
   "outputs": [
    {
     "data": {
      "text/plain": "         date   home_team    away_team  rank_home  rank_away  home_score  \\\n4  2018-08-26    Barbados         Cuba      160.0      181.0           0   \n6  2018-08-29    Barbados         Cuba      160.0      181.0           0   \n31 2018-09-06    Mongolia         Guam      186.0      190.0           1   \n32 2018-09-06       Nepal       Bhutan      161.0      183.0           4   \n33 2018-09-06  Bangladesh     Pakistan      194.0      201.0           1   \n70 2018-09-08    Pakistan       Bhutan      201.0      183.0           3   \n71 2018-09-08  Bangladesh        Nepal      194.0      161.0           0   \n74 2018-09-09      France  Netherlands        1.0       17.0           2   \n75 2018-09-09     Ukraine     Slovakia       35.0       26.0           1   \n76 2018-09-09     Denmark        Wales        9.0       19.0           2   \n\n    away_score  result  rank_dif  rank_change_home  ...  \\\n4            0       2     -21.0               0.0  ...   \n6            2       1     -21.0               0.0  ...   \n31           1       2      -4.0               0.0  ...   \n32           0       0     -22.0               0.0  ...   \n33           0       0      -7.0               0.0  ...   \n70           0       0      18.0               0.0  ...   \n71           2       1      33.0               0.0  ...   \n74           1       0     -16.0              -6.0  ...   \n75           0       0       9.0               0.0  ...   \n76           0       0     -10.0              -3.0  ...   \n\n    home_game_points_mean  home_game_points_mean_l5  \\\n4                     1.0                       1.0   \n6                     1.0                       1.0   \n31                    3.0                       3.0   \n32                    0.0                       0.0   \n33                    1.5                       1.5   \n70                    1.5                       1.5   \n71                    2.0                       2.0   \n74                    1.0                       1.0   \n75                    3.0                       3.0   \n76                    0.0                       0.0   \n\n    home_game_points_rank_mean  home_game_points_rank_mean_l5  \\\n4                     0.018519                       0.018519   \n6                     0.012022                       0.012022   \n31                    0.016216                       0.016216   \n32                    0.000000                       0.000000   \n33                    0.008197                       0.008197   \n70                    0.009317                       0.009317   \n71                    0.010440                       0.010440   \n74                    0.066667                       0.066667   \n75                    0.068182                       0.068182   \n76                    0.000000                       0.000000   \n\n    away_game_points_mean  away_game_points_mean_l5  \\\n4                     0.0                       0.0   \n6                     0.5                       0.5   \n31                    0.0                       0.0   \n32                    0.0                       0.0   \n33                    3.0                       3.0   \n70                    0.0                       0.0   \n71                    1.5                       1.5   \n74                    3.0                       3.0   \n75                    3.0                       3.0   \n76                    3.0                       3.0   \n\n    away_game_points_rank_mean  away_game_points_rank_mean_l5  is_friendly_0  \\\n4                     0.000000                       0.000000              0   \n6                     0.003125                       0.003125              0   \n31                    0.000000                       0.000000              1   \n32                    0.000000                       0.000000              1   \n33                    0.018634                       0.018634              1   \n70                    0.000000                       0.000000              1   \n71                    0.008197                       0.008197              1   \n74                    0.150000                       0.150000              1   \n75                    0.333333                       0.333333              1   \n76                    0.103448                       0.103448              1   \n\n    is_friendly_1  \n4               1  \n6               1  \n31              0  \n32              0  \n33              0  \n70              0  \n71              0  \n74              0  \n75              0  \n76              0  \n\n[10 rows x 37 columns]",
      "text/html": "<div>\n<style scoped>\n    .dataframe tbody tr th:only-of-type {\n        vertical-align: middle;\n    }\n\n    .dataframe tbody tr th {\n        vertical-align: top;\n    }\n\n    .dataframe thead th {\n        text-align: right;\n    }\n</style>\n<table border=\"1\" class=\"dataframe\">\n  <thead>\n    <tr style=\"text-align: right;\">\n      <th></th>\n      <th>date</th>\n      <th>home_team</th>\n      <th>away_team</th>\n      <th>rank_home</th>\n      <th>rank_away</th>\n      <th>home_score</th>\n      <th>away_score</th>\n      <th>result</th>\n      <th>rank_dif</th>\n      <th>rank_change_home</th>\n      <th>...</th>\n      <th>home_game_points_mean</th>\n      <th>home_game_points_mean_l5</th>\n      <th>home_game_points_rank_mean</th>\n      <th>home_game_points_rank_mean_l5</th>\n      <th>away_game_points_mean</th>\n      <th>away_game_points_mean_l5</th>\n      <th>away_game_points_rank_mean</th>\n      <th>away_game_points_rank_mean_l5</th>\n      <th>is_friendly_0</th>\n      <th>is_friendly_1</th>\n    </tr>\n  </thead>\n  <tbody>\n    <tr>\n      <th>4</th>\n      <td>2018-08-26</td>\n      <td>Barbados</td>\n      <td>Cuba</td>\n      <td>160.0</td>\n      <td>181.0</td>\n      <td>0</td>\n      <td>0</td>\n      <td>2</td>\n      <td>-21.0</td>\n      <td>0.0</td>\n      <td>...</td>\n      <td>1.0</td>\n      <td>1.0</td>\n      <td>0.018519</td>\n      <td>0.018519</td>\n      <td>0.0</td>\n      <td>0.0</td>\n      <td>0.000000</td>\n      <td>0.000000</td>\n      <td>0</td>\n      <td>1</td>\n    </tr>\n    <tr>\n      <th>6</th>\n      <td>2018-08-29</td>\n      <td>Barbados</td>\n      <td>Cuba</td>\n      <td>160.0</td>\n      <td>181.0</td>\n      <td>0</td>\n      <td>2</td>\n      <td>1</td>\n      <td>-21.0</td>\n      <td>0.0</td>\n      <td>...</td>\n      <td>1.0</td>\n      <td>1.0</td>\n      <td>0.012022</td>\n      <td>0.012022</td>\n      <td>0.5</td>\n      <td>0.5</td>\n      <td>0.003125</td>\n      <td>0.003125</td>\n      <td>0</td>\n      <td>1</td>\n    </tr>\n    <tr>\n      <th>31</th>\n      <td>2018-09-06</td>\n      <td>Mongolia</td>\n      <td>Guam</td>\n      <td>186.0</td>\n      <td>190.0</td>\n      <td>1</td>\n      <td>1</td>\n      <td>2</td>\n      <td>-4.0</td>\n      <td>0.0</td>\n      <td>...</td>\n      <td>3.0</td>\n      <td>3.0</td>\n      <td>0.016216</td>\n      <td>0.016216</td>\n      <td>0.0</td>\n      <td>0.0</td>\n      <td>0.000000</td>\n      <td>0.000000</td>\n      <td>1</td>\n      <td>0</td>\n    </tr>\n    <tr>\n      <th>32</th>\n      <td>2018-09-06</td>\n      <td>Nepal</td>\n      <td>Bhutan</td>\n      <td>161.0</td>\n      <td>183.0</td>\n      <td>4</td>\n      <td>0</td>\n      <td>0</td>\n      <td>-22.0</td>\n      <td>0.0</td>\n      <td>...</td>\n      <td>0.0</td>\n      <td>0.0</td>\n      <td>0.000000</td>\n      <td>0.000000</td>\n      <td>0.0</td>\n      <td>0.0</td>\n      <td>0.000000</td>\n      <td>0.000000</td>\n      <td>1</td>\n      <td>0</td>\n    </tr>\n    <tr>\n      <th>33</th>\n      <td>2018-09-06</td>\n      <td>Bangladesh</td>\n      <td>Pakistan</td>\n      <td>194.0</td>\n      <td>201.0</td>\n      <td>1</td>\n      <td>0</td>\n      <td>0</td>\n      <td>-7.0</td>\n      <td>0.0</td>\n      <td>...</td>\n      <td>1.5</td>\n      <td>1.5</td>\n      <td>0.008197</td>\n      <td>0.008197</td>\n      <td>3.0</td>\n      <td>3.0</td>\n      <td>0.018634</td>\n      <td>0.018634</td>\n      <td>1</td>\n      <td>0</td>\n    </tr>\n    <tr>\n      <th>70</th>\n      <td>2018-09-08</td>\n      <td>Pakistan</td>\n      <td>Bhutan</td>\n      <td>201.0</td>\n      <td>183.0</td>\n      <td>3</td>\n      <td>0</td>\n      <td>0</td>\n      <td>18.0</td>\n      <td>0.0</td>\n      <td>...</td>\n      <td>1.5</td>\n      <td>1.5</td>\n      <td>0.009317</td>\n      <td>0.009317</td>\n      <td>0.0</td>\n      <td>0.0</td>\n      <td>0.000000</td>\n      <td>0.000000</td>\n      <td>1</td>\n      <td>0</td>\n    </tr>\n    <tr>\n      <th>71</th>\n      <td>2018-09-08</td>\n      <td>Bangladesh</td>\n      <td>Nepal</td>\n      <td>194.0</td>\n      <td>161.0</td>\n      <td>0</td>\n      <td>2</td>\n      <td>1</td>\n      <td>33.0</td>\n      <td>0.0</td>\n      <td>...</td>\n      <td>2.0</td>\n      <td>2.0</td>\n      <td>0.010440</td>\n      <td>0.010440</td>\n      <td>1.5</td>\n      <td>1.5</td>\n      <td>0.008197</td>\n      <td>0.008197</td>\n      <td>1</td>\n      <td>0</td>\n    </tr>\n    <tr>\n      <th>74</th>\n      <td>2018-09-09</td>\n      <td>France</td>\n      <td>Netherlands</td>\n      <td>1.0</td>\n      <td>17.0</td>\n      <td>2</td>\n      <td>1</td>\n      <td>0</td>\n      <td>-16.0</td>\n      <td>-6.0</td>\n      <td>...</td>\n      <td>1.0</td>\n      <td>1.0</td>\n      <td>0.066667</td>\n      <td>0.066667</td>\n      <td>3.0</td>\n      <td>3.0</td>\n      <td>0.150000</td>\n      <td>0.150000</td>\n      <td>1</td>\n      <td>0</td>\n    </tr>\n    <tr>\n      <th>75</th>\n      <td>2018-09-09</td>\n      <td>Ukraine</td>\n      <td>Slovakia</td>\n      <td>35.0</td>\n      <td>26.0</td>\n      <td>1</td>\n      <td>0</td>\n      <td>0</td>\n      <td>9.0</td>\n      <td>0.0</td>\n      <td>...</td>\n      <td>3.0</td>\n      <td>3.0</td>\n      <td>0.068182</td>\n      <td>0.068182</td>\n      <td>3.0</td>\n      <td>3.0</td>\n      <td>0.333333</td>\n      <td>0.333333</td>\n      <td>1</td>\n      <td>0</td>\n    </tr>\n    <tr>\n      <th>76</th>\n      <td>2018-09-09</td>\n      <td>Denmark</td>\n      <td>Wales</td>\n      <td>9.0</td>\n      <td>19.0</td>\n      <td>2</td>\n      <td>0</td>\n      <td>0</td>\n      <td>-10.0</td>\n      <td>-3.0</td>\n      <td>...</td>\n      <td>0.0</td>\n      <td>0.0</td>\n      <td>0.000000</td>\n      <td>0.000000</td>\n      <td>3.0</td>\n      <td>3.0</td>\n      <td>0.103448</td>\n      <td>0.103448</td>\n      <td>1</td>\n      <td>0</td>\n    </tr>\n  </tbody>\n</table>\n<p>10 rows × 37 columns</p>\n</div>"
     },
     "execution_count": 72,
     "metadata": {},
     "output_type": "execute_result"
    }
   ],
   "source": [
    "base_df_no_fg.head(10)"
   ],
   "metadata": {
    "collapsed": false
   }
  }
 ],
 "metadata": {
  "kernelspec": {
   "display_name": "Python 3",
   "language": "python",
   "name": "python3"
  },
  "language_info": {
   "codemirror_mode": {
    "name": "ipython",
    "version": 2
   },
   "file_extension": ".py",
   "mimetype": "text/x-python",
   "name": "python",
   "nbconvert_exporter": "python",
   "pygments_lexer": "ipython2",
   "version": "2.7.6"
  }
 },
 "nbformat": 4,
 "nbformat_minor": 0
}
