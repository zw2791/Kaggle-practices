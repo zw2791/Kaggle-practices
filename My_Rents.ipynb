{
 "cells":[
  {
   "cell_type":"markdown",
   "source":[
    "## Investigation on my rents in the past 11 months"
   ],
   "attachments":{
    
   },
   "metadata":{
    "datalore":{
     "type":"MD",
     "hide_input_from_viewers":false,
     "hide_output_from_viewers":false,
     "node_id":"iXhiv0K5zBcmCjYNLEYxoR"
    }
   }
  },
  {
   "cell_type":"code",
   "source":[
    "# Importing the required libraries\n",
    "import pandas as pd\n",
    "import matplotlib.pyplot as plt\n",
    "import seaborn as sns"
   ],
   "execution_count":1,
   "outputs":[
    
   ],
   "metadata":{
    "datalore":{
     "type":"CODE",
     "hide_input_from_viewers":false,
     "hide_output_from_viewers":false,
     "node_id":"OAZyLt955tltlNoeTwFyFC"
    }
   }
  },
  {
   "cell_type":"code",
   "source":[
    "import warnings\n",
    "warnings.filterwarnings(\"ignore\")"
   ],
   "execution_count":2,
   "outputs":[
    
   ],
   "metadata":{
    "datalore":{
     "type":"CODE",
     "hide_input_from_viewers":false,
     "hide_output_from_viewers":false,
     "node_id":"hYp6RoXPrC6tTdGLj5uuAp"
    }
   }
  },
  {
   "cell_type":"code",
   "source":[
    "path = '1.txt.csv'\n",
    "header = ['Date', 'Description', 'Payments', \"Charges\", 'Balance']\n",
    "balance = pd.read_csv(path, names=header)"
   ],
   "execution_count":3,
   "outputs":[
    
   ],
   "metadata":{
    "datalore":{
     "type":"CODE",
     "hide_input_from_viewers":false,
     "hide_output_from_viewers":false,
     "node_id":"K60Ppxz8JYHB6gyLfutZok"
    }
   }
  },
  {
   "cell_type":"code",
   "source":[
    "times, cols = balance.shape\n",
    "print(f\"Total {times} transactions occured\")"
   ],
   "execution_count":4,
   "outputs":[
    {
     "name":"stdout",
     "text":[
      "Total 55 transactions occured\n"
     ],
     "output_type":"stream"
    }
   ],
   "metadata":{
    "datalore":{
     "type":"CODE",
     "hide_input_from_viewers":false,
     "hide_output_from_viewers":false,
     "node_id":"xbESqhslX0ai0xki4WjU3P"
    }
   }
  },
  {
   "cell_type":"code",
   "source":[
    "balance.head()"
   ],
   "execution_count":5,
   "outputs":[
    {
     "data":{
      "text\/html":[
       "<div>\n",
       "<style scoped>\n",
       "    .dataframe tbody tr th:only-of-type {\n",
       "        vertical-align: middle;\n",
       "    }\n",
       "\n",
       "    .dataframe tbody tr th {\n",
       "        vertical-align: top;\n",
       "    }\n",
       "\n",
       "    .dataframe thead th {\n",
       "        text-align: right;\n",
       "    }\n",
       "<\/style>\n",
       "<table border=\"1\" class=\"dataframe\">\n",
       "  <thead>\n",
       "    <tr style=\"text-align: right;\">\n",
       "      <th><\/th>\n",
       "      <th>Date<\/th>\n",
       "      <th>Description<\/th>\n",
       "      <th>Payments<\/th>\n",
       "      <th>Charges<\/th>\n",
       "      <th>Balance<\/th>\n",
       "    <\/tr>\n",
       "  <\/thead>\n",
       "  <tbody>\n",
       "    <tr>\n",
       "      <th>0<\/th>\n",
       "      <td>8\/9\/2022<\/td>\n",
       "      <td>Payment<\/td>\n",
       "      <td>$0.00<\/td>\n",
       "      <td>($3,145.21)<\/td>\n",
       "      <td>$0.00<\/td>\n",
       "    <\/tr>\n",
       "    <tr>\n",
       "      <th>1<\/th>\n",
       "      <td>8\/4\/2022<\/td>\n",
       "      <td>CLEANING - APPLIANCES<\/td>\n",
       "      <td>$50.00<\/td>\n",
       "      <td>$0.00<\/td>\n",
       "      <td>($3,145.21)<\/td>\n",
       "    <\/tr>\n",
       "    <tr>\n",
       "      <th>2<\/th>\n",
       "      <td>8\/4\/2022<\/td>\n",
       "      <td>DAMAGE\/CLEANING - TILES<\/td>\n",
       "      <td>$50.00<\/td>\n",
       "      <td>$0.00<\/td>\n",
       "      <td>($3,195.21)<\/td>\n",
       "    <\/tr>\n",
       "    <tr>\n",
       "      <th>3<\/th>\n",
       "      <td>8\/4\/2022<\/td>\n",
       "      <td>CLEANING - SINK\/KITCHEN<\/td>\n",
       "      <td>$25.00<\/td>\n",
       "      <td>$0.00<\/td>\n",
       "      <td>($3,245.21)<\/td>\n",
       "    <\/tr>\n",
       "    <tr>\n",
       "      <th>4<\/th>\n",
       "      <td>8\/4\/2022<\/td>\n",
       "      <td>DAMAGE\/CLEANING - COUNTERTOP<\/td>\n",
       "      <td>$25.00<\/td>\n",
       "      <td>$0.00<\/td>\n",
       "      <td>($3,270.21)<\/td>\n",
       "    <\/tr>\n",
       "  <\/tbody>\n",
       "<\/table>\n",
       "<\/div>"
      ]
     },
     "metadata":{
      
     },
     "output_type":"display_data"
    }
   ],
   "metadata":{
    "datalore":{
     "type":"CODE",
     "hide_input_from_viewers":false,
     "hide_output_from_viewers":false,
     "node_id":"S02GS8a1f2CZvUs0qGVzzr"
    }
   }
  },
  {
   "cell_type":"code",
   "source":[
    "balance.info()"
   ],
   "execution_count":6,
   "outputs":[
    {
     "name":"stdout",
     "text":[
      "<class 'pandas.core.frame.DataFrame'>\n",
      "RangeIndex: 55 entries, 0 to 54\n",
      "Data columns (total 5 columns):\n",
      " #   Column       Non-Null Count  Dtype \n",
      "---  ------       --------------  ----- \n",
      " 0   Date         55 non-null     object\n",
      " 1   Description  55 non-null     object\n",
      " 2   Payments     55 non-null     object\n",
      " 3   Charges      55 non-null     object\n",
      " 4   Balance      55 non-null     object\n",
      "dtypes: object(5)\n",
      "memory usage: 2.3+ KB\n"
     ],
     "output_type":"stream"
    }
   ],
   "metadata":{
    "datalore":{
     "type":"CODE",
     "hide_input_from_viewers":false,
     "hide_output_from_viewers":false,
     "node_id":"IxtstqJKIX5LIE42DeLuZQ"
    }
   }
  },
  {
   "cell_type":"markdown",
   "source":[
    "### Data cleaning"
   ],
   "attachments":{
    
   },
   "metadata":{
    "datalore":{
     "type":"MD",
     "hide_input_from_viewers":false,
     "hide_output_from_viewers":false,
     "node_id":"Kjmp6jpGFLg6YYUsDdDVL4"
    }
   }
  },
  {
   "cell_type":"code",
   "source":[
    "# remove $ sign\n",
    "balance.iloc[:,2:5] = balance.iloc[:,2:5].apply(lambda x: x.str.replace('$',''))\n",
    "# replace () with \"-\", negative\n",
    "balance.iloc[:,2:5] = balance.iloc[:,2:5].apply(lambda x: x.str.replace('(','-'))\n",
    "balance.iloc[:,2:5] = balance.iloc[:,2:5].apply(lambda x: x.str.replace(')',''))\n",
    "balance.iloc[:,2:5] = balance.iloc[:,2:5].apply(lambda x: x.str.replace(',',''))"
   ],
   "execution_count":7,
   "outputs":[
    
   ],
   "metadata":{
    "datalore":{
     "type":"CODE",
     "hide_input_from_viewers":false,
     "hide_output_from_viewers":false,
     "node_id":"RnRSP2A24lr8K6Y4egU5jE"
    }
   }
  },
  {
   "cell_type":"code",
   "source":[
    "# make sure numbers are float\n",
    "for col in range(2,5):\n",
    "    balance.iloc[:,col] = balance.iloc[:,col].apply(float)"
   ],
   "execution_count":8,
   "outputs":[
    
   ],
   "metadata":{
    "datalore":{
     "type":"CODE",
     "hide_input_from_viewers":false,
     "hide_output_from_viewers":false,
     "node_id":"Tq9bo73qcvKi3yOmXRTOKT"
    }
   }
  },
  {
   "cell_type":"code",
   "source":[
    "import datetime as dt\n",
    "# make Date variable datetime\n",
    "balance['Date'] = pd.to_datetime(balance['Date']).dt.date"
   ],
   "execution_count":9,
   "outputs":[
    
   ],
   "metadata":{
    "datalore":{
     "type":"CODE",
     "hide_input_from_viewers":false,
     "hide_output_from_viewers":false,
     "node_id":"MUVeDzeoT1v2woOtFen4QX"
    }
   }
  },
  {
   "cell_type":"markdown",
   "source":[
    "## EDA"
   ],
   "attachments":{
    
   },
   "metadata":{
    "datalore":{
     "type":"MD",
     "hide_input_from_viewers":false,
     "hide_output_from_viewers":false,
     "node_id":"lx0QeATOcycjXpaa8UYItO"
    }
   }
  },
  {
   "cell_type":"code",
   "source":[
    "# see if all charges are clear\n",
    "(balance['Payments'] - balance['Charges']).sum().round()"
   ],
   "execution_count":16,
   "outputs":[
    {
     "data":{
      "text\/plain":[
       "0.0"
      ]
     },
     "metadata":{
      
     },
     "output_type":"display_data"
    }
   ],
   "metadata":{
    "datalore":{
     "type":"CODE",
     "hide_input_from_viewers":false,
     "hide_output_from_viewers":false,
     "node_id":"4EUGEA3GKbY7MuPtOlLsdz"
    }
   }
  },
  {
   "cell_type":"code",
   "source":[
    "# lets visualize the payments, charges, and balance in past 11 months\n",
    "f, ax = plt.subplots(figsize=(18, 10))\n",
    "sns.set_theme(style=\"whitegrid\")\n",
    "\n",
    "sns.lineplot(data=balance, x='Date', y='Balance', ci=None)\n",
    "sns.scatterplot(data=balance, x='Date', y='Payments')\n",
    "sns.scatterplot(data=balance, x='Date', y='Charges')\n",
    "        \n",
    "plt.title('Balance over time', fontweight =\"bold\")\n",
    "plt.legend(labels=[\"Balance\", \"Payments\", 'Charges']);"
   ],
   "execution_count":17,
   "outputs":[
    {
     "data":{
      "image\/png":"[encoded data removed]"
     },
     "metadata":{
      "image\/png":{
       
      }
     },
     "output_type":"display_data"
    }
   ],
   "metadata":{
    "datalore":{
     "type":"CODE",
     "hide_input_from_viewers":false,
     "hide_output_from_viewers":false,
     "node_id":"Kb9oPbY7Gtw1ZKuiZXKGHL"
    }
   }
  },
  {
   "cell_type":"code",
   "source":[
    
   ],
   "execution_count":null,
   "outputs":[
    
   ],
   "metadata":{
    "datalore":{
     "type":"CODE",
     "hide_input_from_viewers":false,
     "hide_output_from_viewers":false,
     "node_id":"Hp4y2W9GHNc7Hm5JTs5dSW"
    }
   }
  }
 ],
 "metadata":{
  "kernelspec":{
   "display_name":"Python",
   "language":"python",
   "name":"python"
  },
  "datalore":{
   "version":1,
   "computation_mode":"JUPYTER",
   "package_manager":"pip",
   "base_environment":"default",
   "packages":[
    
   ]
  }
 },
 "nbformat":4,
 "nbformat_minor":4
}