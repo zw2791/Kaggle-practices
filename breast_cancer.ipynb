{
 "cells":[
  {
   "cell_type":"code",
   "source":[
    "# import packages\n",
    "import pandas as pd\n",
    "import numpy as np\n",
    "import matplotlib.pyplot as plt\n",
    "import seaborn as sns\n",
    "\n",
    "import warnings; warnings.filterwarnings(\"ignore\")"
   ],
   "execution_count":42,
   "outputs":[
    
   ],
   "metadata":{
    "datalore":{
     "type":"CODE",
     "hide_input_from_viewers":false,
     "hide_output_from_viewers":false,
     "node_id":"wzERxPMkOVYEdofqgiPmK5"
    }
   }
  },
  {
   "cell_type":"code",
   "source":[
    "# load data\n",
    "path = 'BRCA.csv'\n",
    "df = pd.read_csv(path)"
   ],
   "execution_count":43,
   "outputs":[
    
   ],
   "metadata":{
    "datalore":{
     "type":"CODE",
     "hide_input_from_viewers":false,
     "hide_output_from_viewers":false,
     "node_id":"lNIMzh1mC6cbsQ32Ge14V4"
    }
   }
  },
  {
   "cell_type":"code",
   "source":[
    "df.shape"
   ],
   "execution_count":44,
   "outputs":[
    {
     "data":{
      "text\/plain":[
       "(341, 16)"
      ]
     },
     "metadata":{
      
     },
     "output_type":"display_data"
    }
   ],
   "metadata":{
    "datalore":{
     "type":"CODE",
     "hide_input_from_viewers":false,
     "hide_output_from_viewers":false,
     "node_id":"EXSDmDNRBuTVmaPzFGvT9a"
    }
   }
  },
  {
   "cell_type":"code",
   "source":[
    "# inspact dataframe\n",
    "pd.set_option('display.max_columns', None)\n",
    "df.head(10)"
   ],
   "execution_count":45,
   "outputs":[
    {
     "data":{
      "text\/html":[
       "<div>\n",
       "<style scoped>\n",
       "    .dataframe tbody tr th:only-of-type {\n",
       "        vertical-align: middle;\n",
       "    }\n",
       "\n",
       "    .dataframe tbody tr th {\n",
       "        vertical-align: top;\n",
       "    }\n",
       "\n",
       "    .dataframe thead th {\n",
       "        text-align: right;\n",
       "    }\n",
       "<\/style>\n",
       "<table border=\"1\" class=\"dataframe\">\n",
       "  <thead>\n",
       "    <tr style=\"text-align: right;\">\n",
       "      <th><\/th>\n",
       "      <th>Patient_ID<\/th>\n",
       "      <th>Age<\/th>\n",
       "      <th>Gender<\/th>\n",
       "      <th>Protein1<\/th>\n",
       "      <th>Protein2<\/th>\n",
       "      <th>Protein3<\/th>\n",
       "      <th>Protein4<\/th>\n",
       "      <th>Tumour_Stage<\/th>\n",
       "      <th>Histology<\/th>\n",
       "      <th>ER status<\/th>\n",
       "      <th>PR status<\/th>\n",
       "      <th>HER2 status<\/th>\n",
       "      <th>Surgery_type<\/th>\n",
       "      <th>Date_of_Surgery<\/th>\n",
       "      <th>Date_of_Last_Visit<\/th>\n",
       "      <th>Patient_Status<\/th>\n",
       "    <\/tr>\n",
       "  <\/thead>\n",
       "  <tbody>\n",
       "    <tr>\n",
       "      <th>0<\/th>\n",
       "      <td>TCGA-D8-A1XD<\/td>\n",
       "      <td>36.0<\/td>\n",
       "      <td>FEMALE<\/td>\n",
       "      <td>0.080353<\/td>\n",
       "      <td>0.42638<\/td>\n",
       "      <td>0.547150<\/td>\n",
       "      <td>0.273680<\/td>\n",
       "      <td>III<\/td>\n",
       "      <td>Infiltrating Ductal Carcinoma<\/td>\n",
       "      <td>Positive<\/td>\n",
       "      <td>Positive<\/td>\n",
       "      <td>Negative<\/td>\n",
       "      <td>Modified Radical Mastectomy<\/td>\n",
       "      <td>15-Jan-17<\/td>\n",
       "      <td>19-Jun-17<\/td>\n",
       "      <td>Alive<\/td>\n",
       "    <\/tr>\n",
       "    <tr>\n",
       "      <th>1<\/th>\n",
       "      <td>TCGA-EW-A1OX<\/td>\n",
       "      <td>43.0<\/td>\n",
       "      <td>FEMALE<\/td>\n",
       "      <td>-0.420320<\/td>\n",
       "      <td>0.57807<\/td>\n",
       "      <td>0.614470<\/td>\n",
       "      <td>-0.031505<\/td>\n",
       "      <td>II<\/td>\n",
       "      <td>Mucinous Carcinoma<\/td>\n",
       "      <td>Positive<\/td>\n",
       "      <td>Positive<\/td>\n",
       "      <td>Negative<\/td>\n",
       "      <td>Lumpectomy<\/td>\n",
       "      <td>26-Apr-17<\/td>\n",
       "      <td>09-Nov-18<\/td>\n",
       "      <td>Dead<\/td>\n",
       "    <\/tr>\n",
       "    <tr>\n",
       "      <th>2<\/th>\n",
       "      <td>TCGA-A8-A079<\/td>\n",
       "      <td>69.0<\/td>\n",
       "      <td>FEMALE<\/td>\n",
       "      <td>0.213980<\/td>\n",
       "      <td>1.31140<\/td>\n",
       "      <td>-0.327470<\/td>\n",
       "      <td>-0.234260<\/td>\n",
       "      <td>III<\/td>\n",
       "      <td>Infiltrating Ductal Carcinoma<\/td>\n",
       "      <td>Positive<\/td>\n",
       "      <td>Positive<\/td>\n",
       "      <td>Negative<\/td>\n",
       "      <td>Other<\/td>\n",
       "      <td>08-Sep-17<\/td>\n",
       "      <td>09-Jun-18<\/td>\n",
       "      <td>Alive<\/td>\n",
       "    <\/tr>\n",
       "    <tr>\n",
       "      <th>3<\/th>\n",
       "      <td>TCGA-D8-A1XR<\/td>\n",
       "      <td>56.0<\/td>\n",
       "      <td>FEMALE<\/td>\n",
       "      <td>0.345090<\/td>\n",
       "      <td>-0.21147<\/td>\n",
       "      <td>-0.193040<\/td>\n",
       "      <td>0.124270<\/td>\n",
       "      <td>II<\/td>\n",
       "      <td>Infiltrating Ductal Carcinoma<\/td>\n",
       "      <td>Positive<\/td>\n",
       "      <td>Positive<\/td>\n",
       "      <td>Negative<\/td>\n",
       "      <td>Modified Radical Mastectomy<\/td>\n",
       "      <td>25-Jan-17<\/td>\n",
       "      <td>12-Jul-17<\/td>\n",
       "      <td>Alive<\/td>\n",
       "    <\/tr>\n",
       "    <tr>\n",
       "      <th>4<\/th>\n",
       "      <td>TCGA-BH-A0BF<\/td>\n",
       "      <td>56.0<\/td>\n",
       "      <td>FEMALE<\/td>\n",
       "      <td>0.221550<\/td>\n",
       "      <td>1.90680<\/td>\n",
       "      <td>0.520450<\/td>\n",
       "      <td>-0.311990<\/td>\n",
       "      <td>II<\/td>\n",
       "      <td>Infiltrating Ductal Carcinoma<\/td>\n",
       "      <td>Positive<\/td>\n",
       "      <td>Positive<\/td>\n",
       "      <td>Negative<\/td>\n",
       "      <td>Other<\/td>\n",
       "      <td>06-May-17<\/td>\n",
       "      <td>27-Jun-19<\/td>\n",
       "      <td>Dead<\/td>\n",
       "    <\/tr>\n",
       "    <tr>\n",
       "      <th>5<\/th>\n",
       "      <td>TCGA-AO-A1KQ<\/td>\n",
       "      <td>84.0<\/td>\n",
       "      <td>MALE<\/td>\n",
       "      <td>-0.081872<\/td>\n",
       "      <td>1.72410<\/td>\n",
       "      <td>-0.057335<\/td>\n",
       "      <td>0.043025<\/td>\n",
       "      <td>III<\/td>\n",
       "      <td>Infiltrating Ductal Carcinoma<\/td>\n",
       "      <td>Positive<\/td>\n",
       "      <td>Positive<\/td>\n",
       "      <td>Negative<\/td>\n",
       "      <td>Modified Radical Mastectomy<\/td>\n",
       "      <td>18-Sep-17<\/td>\n",
       "      <td>15-Nov-21<\/td>\n",
       "      <td>Alive<\/td>\n",
       "    <\/tr>\n",
       "    <tr>\n",
       "      <th>6<\/th>\n",
       "      <td>TCGA-D8-A73X<\/td>\n",
       "      <td>53.0<\/td>\n",
       "      <td>FEMALE<\/td>\n",
       "      <td>-0.069535<\/td>\n",
       "      <td>1.41830<\/td>\n",
       "      <td>-0.361050<\/td>\n",
       "      <td>0.391580<\/td>\n",
       "      <td>II<\/td>\n",
       "      <td>Infiltrating Ductal Carcinoma<\/td>\n",
       "      <td>Positive<\/td>\n",
       "      <td>Positive<\/td>\n",
       "      <td>Negative<\/td>\n",
       "      <td>Simple Mastectomy<\/td>\n",
       "      <td>04-Feb-17<\/td>\n",
       "      <td>07-Feb-18<\/td>\n",
       "      <td>Alive<\/td>\n",
       "    <\/tr>\n",
       "    <tr>\n",
       "      <th>7<\/th>\n",
       "      <td>TCGA-A7-A426<\/td>\n",
       "      <td>50.0<\/td>\n",
       "      <td>FEMALE<\/td>\n",
       "      <td>0.672490<\/td>\n",
       "      <td>1.27900<\/td>\n",
       "      <td>-0.321070<\/td>\n",
       "      <td>-0.112390<\/td>\n",
       "      <td>III<\/td>\n",
       "      <td>Infiltrating Ductal Carcinoma<\/td>\n",
       "      <td>Positive<\/td>\n",
       "      <td>Positive<\/td>\n",
       "      <td>Negative<\/td>\n",
       "      <td>Simple Mastectomy<\/td>\n",
       "      <td>16-May-17<\/td>\n",
       "      <td>NaN<\/td>\n",
       "      <td>NaN<\/td>\n",
       "    <\/tr>\n",
       "    <tr>\n",
       "      <th>8<\/th>\n",
       "      <td>TCGA-EW-A1P5<\/td>\n",
       "      <td>77.0<\/td>\n",
       "      <td>FEMALE<\/td>\n",
       "      <td>-0.151750<\/td>\n",
       "      <td>-0.66332<\/td>\n",
       "      <td>1.189400<\/td>\n",
       "      <td>0.217180<\/td>\n",
       "      <td>II<\/td>\n",
       "      <td>Infiltrating Ductal Carcinoma<\/td>\n",
       "      <td>Positive<\/td>\n",
       "      <td>Positive<\/td>\n",
       "      <td>Negative<\/td>\n",
       "      <td>Modified Radical Mastectomy<\/td>\n",
       "      <td>28-Sep-17<\/td>\n",
       "      <td>28-Sep-18<\/td>\n",
       "      <td>Alive<\/td>\n",
       "    <\/tr>\n",
       "    <tr>\n",
       "      <th>9<\/th>\n",
       "      <td>TCGA-A8-A09A<\/td>\n",
       "      <td>40.0<\/td>\n",
       "      <td>FEMALE<\/td>\n",
       "      <td>-0.565700<\/td>\n",
       "      <td>1.26680<\/td>\n",
       "      <td>-0.293460<\/td>\n",
       "      <td>0.193950<\/td>\n",
       "      <td>II<\/td>\n",
       "      <td>Infiltrating Lobular Carcinoma<\/td>\n",
       "      <td>Positive<\/td>\n",
       "      <td>Positive<\/td>\n",
       "      <td>Positive<\/td>\n",
       "      <td>Other<\/td>\n",
       "      <td>14-Feb-17<\/td>\n",
       "      <td>15-Dec-17<\/td>\n",
       "      <td>Alive<\/td>\n",
       "    <\/tr>\n",
       "  <\/tbody>\n",
       "<\/table>\n",
       "<\/div>"
      ]
     },
     "metadata":{
      
     },
     "output_type":"display_data"
    }
   ],
   "metadata":{
    "datalore":{
     "type":"CODE",
     "hide_input_from_viewers":false,
     "hide_output_from_viewers":false,
     "node_id":"dwkPLA1bjVJa8tZSl5dczC"
    }
   }
  },
  {
   "cell_type":"code",
   "source":[
    "# --- check data quality ---\n",
    "df = df.dropna(how='all') # delete rows contain only nulls\n",
    "\n",
    "missing = df.isnull().sum()\n",
    "index, values = missing.index, missing.values\n",
    "\n",
    "plt.figure(figsize=(20,10))\n",
    "plt.xticks(rotation = 45)\n",
    "sns.lineplot(x=index, y=values);"
   ],
   "execution_count":46,
   "outputs":[
    {
     "data":{
      "image\/png":"[encoded data removed]"
     },
     "metadata":{
      "image\/png":{
       
      }
     },
     "output_type":"display_data"
    }
   ],
   "metadata":{
    "datalore":{
     "type":"CODE",
     "hide_input_from_viewers":false,
     "hide_output_from_viewers":false,
     "node_id":"ltSiCuwrs6lIrbGRkC0Srp"
    }
   }
  },
  {
   "cell_type":"code",
   "source":[
    "# We noticed that only Date_of_Surgery and Patient_Status have nulls\n",
    "# Since there are not many nulls, I will delete those rows\n",
    "df = df.dropna()"
   ],
   "execution_count":47,
   "outputs":[
    
   ],
   "metadata":{
    "datalore":{
     "type":"CODE",
     "hide_input_from_viewers":false,
     "hide_output_from_viewers":false,
     "node_id":"xqONjJAzTLU11PNmuSsUVL"
    }
   }
  },
  {
   "cell_type":"code",
   "source":[
    "# check duplicates\n",
    "df.duplicated().sum() # 0"
   ],
   "execution_count":48,
   "outputs":[
    {
     "data":{
      "text\/plain":[
       "0"
      ]
     },
     "metadata":{
      
     },
     "output_type":"display_data"
    }
   ],
   "metadata":{
    "datalore":{
     "type":"CODE",
     "hide_input_from_viewers":false,
     "hide_output_from_viewers":false,
     "node_id":"7xyY4pJHznZlNN8taaYGWC"
    }
   }
  },
  {
   "cell_type":"code",
   "source":[
    "# --- clean data ---\n",
    "list(df.columns) # check column names"
   ],
   "execution_count":49,
   "outputs":[
    {
     "data":{
      "text\/plain":[
       "['Patient_ID',\n",
       " 'Age',\n",
       " 'Gender',\n",
       " 'Protein1',\n",
       " 'Protein2',\n",
       " 'Protein3',\n",
       " 'Protein4',\n",
       " 'Tumour_Stage',\n",
       " 'Histology',\n",
       " 'ER status',\n",
       " 'PR status',\n",
       " 'HER2 status',\n",
       " 'Surgery_type',\n",
       " 'Date_of_Surgery',\n",
       " 'Date_of_Last_Visit',\n",
       " 'Patient_Status']"
      ]
     },
     "metadata":{
      
     },
     "output_type":"display_data"
    }
   ],
   "metadata":{
    "datalore":{
     "type":"CODE",
     "hide_input_from_viewers":false,
     "hide_output_from_viewers":false,
     "node_id":"5dFdojLMPzFJjKecfB0bMS"
    }
   }
  },
  {
   "cell_type":"code",
   "source":[
    "# check the distribution of class\n",
    "sns.displot(data=df, x = \"Patient_Status\", hue=\"Patient_Status\");"
   ],
   "execution_count":50,
   "outputs":[
    {
     "data":{
      "image\/png":"[encoded data removed]"
     },
     "metadata":{
      "image\/png":{
       
      }
     },
     "output_type":"display_data"
    }
   ],
   "metadata":{
    "datalore":{
     "type":"CODE",
     "hide_input_from_viewers":false,
     "hide_output_from_viewers":false,
     "node_id":"jjS52R6Hsuz37uJek11Q0W"
    }
   }
  },
  {
   "cell_type":"markdown",
   "source":[
    "## Precrocessing"
   ],
   "attachments":{
    
   },
   "metadata":{
    "datalore":{
     "type":"MD",
     "hide_input_from_viewers":false,
     "hide_output_from_viewers":false,
     "node_id":"jroxyAcRsDgYUhd712F9zk"
    }
   }
  },
  {
   "cell_type":"markdown",
   "source":[
    "### Encoding"
   ],
   "attachments":{
    
   },
   "metadata":{
    "datalore":{
     "type":"MD",
     "hide_input_from_viewers":false,
     "hide_output_from_viewers":false,
     "node_id":"RHa1Ml6H0MgYPG70iZFTtC"
    }
   }
  },
  {
   "cell_type":"code",
   "source":[
    "# onehot encoding on gender variable\n",
    "df = pd.get_dummies(df, columns=['Gender'], drop_first=True)"
   ],
   "execution_count":51,
   "outputs":[
    
   ],
   "metadata":{
    "datalore":{
     "type":"CODE",
     "hide_input_from_viewers":false,
     "hide_output_from_viewers":false,
     "node_id":"M101RNs4O3KP2b0j2mHLu5"
    }
   }
  },
  {
   "cell_type":"code",
   "source":[
    "# one hot encoding on Tumour_Stage\n",
    "df = pd.get_dummies(df, columns=['Tumour_Stage'], drop_first=True)"
   ],
   "execution_count":52,
   "outputs":[
    
   ],
   "metadata":{
    "datalore":{
     "type":"CODE",
     "hide_input_from_viewers":false,
     "hide_output_from_viewers":false,
     "node_id":"JZpJvUd0qzMpAttzpFZ2Fj"
    }
   }
  },
  {
   "cell_type":"code",
   "source":[
    "# let's look at histology\n",
    "df['Histology'].nunique() # 3\n",
    "# then encode it\n",
    "df = pd.get_dummies(df, columns=['Histology'], drop_first=True)"
   ],
   "execution_count":53,
   "outputs":[
    
   ],
   "metadata":{
    "datalore":{
     "type":"CODE",
     "hide_input_from_viewers":false,
     "hide_output_from_viewers":false,
     "node_id":"y6R7WAJUW2FVzx5ybGYoOn"
    }
   }
  },
  {
   "cell_type":"code",
   "source":[
    "# check unique values for ER status\n",
    "df['ER status'].value_counts() # it only contains positive"
   ],
   "execution_count":54,
   "outputs":[
    {
     "data":{
      "text\/html":[
       
      ]
     },
     "metadata":{
      
     },
     "output_type":"display_data"
    }
   ],
   "metadata":{
    "datalore":{
     "type":"CODE",
     "hide_input_from_viewers":false,
     "hide_output_from_viewers":false,
     "node_id":"CAVdXpeF3dAEDUAw88qVeC"
    }
   }
  },
  {
   "cell_type":"code",
   "source":[
    "# check unique values for PR status\n",
    "df['PR status'].value_counts() # it only contains positive too"
   ],
   "execution_count":55,
   "outputs":[
    {
     "data":{
      "text\/html":[
       
      ]
     },
     "metadata":{
      
     },
     "output_type":"display_data"
    }
   ],
   "metadata":{
    "datalore":{
     "type":"CODE",
     "hide_input_from_viewers":false,
     "hide_output_from_viewers":false,
     "node_id":"iPV3KGYk3UBJQhobP7VdDb"
    }
   }
  },
  {
   "cell_type":"code",
   "source":[
    "# how about HER2 status?\n",
    "df['HER2 status'].value_counts() # ok we can encode this one\n",
    "\n",
    "df = pd.get_dummies(df, columns=['HER2 status'], drop_first=True)"
   ],
   "execution_count":56,
   "outputs":[
    
   ],
   "metadata":{
    "datalore":{
     "type":"CODE",
     "hide_input_from_viewers":false,
     "hide_output_from_viewers":false,
     "node_id":"sTx9ewODfo1HBwSLnnepEJ"
    }
   }
  },
  {
   "cell_type":"code",
   "source":[
    "# it is necessary to encode Surgery_type?\n",
    "df['Surgery_type'].nunique() # it has 4 different values\n",
    "# then encode it\n",
    "df = pd.get_dummies(df, columns=['Surgery_type'], drop_first=True)"
   ],
   "execution_count":57,
   "outputs":[
    
   ],
   "metadata":{
    "datalore":{
     "type":"CODE",
     "hide_input_from_viewers":false,
     "hide_output_from_viewers":false,
     "node_id":"mF5NyRxwv23m0Iyrz71d9W"
    }
   }
  },
  {
   "cell_type":"code",
   "source":[
    "# date variables will not help us predict, so drop them\n",
    "df = df.drop(columns=['Date_of_Surgery', 'Date_of_Last_Visit', 'ER status', 'PR status'], axis=1)"
   ],
   "execution_count":58,
   "outputs":[
    
   ],
   "metadata":{
    "datalore":{
     "type":"CODE",
     "hide_input_from_viewers":false,
     "hide_output_from_viewers":false,
     "node_id":"9OXdNwIQ8ZSa4qonY5V5SZ"
    }
   }
  },
  {
   "cell_type":"code",
   "source":[
    "# last step: encode target classes\n",
    "df = pd.get_dummies(df, columns=['Patient_Status'], drop_first=True)"
   ],
   "execution_count":59,
   "outputs":[
    
   ],
   "metadata":{
    "datalore":{
     "type":"CODE",
     "hide_input_from_viewers":false,
     "hide_output_from_viewers":false,
     "node_id":"t2XMj6Y7UtFAgNq5J4dAwi"
    }
   }
  },
  {
   "cell_type":"code",
   "source":[
    "# finally let's look at our data\n",
    "df.head()"
   ],
   "execution_count":60,
   "outputs":[
    {
     "data":{
      "text\/html":[
       "<div>\n",
       "<style scoped>\n",
       "    .dataframe tbody tr th:only-of-type {\n",
       "        vertical-align: middle;\n",
       "    }\n",
       "\n",
       "    .dataframe tbody tr th {\n",
       "        vertical-align: top;\n",
       "    }\n",
       "\n",
       "    .dataframe thead th {\n",
       "        text-align: right;\n",
       "    }\n",
       "<\/style>\n",
       "<table border=\"1\" class=\"dataframe\">\n",
       "  <thead>\n",
       "    <tr style=\"text-align: right;\">\n",
       "      <th><\/th>\n",
       "      <th>Patient_ID<\/th>\n",
       "      <th>Age<\/th>\n",
       "      <th>Protein1<\/th>\n",
       "      <th>Protein2<\/th>\n",
       "      <th>Protein3<\/th>\n",
       "      <th>Protein4<\/th>\n",
       "      <th>Gender_MALE<\/th>\n",
       "      <th>Tumour_Stage_II<\/th>\n",
       "      <th>Tumour_Stage_III<\/th>\n",
       "      <th>Histology_Infiltrating Lobular Carcinoma<\/th>\n",
       "      <th>Histology_Mucinous Carcinoma<\/th>\n",
       "      <th>HER2 status_Positive<\/th>\n",
       "      <th>Surgery_type_Modified Radical Mastectomy<\/th>\n",
       "      <th>Surgery_type_Other<\/th>\n",
       "      <th>Surgery_type_Simple Mastectomy<\/th>\n",
       "      <th>Patient_Status_Dead<\/th>\n",
       "    <\/tr>\n",
       "  <\/thead>\n",
       "  <tbody>\n",
       "    <tr>\n",
       "      <th>0<\/th>\n",
       "      <td>TCGA-D8-A1XD<\/td>\n",
       "      <td>36.0<\/td>\n",
       "      <td>0.080353<\/td>\n",
       "      <td>0.42638<\/td>\n",
       "      <td>0.54715<\/td>\n",
       "      <td>0.273680<\/td>\n",
       "      <td>0<\/td>\n",
       "      <td>0<\/td>\n",
       "      <td>1<\/td>\n",
       "      <td>0<\/td>\n",
       "      <td>0<\/td>\n",
       "      <td>0<\/td>\n",
       "      <td>1<\/td>\n",
       "      <td>0<\/td>\n",
       "      <td>0<\/td>\n",
       "      <td>0<\/td>\n",
       "    <\/tr>\n",
       "    <tr>\n",
       "      <th>1<\/th>\n",
       "      <td>TCGA-EW-A1OX<\/td>\n",
       "      <td>43.0<\/td>\n",
       "      <td>-0.420320<\/td>\n",
       "      <td>0.57807<\/td>\n",
       "      <td>0.61447<\/td>\n",
       "      <td>-0.031505<\/td>\n",
       "      <td>0<\/td>\n",
       "      <td>1<\/td>\n",
       "      <td>0<\/td>\n",
       "      <td>0<\/td>\n",
       "      <td>1<\/td>\n",
       "      <td>0<\/td>\n",
       "      <td>0<\/td>\n",
       "      <td>0<\/td>\n",
       "      <td>0<\/td>\n",
       "      <td>1<\/td>\n",
       "    <\/tr>\n",
       "    <tr>\n",
       "      <th>2<\/th>\n",
       "      <td>TCGA-A8-A079<\/td>\n",
       "      <td>69.0<\/td>\n",
       "      <td>0.213980<\/td>\n",
       "      <td>1.31140<\/td>\n",
       "      <td>-0.32747<\/td>\n",
       "      <td>-0.234260<\/td>\n",
       "      <td>0<\/td>\n",
       "      <td>0<\/td>\n",
       "      <td>1<\/td>\n",
       "      <td>0<\/td>\n",
       "      <td>0<\/td>\n",
       "      <td>0<\/td>\n",
       "      <td>0<\/td>\n",
       "      <td>1<\/td>\n",
       "      <td>0<\/td>\n",
       "      <td>0<\/td>\n",
       "    <\/tr>\n",
       "    <tr>\n",
       "      <th>3<\/th>\n",
       "      <td>TCGA-D8-A1XR<\/td>\n",
       "      <td>56.0<\/td>\n",
       "      <td>0.345090<\/td>\n",
       "      <td>-0.21147<\/td>\n",
       "      <td>-0.19304<\/td>\n",
       "      <td>0.124270<\/td>\n",
       "      <td>0<\/td>\n",
       "      <td>1<\/td>\n",
       "      <td>0<\/td>\n",
       "      <td>0<\/td>\n",
       "      <td>0<\/td>\n",
       "      <td>0<\/td>\n",
       "      <td>1<\/td>\n",
       "      <td>0<\/td>\n",
       "      <td>0<\/td>\n",
       "      <td>0<\/td>\n",
       "    <\/tr>\n",
       "    <tr>\n",
       "      <th>4<\/th>\n",
       "      <td>TCGA-BH-A0BF<\/td>\n",
       "      <td>56.0<\/td>\n",
       "      <td>0.221550<\/td>\n",
       "      <td>1.90680<\/td>\n",
       "      <td>0.52045<\/td>\n",
       "      <td>-0.311990<\/td>\n",
       "      <td>0<\/td>\n",
       "      <td>1<\/td>\n",
       "      <td>0<\/td>\n",
       "      <td>0<\/td>\n",
       "      <td>0<\/td>\n",
       "      <td>0<\/td>\n",
       "      <td>0<\/td>\n",
       "      <td>1<\/td>\n",
       "      <td>0<\/td>\n",
       "      <td>1<\/td>\n",
       "    <\/tr>\n",
       "  <\/tbody>\n",
       "<\/table>\n",
       "<\/div>"
      ]
     },
     "metadata":{
      
     },
     "output_type":"display_data"
    }
   ],
   "metadata":{
    "datalore":{
     "type":"CODE",
     "hide_input_from_viewers":false,
     "hide_output_from_viewers":false,
     "node_id":"430ayLjEwvtcEeP11vhcHp"
    }
   }
  },
  {
   "cell_type":"code",
   "source":[
    "r, c = df.shape\n",
    "print('{} rows and {} columns after encoding'.format(r,c))"
   ],
   "execution_count":61,
   "outputs":[
    {
     "name":"stdout",
     "text":[
      "317 rows and 16 columns after encoding\n"
     ],
     "output_type":"stream"
    }
   ],
   "metadata":{
    "datalore":{
     "type":"CODE",
     "hide_input_from_viewers":false,
     "hide_output_from_viewers":false,
     "node_id":"e8Zmq1NK5h3909kDGNuhQq"
    }
   }
  },
  {
   "cell_type":"markdown",
   "source":[
    "### Split data"
   ],
   "attachments":{
    
   },
   "metadata":{
    "datalore":{
     "type":"MD",
     "hide_input_from_viewers":false,
     "hide_output_from_viewers":false,
     "node_id":"tKp8897OjTH8gGHOGn4ZkY"
    }
   }
  },
  {
   "cell_type":"code",
   "source":[
    "# features\n",
    "X = df.drop(columns=['Patient_Status_Dead', 'Patient_ID'], axis=1)\n",
    "y = df['Patient_Status_Dead']\n",
    "\n",
    "from sklearn.model_selection import train_test_split\n",
    "X_train, X_test, y_train, y_test = train_test_split(X, y, train_size=0.7, random_state=1)"
   ],
   "execution_count":62,
   "outputs":[
    
   ],
   "metadata":{
    "datalore":{
     "type":"CODE",
     "hide_input_from_viewers":false,
     "hide_output_from_viewers":false,
     "node_id":"8X9sEFcCNba27hDEjb6olH"
    }
   }
  },
  {
   "cell_type":"markdown",
   "source":[
    "### Standardization"
   ],
   "attachments":{
    
   },
   "metadata":{
    "datalore":{
     "type":"MD",
     "hide_input_from_viewers":false,
     "hide_output_from_viewers":false,
     "node_id":"tInYeO9CWbzQ7gkH4QK9fT"
    }
   }
  },
  {
   "cell_type":"code",
   "source":[
    "from sklearn.preprocessing import StandardScaler\n",
    "stdsc = StandardScaler()\n",
    "X_train_std = stdsc.fit_transform(X_train)\n",
    "X_test_std = stdsc.transform(X_test)"
   ],
   "execution_count":63,
   "outputs":[
    
   ],
   "metadata":{
    "datalore":{
     "type":"CODE",
     "hide_input_from_viewers":false,
     "hide_output_from_viewers":false,
     "node_id":"nrzNcBmioU2yX8nqaLDzVC"
    }
   }
  },
  {
   "cell_type":"markdown",
   "source":[
    "## Modeling"
   ],
   "attachments":{
    
   },
   "metadata":{
    "datalore":{
     "type":"MD",
     "hide_input_from_viewers":false,
     "hide_output_from_viewers":false,
     "node_id":"4wDJE8cXpzWeF2nzXGb5JW"
    }
   }
  },
  {
   "cell_type":"markdown",
   "source":[
    "### Logistic Regression"
   ],
   "attachments":{
    
   },
   "metadata":{
    "datalore":{
     "type":"MD",
     "hide_input_from_viewers":false,
     "hide_output_from_viewers":false,
     "node_id":"94Q5wom7PAGX2DbG4Mh6ah"
    }
   }
  },
  {
   "cell_type":"code",
   "source":[
    "from sklearn.linear_model import LogisticRegression\n",
    "Lr = LogisticRegression(penalty='l2', C = 0.1, random_state=1, solver='lbfgs').fit(X_train_std, y_train)"
   ],
   "execution_count":64,
   "outputs":[
    
   ],
   "metadata":{
    "datalore":{
     "type":"CODE",
     "hide_input_from_viewers":false,
     "hide_output_from_viewers":false,
     "node_id":"PphFDbeN5r2nNxsWyYFldG"
    }
   }
  },
  {
   "cell_type":"code",
   "source":[
    "Lr.score(X_train_std, y_train).round(2) # just curious"
   ],
   "execution_count":65,
   "outputs":[
    {
     "data":{
      "text\/plain":[
       "0.83"
      ]
     },
     "metadata":{
      
     },
     "output_type":"display_data"
    }
   ],
   "metadata":{
    "datalore":{
     "type":"CODE",
     "hide_input_from_viewers":false,
     "hide_output_from_viewers":false,
     "node_id":"54ahjRis7OyA9qM7mS61bX"
    }
   }
  },
  {
   "cell_type":"code",
   "source":[
    "y_pred = Lr.predict(X_test_std)\n",
    "\n",
    "from sklearn.metrics import classification_report\n",
    "print(classification_report(y_test, y_pred))"
   ],
   "execution_count":66,
   "outputs":[
    {
     "name":"stdout",
     "text":[
      "              precision    recall  f1-score   support\n",
      "\n",
      "           0       0.75      0.99      0.85        72\n",
      "           1       0.00      0.00      0.00        24\n",
      "\n",
      "    accuracy                           0.74        96\n",
      "   macro avg       0.37      0.49      0.43        96\n",
      "weighted avg       0.56      0.74      0.64        96\n",
      "\n"
     ],
     "output_type":"stream"
    }
   ],
   "metadata":{
    "datalore":{
     "type":"CODE",
     "hide_input_from_viewers":false,
     "hide_output_from_viewers":false,
     "node_id":"oAmdEpRTtJ3XscDZNduQ8l"
    }
   }
  },
  {
   "cell_type":"markdown",
   "source":[
    "### Logistic Regression with LDA"
   ],
   "attachments":{
    
   },
   "metadata":{
    "datalore":{
     "type":"MD",
     "hide_input_from_viewers":false,
     "hide_output_from_viewers":false,
     "node_id":"Fyu9Szd0he0SiIUiIYp0B4"
    }
   }
  },
  {
   "cell_type":"code",
   "source":[
    "from sklearn.discriminant_analysis import LinearDiscriminantAnalysis\n",
    "from sklearn.pipeline import make_pipeline\n",
    "pipe_ir = make_pipeline(LinearDiscriminantAnalysis(n_components=1),\n",
    "                        LogisticRegression(random_state=1,\n",
    "                                           C = 0.1,\n",
    "                                           solver='lbfgs'))\n",
    "pipe_ir.fit(X_train_std, y_train)\n",
    "y_pred_lr = pipe_ir.predict(X_test_std)"
   ],
   "execution_count":67,
   "outputs":[
    
   ],
   "metadata":{
    "datalore":{
     "type":"CODE",
     "hide_input_from_viewers":false,
     "hide_output_from_viewers":false,
     "node_id":"NCuHlRFy9iBvOKQDbURiGW"
    }
   }
  },
  {
   "cell_type":"code",
   "source":[
    "print(classification_report(y_test, y_pred_lr)) # just the same"
   ],
   "execution_count":68,
   "outputs":[
    {
     "name":"stdout",
     "text":[
      "              precision    recall  f1-score   support\n",
      "\n",
      "           0       0.75      0.99      0.85        72\n",
      "           1       0.00      0.00      0.00        24\n",
      "\n",
      "    accuracy                           0.74        96\n",
      "   macro avg       0.37      0.49      0.43        96\n",
      "weighted avg       0.56      0.74      0.64        96\n",
      "\n"
     ],
     "output_type":"stream"
    }
   ],
   "metadata":{
    "datalore":{
     "type":"CODE",
     "hide_input_from_viewers":false,
     "hide_output_from_viewers":false,
     "node_id":"1g5zFoczBlVnCUB3coHO4R"
    }
   }
  },
  {
   "cell_type":"markdown",
   "source":[
    "### How About Logistic Regression with PCA"
   ],
   "attachments":{
    
   },
   "metadata":{
    "datalore":{
     "type":"MD",
     "hide_input_from_viewers":false,
     "hide_output_from_viewers":false,
     "node_id":"n7Wp4TlrxGtJUx0wTh4qZV"
    }
   }
  },
  {
   "cell_type":"code",
   "source":[
    "from sklearn.decomposition import PCA\n",
    "pipe_ir_pca = make_pipeline(PCA(n_components=1),\n",
    "                        LogisticRegression(random_state=1,\n",
    "                                           C = 0.1,\n",
    "                                           solver='lbfgs'))\n",
    "pipe_ir_pca.fit(X_train_std, y_train)\n",
    "y_pred_lr_pca = pipe_ir.predict(X_test_std)"
   ],
   "execution_count":69,
   "outputs":[
    
   ],
   "metadata":{
    "datalore":{
     "type":"CODE",
     "hide_input_from_viewers":false,
     "hide_output_from_viewers":false,
     "node_id":"MCJGNtTSJzorxJmkvInwhN"
    }
   }
  },
  {
   "cell_type":"code",
   "source":[
    "print(classification_report(y_test, y_pred_lr_pca)) # just the same"
   ],
   "execution_count":70,
   "outputs":[
    {
     "name":"stdout",
     "text":[
      "              precision    recall  f1-score   support\n",
      "\n",
      "           0       0.75      0.99      0.85        72\n",
      "           1       0.00      0.00      0.00        24\n",
      "\n",
      "    accuracy                           0.74        96\n",
      "   macro avg       0.37      0.49      0.43        96\n",
      "weighted avg       0.56      0.74      0.64        96\n",
      "\n"
     ],
     "output_type":"stream"
    }
   ],
   "metadata":{
    "datalore":{
     "type":"CODE",
     "hide_input_from_viewers":false,
     "hide_output_from_viewers":false,
     "node_id":"TDyxUW6VAr83KC0GmkVfOG"
    }
   }
  },
  {
   "cell_type":"markdown",
   "source":[
    "I guess we do not need nether PCA or LDA with respect to 15 features"
   ],
   "attachments":{
    
   },
   "metadata":{
    "datalore":{
     "type":"MD",
     "hide_input_from_viewers":false,
     "hide_output_from_viewers":false,
     "node_id":"nkJTArBmnwIb7Kmaf8rwxd"
    }
   }
  },
  {
   "cell_type":"markdown",
   "source":[
    "### RandomForest"
   ],
   "attachments":{
    
   },
   "metadata":{
    "datalore":{
     "type":"MD",
     "hide_input_from_viewers":false,
     "hide_output_from_viewers":false,
     "node_id":"KpbVMhst1q8On9K9jHlgks"
    }
   }
  },
  {
   "cell_type":"code",
   "source":[
    "from sklearn.ensemble import RandomForestClassifier\n",
    "forest = RandomForestClassifier(class_weight='balanced',\n",
    "                                random_state=0)\n",
    "forest.fit(X_train, y_train)\n",
    "y_rf = forest.predict(X_test)"
   ],
   "execution_count":71,
   "outputs":[
    
   ],
   "metadata":{
    "datalore":{
     "type":"CODE",
     "hide_input_from_viewers":false,
     "hide_output_from_viewers":false,
     "node_id":"DF7QPj7wifUgqxNpOqbGmr"
    }
   }
  },
  {
   "cell_type":"code",
   "source":[
    "print(classification_report(y_test, y_rf)) # just the same"
   ],
   "execution_count":72,
   "outputs":[
    {
     "name":"stdout",
     "text":[
      "              precision    recall  f1-score   support\n",
      "\n",
      "           0       0.75      1.00      0.86        72\n",
      "           1       0.00      0.00      0.00        24\n",
      "\n",
      "    accuracy                           0.75        96\n",
      "   macro avg       0.38      0.50      0.43        96\n",
      "weighted avg       0.56      0.75      0.64        96\n",
      "\n"
     ],
     "output_type":"stream"
    }
   ],
   "metadata":{
    "datalore":{
     "type":"CODE",
     "hide_input_from_viewers":false,
     "hide_output_from_viewers":false,
     "node_id":"4LI5gpcSwakZ5pM8735p4Q"
    }
   }
  },
  {
   "cell_type":"markdown",
   "source":[
    "Forest performs better than logistic regression"
   ],
   "attachments":{
    
   },
   "metadata":{
    "datalore":{
     "type":"MD",
     "hide_input_from_viewers":false,
     "hide_output_from_viewers":false,
     "node_id":"Fn8UBym8OIHHWVSHIjC4QZ"
    }
   }
  },
  {
   "cell_type":"markdown",
   "source":[
    "### Gredient Boosting Classifer"
   ],
   "attachments":{
    
   },
   "metadata":{
    "datalore":{
     "type":"MD",
     "hide_input_from_viewers":false,
     "hide_output_from_viewers":false,
     "node_id":"7VPL7avhhbqwGC1uatT5B2"
    }
   }
  },
  {
   "cell_type":"code",
   "source":[
    "from sklearn.ensemble import GradientBoostingClassifier as GBC\n",
    "clf = GBC(learning_rate=0.1, random_state=0).fit(X_train_std, y_train)\n",
    "y_gdc = clf.predict(X_test_std)"
   ],
   "execution_count":73,
   "outputs":[
    
   ],
   "metadata":{
    "datalore":{
     "type":"CODE",
     "hide_input_from_viewers":false,
     "hide_output_from_viewers":false,
     "node_id":"9Y3MJyo43xdnj2oT7wJBDU"
    }
   }
  },
  {
   "cell_type":"code",
   "source":[
    "print(classification_report(y_test, y_gdc))"
   ],
   "execution_count":74,
   "outputs":[
    {
     "name":"stdout",
     "text":[
      "              precision    recall  f1-score   support\n",
      "\n",
      "           0       0.75      0.96      0.84        72\n",
      "           1       0.25      0.04      0.07        24\n",
      "\n",
      "    accuracy                           0.73        96\n",
      "   macro avg       0.50      0.50      0.46        96\n",
      "weighted avg       0.62      0.73      0.65        96\n",
      "\n"
     ],
     "output_type":"stream"
    }
   ],
   "metadata":{
    "datalore":{
     "type":"CODE",
     "hide_input_from_viewers":false,
     "hide_output_from_viewers":false,
     "node_id":"Kzbp9WFkBeFrFP4MVjY8St"
    }
   }
  },
  {
   "cell_type":"markdown",
   "source":[
    "Not as good as RandomForest in this case"
   ],
   "attachments":{
    
   },
   "metadata":{
    "datalore":{
     "type":"MD",
     "hide_input_from_viewers":false,
     "hide_output_from_viewers":false,
     "node_id":"Bl6eycqern0U0zaBrtBLou"
    }
   }
  },
  {
   "cell_type":"markdown",
   "source":[
    "### SVM"
   ],
   "attachments":{
    
   },
   "metadata":{
    "datalore":{
     "type":"MD",
     "hide_input_from_viewers":false,
     "hide_output_from_viewers":false,
     "node_id":"x0rhvDqukRVDpDmiOj0HTJ"
    }
   }
  },
  {
   "cell_type":"code",
   "source":[
    "from sklearn.svm import SVC\n",
    "svm = SVC(gamma='auto', C=0.1).fit(X_train_std, y_train)\n",
    "y_svm = svm.predict(X_test_std)"
   ],
   "execution_count":75,
   "outputs":[
    
   ],
   "metadata":{
    "datalore":{
     "type":"CODE",
     "hide_input_from_viewers":false,
     "hide_output_from_viewers":false,
     "node_id":"t6x5TPRGChvIoxSVJNopi8"
    }
   }
  },
  {
   "cell_type":"code",
   "source":[
    "print(classification_report(y_test, y_svm))"
   ],
   "execution_count":76,
   "outputs":[
    {
     "name":"stdout",
     "text":[
      "              precision    recall  f1-score   support\n",
      "\n",
      "           0       0.75      1.00      0.86        72\n",
      "           1       0.00      0.00      0.00        24\n",
      "\n",
      "    accuracy                           0.75        96\n",
      "   macro avg       0.38      0.50      0.43        96\n",
      "weighted avg       0.56      0.75      0.64        96\n",
      "\n"
     ],
     "output_type":"stream"
    }
   ],
   "metadata":{
    "datalore":{
     "type":"CODE",
     "hide_input_from_viewers":false,
     "hide_output_from_viewers":false,
     "node_id":"iXB5ERlHqSSajFaVWnn6Qc"
    }
   }
  },
  {
   "cell_type":"markdown",
   "source":[
    "Svm generates the same result as RandomForest"
   ],
   "attachments":{
    
   },
   "metadata":{
    "datalore":{
     "type":"MD",
     "hide_input_from_viewers":false,
     "hide_output_from_viewers":false,
     "node_id":"zk1qMirl3zPLyhGTwVmi5Z"
    }
   }
  },
  {
   "cell_type":"markdown",
   "source":[
    "### Soft Voting"
   ],
   "attachments":{
    
   },
   "metadata":{
    "datalore":{
     "type":"MD",
     "hide_input_from_viewers":false,
     "hide_output_from_viewers":false,
     "node_id":"jKjlkkpQn4IHOGCLb2bVVU"
    }
   }
  },
  {
   "cell_type":"code",
   "source":[
    "from sklearn.ensemble import VotingClassifier\n",
    "eclf3 = VotingClassifier(estimators=[\n",
    "                        ('rf', forest), ('gb', clf), ('lr', Lr)],\n",
    "                        voting='soft', weights=[2,1,1],\n",
    "                        flatten_transform=True)"
   ],
   "execution_count":77,
   "outputs":[
    
   ],
   "metadata":{
    "datalore":{
     "type":"CODE",
     "hide_input_from_viewers":false,
     "hide_output_from_viewers":false,
     "node_id":"NYBq7nkkIXltRnM2FLXK5d"
    }
   }
  },
  {
   "cell_type":"code",
   "source":[
    "eclf3 = eclf3.fit(X_train_std, y_train)\n",
    "y_eclf3 = eclf3.predict(X_test_std)"
   ],
   "execution_count":78,
   "outputs":[
    
   ],
   "metadata":{
    "datalore":{
     "type":"CODE",
     "hide_input_from_viewers":false,
     "hide_output_from_viewers":false,
     "node_id":"J1AYe6mw313vGPKu5720VR"
    }
   }
  },
  {
   "cell_type":"code",
   "source":[
    "print(classification_report(y_test, y_eclf3))"
   ],
   "execution_count":79,
   "outputs":[
    {
     "name":"stdout",
     "text":[
      "              precision    recall  f1-score   support\n",
      "\n",
      "           0       0.75      1.00      0.86        72\n",
      "           1       0.00      0.00      0.00        24\n",
      "\n",
      "    accuracy                           0.75        96\n",
      "   macro avg       0.38      0.50      0.43        96\n",
      "weighted avg       0.56      0.75      0.64        96\n",
      "\n"
     ],
     "output_type":"stream"
    }
   ],
   "metadata":{
    "datalore":{
     "type":"CODE",
     "hide_input_from_viewers":false,
     "hide_output_from_viewers":false,
     "node_id":"mWboCw7ulraJptJtQo5eEd"
    }
   }
  }
 ],
 "metadata":{
  "kernelspec":{
   "display_name":"Python",
   "language":"python",
   "name":"python"
  },
  "datalore":{
   "version":1,
   "computation_mode":"JUPYTER",
   "package_manager":"pip",
   "base_environment":"default",
   "packages":[
    
   ]
  }
 },
 "nbformat":4,
 "nbformat_minor":4
}