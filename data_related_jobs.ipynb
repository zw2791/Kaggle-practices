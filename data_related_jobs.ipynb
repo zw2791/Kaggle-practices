{
  "nbformat": 4,
  "nbformat_minor": 0,
  "metadata": {
    "colab": {
      "name": "data_related_jobs.ipynb",
      "provenance": [],
      "collapsed_sections": [],
      "authorship_tag": "ABX9TyMSxKitj7OJCob+49ZebilT",
      "include_colab_link": true
    },
    "kernelspec": {
      "name": "python3",
      "display_name": "Python 3"
    },
    "language_info": {
      "name": "python"
    }
  },
  "cells": [
    {
      "cell_type": "markdown",
      "metadata": {
        "id": "view-in-github",
        "colab_type": "text"
      },
      "source": [
        "<a href=\"https://colab.research.google.com/github/zw2791/Kaggle-practices/blob/main/data_related_jobs.ipynb\" target=\"_parent\"><img src=\"https://colab.research.google.com/assets/colab-badge.svg\" alt=\"Open In Colab\"/></a>"
      ]
    },
    {
      "cell_type": "code",
      "source": [
        "import pandas as pd\n",
        "import numpy as np\n",
        "\n",
        "pd.set_option('display.max_columns', None)"
      ],
      "metadata": {
        "id": "AZHIBLCR_Zms"
      },
      "execution_count": 1,
      "outputs": []
    },
    {
      "cell_type": "code",
      "source": [
        "path = '/content/ds_salaries.csv'\n",
        "df = pd.read_csv(path)"
      ],
      "metadata": {
        "id": "RjxTloKH_csf"
      },
      "execution_count": 2,
      "outputs": []
    },
    {
      "cell_type": "code",
      "source": [
        "df.shape"
      ],
      "metadata": {
        "colab": {
          "base_uri": "https://localhost:8080/"
        },
        "id": "pNtPpstd_oBN",
        "outputId": "e2e0e46c-36be-48c5-e39d-8fd81831b6c2"
      },
      "execution_count": 3,
      "outputs": [
        {
          "output_type": "execute_result",
          "data": {
            "text/plain": [
              "(607, 12)"
            ]
          },
          "metadata": {},
          "execution_count": 3
        }
      ]
    },
    {
      "cell_type": "code",
      "source": [
        "# delete the index column from data source\n",
        "df = df.drop(['Unnamed: 0'], axis=1)"
      ],
      "metadata": {
        "id": "Q0ncc0XDA4V_"
      },
      "execution_count": 4,
      "outputs": []
    },
    {
      "cell_type": "code",
      "source": [
        "df.head()"
      ],
      "metadata": {
        "colab": {
          "base_uri": "https://localhost:8080/",
          "height": 206
        },
        "id": "JEKp90xs_pii",
        "outputId": "9cc78cd5-3ab2-4ab0-a859-2bb41fb8dc88"
      },
      "execution_count": 5,
      "outputs": [
        {
          "output_type": "execute_result",
          "data": {
            "text/plain": [
              "   work_year experience_level employment_type                   job_title  \\\n",
              "0       2020               MI              FT              Data Scientist   \n",
              "1       2020               SE              FT  Machine Learning Scientist   \n",
              "2       2020               SE              FT           Big Data Engineer   \n",
              "3       2020               MI              FT        Product Data Analyst   \n",
              "4       2020               SE              FT   Machine Learning Engineer   \n",
              "\n",
              "   salary salary_currency  salary_in_usd employee_residence  remote_ratio  \\\n",
              "0   70000             EUR          79833                 DE             0   \n",
              "1  260000             USD         260000                 JP             0   \n",
              "2   85000             GBP         109024                 GB            50   \n",
              "3   20000             USD          20000                 HN             0   \n",
              "4  150000             USD         150000                 US            50   \n",
              "\n",
              "  company_location company_size  \n",
              "0               DE            L  \n",
              "1               JP            S  \n",
              "2               GB            M  \n",
              "3               HN            S  \n",
              "4               US            L  "
            ],
            "text/html": [
              "\n",
              "  <div id=\"df-4322fa19-fa71-4b17-ad9d-630343d61e5d\">\n",
              "    <div class=\"colab-df-container\">\n",
              "      <div>\n",
              "<style scoped>\n",
              "    .dataframe tbody tr th:only-of-type {\n",
              "        vertical-align: middle;\n",
              "    }\n",
              "\n",
              "    .dataframe tbody tr th {\n",
              "        vertical-align: top;\n",
              "    }\n",
              "\n",
              "    .dataframe thead th {\n",
              "        text-align: right;\n",
              "    }\n",
              "</style>\n",
              "<table border=\"1\" class=\"dataframe\">\n",
              "  <thead>\n",
              "    <tr style=\"text-align: right;\">\n",
              "      <th></th>\n",
              "      <th>work_year</th>\n",
              "      <th>experience_level</th>\n",
              "      <th>employment_type</th>\n",
              "      <th>job_title</th>\n",
              "      <th>salary</th>\n",
              "      <th>salary_currency</th>\n",
              "      <th>salary_in_usd</th>\n",
              "      <th>employee_residence</th>\n",
              "      <th>remote_ratio</th>\n",
              "      <th>company_location</th>\n",
              "      <th>company_size</th>\n",
              "    </tr>\n",
              "  </thead>\n",
              "  <tbody>\n",
              "    <tr>\n",
              "      <th>0</th>\n",
              "      <td>2020</td>\n",
              "      <td>MI</td>\n",
              "      <td>FT</td>\n",
              "      <td>Data Scientist</td>\n",
              "      <td>70000</td>\n",
              "      <td>EUR</td>\n",
              "      <td>79833</td>\n",
              "      <td>DE</td>\n",
              "      <td>0</td>\n",
              "      <td>DE</td>\n",
              "      <td>L</td>\n",
              "    </tr>\n",
              "    <tr>\n",
              "      <th>1</th>\n",
              "      <td>2020</td>\n",
              "      <td>SE</td>\n",
              "      <td>FT</td>\n",
              "      <td>Machine Learning Scientist</td>\n",
              "      <td>260000</td>\n",
              "      <td>USD</td>\n",
              "      <td>260000</td>\n",
              "      <td>JP</td>\n",
              "      <td>0</td>\n",
              "      <td>JP</td>\n",
              "      <td>S</td>\n",
              "    </tr>\n",
              "    <tr>\n",
              "      <th>2</th>\n",
              "      <td>2020</td>\n",
              "      <td>SE</td>\n",
              "      <td>FT</td>\n",
              "      <td>Big Data Engineer</td>\n",
              "      <td>85000</td>\n",
              "      <td>GBP</td>\n",
              "      <td>109024</td>\n",
              "      <td>GB</td>\n",
              "      <td>50</td>\n",
              "      <td>GB</td>\n",
              "      <td>M</td>\n",
              "    </tr>\n",
              "    <tr>\n",
              "      <th>3</th>\n",
              "      <td>2020</td>\n",
              "      <td>MI</td>\n",
              "      <td>FT</td>\n",
              "      <td>Product Data Analyst</td>\n",
              "      <td>20000</td>\n",
              "      <td>USD</td>\n",
              "      <td>20000</td>\n",
              "      <td>HN</td>\n",
              "      <td>0</td>\n",
              "      <td>HN</td>\n",
              "      <td>S</td>\n",
              "    </tr>\n",
              "    <tr>\n",
              "      <th>4</th>\n",
              "      <td>2020</td>\n",
              "      <td>SE</td>\n",
              "      <td>FT</td>\n",
              "      <td>Machine Learning Engineer</td>\n",
              "      <td>150000</td>\n",
              "      <td>USD</td>\n",
              "      <td>150000</td>\n",
              "      <td>US</td>\n",
              "      <td>50</td>\n",
              "      <td>US</td>\n",
              "      <td>L</td>\n",
              "    </tr>\n",
              "  </tbody>\n",
              "</table>\n",
              "</div>\n",
              "      <button class=\"colab-df-convert\" onclick=\"convertToInteractive('df-4322fa19-fa71-4b17-ad9d-630343d61e5d')\"\n",
              "              title=\"Convert this dataframe to an interactive table.\"\n",
              "              style=\"display:none;\">\n",
              "        \n",
              "  <svg xmlns=\"http://www.w3.org/2000/svg\" height=\"24px\"viewBox=\"0 0 24 24\"\n",
              "       width=\"24px\">\n",
              "    <path d=\"M0 0h24v24H0V0z\" fill=\"none\"/>\n",
              "    <path d=\"M18.56 5.44l.94 2.06.94-2.06 2.06-.94-2.06-.94-.94-2.06-.94 2.06-2.06.94zm-11 1L8.5 8.5l.94-2.06 2.06-.94-2.06-.94L8.5 2.5l-.94 2.06-2.06.94zm10 10l.94 2.06.94-2.06 2.06-.94-2.06-.94-.94-2.06-.94 2.06-2.06.94z\"/><path d=\"M17.41 7.96l-1.37-1.37c-.4-.4-.92-.59-1.43-.59-.52 0-1.04.2-1.43.59L10.3 9.45l-7.72 7.72c-.78.78-.78 2.05 0 2.83L4 21.41c.39.39.9.59 1.41.59.51 0 1.02-.2 1.41-.59l7.78-7.78 2.81-2.81c.8-.78.8-2.07 0-2.86zM5.41 20L4 18.59l7.72-7.72 1.47 1.35L5.41 20z\"/>\n",
              "  </svg>\n",
              "      </button>\n",
              "      \n",
              "  <style>\n",
              "    .colab-df-container {\n",
              "      display:flex;\n",
              "      flex-wrap:wrap;\n",
              "      gap: 12px;\n",
              "    }\n",
              "\n",
              "    .colab-df-convert {\n",
              "      background-color: #E8F0FE;\n",
              "      border: none;\n",
              "      border-radius: 50%;\n",
              "      cursor: pointer;\n",
              "      display: none;\n",
              "      fill: #1967D2;\n",
              "      height: 32px;\n",
              "      padding: 0 0 0 0;\n",
              "      width: 32px;\n",
              "    }\n",
              "\n",
              "    .colab-df-convert:hover {\n",
              "      background-color: #E2EBFA;\n",
              "      box-shadow: 0px 1px 2px rgba(60, 64, 67, 0.3), 0px 1px 3px 1px rgba(60, 64, 67, 0.15);\n",
              "      fill: #174EA6;\n",
              "    }\n",
              "\n",
              "    [theme=dark] .colab-df-convert {\n",
              "      background-color: #3B4455;\n",
              "      fill: #D2E3FC;\n",
              "    }\n",
              "\n",
              "    [theme=dark] .colab-df-convert:hover {\n",
              "      background-color: #434B5C;\n",
              "      box-shadow: 0px 1px 3px 1px rgba(0, 0, 0, 0.15);\n",
              "      filter: drop-shadow(0px 1px 2px rgba(0, 0, 0, 0.3));\n",
              "      fill: #FFFFFF;\n",
              "    }\n",
              "  </style>\n",
              "\n",
              "      <script>\n",
              "        const buttonEl =\n",
              "          document.querySelector('#df-4322fa19-fa71-4b17-ad9d-630343d61e5d button.colab-df-convert');\n",
              "        buttonEl.style.display =\n",
              "          google.colab.kernel.accessAllowed ? 'block' : 'none';\n",
              "\n",
              "        async function convertToInteractive(key) {\n",
              "          const element = document.querySelector('#df-4322fa19-fa71-4b17-ad9d-630343d61e5d');\n",
              "          const dataTable =\n",
              "            await google.colab.kernel.invokeFunction('convertToInteractive',\n",
              "                                                     [key], {});\n",
              "          if (!dataTable) return;\n",
              "\n",
              "          const docLinkHtml = 'Like what you see? Visit the ' +\n",
              "            '<a target=\"_blank\" href=https://colab.research.google.com/notebooks/data_table.ipynb>data table notebook</a>'\n",
              "            + ' to learn more about interactive tables.';\n",
              "          element.innerHTML = '';\n",
              "          dataTable['output_type'] = 'display_data';\n",
              "          await google.colab.output.renderOutput(dataTable, element);\n",
              "          const docLink = document.createElement('div');\n",
              "          docLink.innerHTML = docLinkHtml;\n",
              "          element.appendChild(docLink);\n",
              "        }\n",
              "      </script>\n",
              "    </div>\n",
              "  </div>\n",
              "  "
            ]
          },
          "metadata": {},
          "execution_count": 5
        }
      ]
    },
    {
      "cell_type": "code",
      "source": [
        "# check missing data\n",
        "df.isna().sum()"
      ],
      "metadata": {
        "colab": {
          "base_uri": "https://localhost:8080/"
        },
        "id": "Dt1xCJ8ngeDg",
        "outputId": "7da102fa-3c32-4dfd-b017-5cb22124d017"
      },
      "execution_count": 6,
      "outputs": [
        {
          "output_type": "execute_result",
          "data": {
            "text/plain": [
              "work_year             0\n",
              "experience_level      0\n",
              "employment_type       0\n",
              "job_title             0\n",
              "salary                0\n",
              "salary_currency       0\n",
              "salary_in_usd         0\n",
              "employee_residence    0\n",
              "remote_ratio          0\n",
              "company_location      0\n",
              "company_size          0\n",
              "dtype: int64"
            ]
          },
          "metadata": {},
          "execution_count": 6
        }
      ]
    },
    {
      "cell_type": "markdown",
      "source": [
        "## EDA"
      ],
      "metadata": {
        "id": "mlUnqP72geix"
      }
    },
    {
      "cell_type": "code",
      "source": [
        "# see data are concentrated at which year\n",
        "df['work_year'].value_counts()"
      ],
      "metadata": {
        "colab": {
          "base_uri": "https://localhost:8080/"
        },
        "id": "mbpjqEy4K7hn",
        "outputId": "2e5ade6b-a3d0-4ae7-a356-bb3fca45cb59"
      },
      "execution_count": 7,
      "outputs": [
        {
          "output_type": "execute_result",
          "data": {
            "text/plain": [
              "2022    318\n",
              "2021    217\n",
              "2020     72\n",
              "Name: work_year, dtype: int64"
            ]
          },
          "metadata": {},
          "execution_count": 7
        }
      ]
    },
    {
      "cell_type": "markdown",
      "source": [
        "Based on data, we can see demand for data related job is incresing"
      ],
      "metadata": {
        "id": "dRSTBbPZc_YD"
      }
    },
    {
      "cell_type": "code",
      "source": [
        "# lets see how many different job_titles we have\n",
        "df['job_title'].value_counts()"
      ],
      "metadata": {
        "colab": {
          "base_uri": "https://localhost:8080/"
        },
        "id": "Ns5Zorc6_4IJ",
        "outputId": "6bae4357-df07-49d5-84c3-23ec43e432bc"
      },
      "execution_count": 8,
      "outputs": [
        {
          "output_type": "execute_result",
          "data": {
            "text/plain": [
              "Data Scientist                              143\n",
              "Data Engineer                               132\n",
              "Data Analyst                                 97\n",
              "Machine Learning Engineer                    41\n",
              "Research Scientist                           16\n",
              "Data Science Manager                         12\n",
              "Data Architect                               11\n",
              "Big Data Engineer                             8\n",
              "Machine Learning Scientist                    8\n",
              "Principal Data Scientist                      7\n",
              "AI Scientist                                  7\n",
              "Data Science Consultant                       7\n",
              "Director of Data Science                      7\n",
              "Data Analytics Manager                        7\n",
              "ML Engineer                                   6\n",
              "Computer Vision Engineer                      6\n",
              "BI Data Analyst                               6\n",
              "Lead Data Engineer                            6\n",
              "Data Engineering Manager                      5\n",
              "Business Data Analyst                         5\n",
              "Head of Data                                  5\n",
              "Applied Data Scientist                        5\n",
              "Applied Machine Learning Scientist            4\n",
              "Head of Data Science                          4\n",
              "Analytics Engineer                            4\n",
              "Data Analytics Engineer                       4\n",
              "Machine Learning Developer                    3\n",
              "Machine Learning Infrastructure Engineer      3\n",
              "Lead Data Scientist                           3\n",
              "Computer Vision Software Engineer             3\n",
              "Lead Data Analyst                             3\n",
              "Data Science Engineer                         3\n",
              "Principal Data Engineer                       3\n",
              "Principal Data Analyst                        2\n",
              "ETL Developer                                 2\n",
              "Product Data Analyst                          2\n",
              "Director of Data Engineering                  2\n",
              "Financial Data Analyst                        2\n",
              "Cloud Data Engineer                           2\n",
              "Lead Machine Learning Engineer                1\n",
              "NLP Engineer                                  1\n",
              "Head of Machine Learning                      1\n",
              "3D Computer Vision Researcher                 1\n",
              "Data Specialist                               1\n",
              "Staff Data Scientist                          1\n",
              "Big Data Architect                            1\n",
              "Finance Data Analyst                          1\n",
              "Marketing Data Analyst                        1\n",
              "Machine Learning Manager                      1\n",
              "Data Analytics Lead                           1\n",
              "Name: job_title, dtype: int64"
            ]
          },
          "metadata": {},
          "execution_count": 8
        }
      ]
    },
    {
      "cell_type": "code",
      "source": [
        "df['salary_currency'].value_counts()"
      ],
      "metadata": {
        "colab": {
          "base_uri": "https://localhost:8080/"
        },
        "id": "kr7mT8uafGbM",
        "outputId": "b7bb6798-474c-47f9-dc6f-6f6245346428"
      },
      "execution_count": 9,
      "outputs": [
        {
          "output_type": "execute_result",
          "data": {
            "text/plain": [
              "USD    398\n",
              "EUR     95\n",
              "GBP     44\n",
              "INR     27\n",
              "CAD     18\n",
              "JPY      3\n",
              "PLN      3\n",
              "TRY      3\n",
              "CNY      2\n",
              "MXN      2\n",
              "HUF      2\n",
              "DKK      2\n",
              "SGD      2\n",
              "BRL      2\n",
              "AUD      2\n",
              "CLP      1\n",
              "CHF      1\n",
              "Name: salary_currency, dtype: int64"
            ]
          },
          "metadata": {},
          "execution_count": 9
        }
      ]
    },
    {
      "cell_type": "code",
      "source": [
        "# we can see half of our data are about USA job market\n",
        "# let's check what is the average salary for data analyst in USA\n",
        "job_salary = df.groupby('job_title')['salary_in_usd'].mean().sort_values(ascending=False)"
      ],
      "metadata": {
        "id": "EWlIArrrCBPg"
      },
      "execution_count": 11,
      "outputs": []
    },
    {
      "cell_type": "code",
      "source": [
        "# we can see salary level of all jobs\n",
        "job_salary.round()"
      ],
      "metadata": {
        "colab": {
          "base_uri": "https://localhost:8080/"
        },
        "id": "Xkngk8ACbtlQ",
        "outputId": "64cb5a85-527f-4402-c73e-733e64de689f"
      },
      "execution_count": 12,
      "outputs": [
        {
          "output_type": "execute_result",
          "data": {
            "text/plain": [
              "job_title\n",
              "Data Analytics Lead                         405000.0\n",
              "Principal Data Engineer                     328333.0\n",
              "Financial Data Analyst                      275000.0\n",
              "Principal Data Scientist                    215242.0\n",
              "Director of Data Science                    195074.0\n",
              "Data Architect                              177874.0\n",
              "Applied Data Scientist                      175655.0\n",
              "Analytics Engineer                          175000.0\n",
              "Data Specialist                             165000.0\n",
              "Head of Data                                160163.0\n",
              "Machine Learning Scientist                  158412.0\n",
              "Data Science Manager                        158328.0\n",
              "Director of Data Engineering                156738.0\n",
              "Head of Data Science                        146719.0\n",
              "Applied Machine Learning Scientist          142069.0\n",
              "Lead Data Engineer                          139724.0\n",
              "Data Analytics Manager                      127134.0\n",
              "Cloud Data Engineer                         124647.0\n",
              "Data Engineering Manager                    123227.0\n",
              "Principal Data Analyst                      122500.0\n",
              "ML Engineer                                 117504.0\n",
              "Machine Learning Manager                    117104.0\n",
              "Lead Data Scientist                         115190.0\n",
              "Data Engineer                               112725.0\n",
              "Research Scientist                          109020.0\n",
              "Data Scientist                              108188.0\n",
              "Computer Vision Software Engineer           105249.0\n",
              "Staff Data Scientist                        105000.0\n",
              "Machine Learning Engineer                   104880.0\n",
              "Machine Learning Infrastructure Engineer    101145.0\n",
              "Big Data Architect                           99703.0\n",
              "Data Analyst                                 92893.0\n",
              "Lead Data Analyst                            92203.0\n",
              "Marketing Data Analyst                       88654.0\n",
              "Lead Machine Learning Engineer               87932.0\n",
              "Machine Learning Developer                   85861.0\n",
              "Head of Machine Learning                     79039.0\n",
              "Business Data Analyst                        76691.0\n",
              "Data Science Engineer                        75803.0\n",
              "BI Data Analyst                              74755.0\n",
              "Data Science Consultant                      69421.0\n",
              "AI Scientist                                 66136.0\n",
              "Data Analytics Engineer                      64799.0\n",
              "Finance Data Analyst                         61896.0\n",
              "ETL Developer                                54957.0\n",
              "Big Data Engineer                            51974.0\n",
              "Computer Vision Engineer                     44419.0\n",
              "NLP Engineer                                 37236.0\n",
              "Product Data Analyst                         13036.0\n",
              "3D Computer Vision Researcher                 5409.0\n",
              "Name: salary_in_usd, dtype: float64"
            ]
          },
          "metadata": {},
          "execution_count": 12
        }
      ]
    },
    {
      "cell_type": "code",
      "source": [
        "# now we want to know the salary distribution of data analyst job\n",
        "import matplotlib.pyplot as plt\n",
        "import seaborn as sns\n",
        "\n",
        "da = df[df['job_title'] == 'Data Analyst']\n",
        "\n",
        "plt.figure(figsize=(15,8))\n",
        "ax = sns.histplot(da, x=\"salary_in_usd\")\n",
        "\n",
        "plt.show()"
      ],
      "metadata": {
        "colab": {
          "base_uri": "https://localhost:8080/",
          "height": 498
        },
        "id": "l6IIKKf7Y9CU",
        "outputId": "ae7c9068-b5f0-47b9-aff4-c1a05de12de4"
      },
      "execution_count": 14,
      "outputs": [
        {
          "output_type": "display_data",
          "data": {
            "text/plain": [
              "<Figure size 1080x576 with 1 Axes>"
            ],
            "image/png": "[encoded data removed]"
          },
          "metadata": {
            "needs_background": "light"
          }
        }
      ]
    },
    {
      "cell_type": "code",
      "source": [
        "# let's see where do most employees live / or data came from\n",
        "df['employee_residence'].value_counts().head()"
      ],
      "metadata": {
        "colab": {
          "base_uri": "https://localhost:8080/"
        },
        "id": "hoCvg_i-Y_QS",
        "outputId": "452d221a-038e-4cc1-fcd9-8134b9438bd6"
      },
      "execution_count": 16,
      "outputs": [
        {
          "output_type": "execute_result",
          "data": {
            "text/plain": [
              "US    332\n",
              "GB     44\n",
              "IN     30\n",
              "CA     29\n",
              "DE     25\n",
              "Name: employee_residence, dtype: int64"
            ]
          },
          "metadata": {},
          "execution_count": 16
        }
      ]
    },
    {
      "cell_type": "code",
      "source": [
        "# what are some possible values of remote ratio?\n",
        "df['remote_ratio'].value_counts()"
      ],
      "metadata": {
        "colab": {
          "base_uri": "https://localhost:8080/"
        },
        "id": "RmmLFkr-A6Qh",
        "outputId": "a71eb4d1-1d4f-432e-a5c9-ee06207a1d43"
      },
      "execution_count": 17,
      "outputs": [
        {
          "output_type": "execute_result",
          "data": {
            "text/plain": [
              "100    381\n",
              "0      127\n",
              "50      99\n",
              "Name: remote_ratio, dtype: int64"
            ]
          },
          "metadata": {},
          "execution_count": 17
        }
      ]
    },
    {
      "cell_type": "markdown",
      "source": [
        "Ok, we are 100/50/0 three levels of remote work"
      ],
      "metadata": {
        "id": "SxUDua6hCA04"
      }
    },
    {
      "cell_type": "code",
      "source": [
        "# what the remote works look like?\n",
        "remote100 = df[df['remote_ratio'] == 100]\n",
        "remote100.head()"
      ],
      "metadata": {
        "colab": {
          "base_uri": "https://localhost:8080/",
          "height": 206
        },
        "id": "1_NVytY3B_Ww",
        "outputId": "1c0f3767-4f67-46f3-ed10-4d458e613624"
      },
      "execution_count": 18,
      "outputs": [
        {
          "output_type": "execute_result",
          "data": {
            "text/plain": [
              "    work_year experience_level employment_type              job_title  salary  \\\n",
              "5        2020               EN              FT           Data Analyst   72000   \n",
              "6        2020               SE              FT    Lead Data Scientist  190000   \n",
              "8        2020               MI              FT  Business Data Analyst  135000   \n",
              "13       2020               MI              FT      Lead Data Analyst   87000   \n",
              "14       2020               MI              FT           Data Analyst   85000   \n",
              "\n",
              "   salary_currency  salary_in_usd employee_residence  remote_ratio  \\\n",
              "5              USD          72000                 US           100   \n",
              "6              USD         190000                 US           100   \n",
              "8              USD         135000                 US           100   \n",
              "13             USD          87000                 US           100   \n",
              "14             USD          85000                 US           100   \n",
              "\n",
              "   company_location company_size  \n",
              "5                US            L  \n",
              "6                US            S  \n",
              "8                US            L  \n",
              "13               US            L  \n",
              "14               US            L  "
            ],
            "text/html": [
              "\n",
              "  <div id=\"df-2e5fc6ca-bbce-4ade-85a6-7bdfe40b2a1d\">\n",
              "    <div class=\"colab-df-container\">\n",
              "      <div>\n",
              "<style scoped>\n",
              "    .dataframe tbody tr th:only-of-type {\n",
              "        vertical-align: middle;\n",
              "    }\n",
              "\n",
              "    .dataframe tbody tr th {\n",
              "        vertical-align: top;\n",
              "    }\n",
              "\n",
              "    .dataframe thead th {\n",
              "        text-align: right;\n",
              "    }\n",
              "</style>\n",
              "<table border=\"1\" class=\"dataframe\">\n",
              "  <thead>\n",
              "    <tr style=\"text-align: right;\">\n",
              "      <th></th>\n",
              "      <th>work_year</th>\n",
              "      <th>experience_level</th>\n",
              "      <th>employment_type</th>\n",
              "      <th>job_title</th>\n",
              "      <th>salary</th>\n",
              "      <th>salary_currency</th>\n",
              "      <th>salary_in_usd</th>\n",
              "      <th>employee_residence</th>\n",
              "      <th>remote_ratio</th>\n",
              "      <th>company_location</th>\n",
              "      <th>company_size</th>\n",
              "    </tr>\n",
              "  </thead>\n",
              "  <tbody>\n",
              "    <tr>\n",
              "      <th>5</th>\n",
              "      <td>2020</td>\n",
              "      <td>EN</td>\n",
              "      <td>FT</td>\n",
              "      <td>Data Analyst</td>\n",
              "      <td>72000</td>\n",
              "      <td>USD</td>\n",
              "      <td>72000</td>\n",
              "      <td>US</td>\n",
              "      <td>100</td>\n",
              "      <td>US</td>\n",
              "      <td>L</td>\n",
              "    </tr>\n",
              "    <tr>\n",
              "      <th>6</th>\n",
              "      <td>2020</td>\n",
              "      <td>SE</td>\n",
              "      <td>FT</td>\n",
              "      <td>Lead Data Scientist</td>\n",
              "      <td>190000</td>\n",
              "      <td>USD</td>\n",
              "      <td>190000</td>\n",
              "      <td>US</td>\n",
              "      <td>100</td>\n",
              "      <td>US</td>\n",
              "      <td>S</td>\n",
              "    </tr>\n",
              "    <tr>\n",
              "      <th>8</th>\n",
              "      <td>2020</td>\n",
              "      <td>MI</td>\n",
              "      <td>FT</td>\n",
              "      <td>Business Data Analyst</td>\n",
              "      <td>135000</td>\n",
              "      <td>USD</td>\n",
              "      <td>135000</td>\n",
              "      <td>US</td>\n",
              "      <td>100</td>\n",
              "      <td>US</td>\n",
              "      <td>L</td>\n",
              "    </tr>\n",
              "    <tr>\n",
              "      <th>13</th>\n",
              "      <td>2020</td>\n",
              "      <td>MI</td>\n",
              "      <td>FT</td>\n",
              "      <td>Lead Data Analyst</td>\n",
              "      <td>87000</td>\n",
              "      <td>USD</td>\n",
              "      <td>87000</td>\n",
              "      <td>US</td>\n",
              "      <td>100</td>\n",
              "      <td>US</td>\n",
              "      <td>L</td>\n",
              "    </tr>\n",
              "    <tr>\n",
              "      <th>14</th>\n",
              "      <td>2020</td>\n",
              "      <td>MI</td>\n",
              "      <td>FT</td>\n",
              "      <td>Data Analyst</td>\n",
              "      <td>85000</td>\n",
              "      <td>USD</td>\n",
              "      <td>85000</td>\n",
              "      <td>US</td>\n",
              "      <td>100</td>\n",
              "      <td>US</td>\n",
              "      <td>L</td>\n",
              "    </tr>\n",
              "  </tbody>\n",
              "</table>\n",
              "</div>\n",
              "      <button class=\"colab-df-convert\" onclick=\"convertToInteractive('df-2e5fc6ca-bbce-4ade-85a6-7bdfe40b2a1d')\"\n",
              "              title=\"Convert this dataframe to an interactive table.\"\n",
              "              style=\"display:none;\">\n",
              "        \n",
              "  <svg xmlns=\"http://www.w3.org/2000/svg\" height=\"24px\"viewBox=\"0 0 24 24\"\n",
              "       width=\"24px\">\n",
              "    <path d=\"M0 0h24v24H0V0z\" fill=\"none\"/>\n",
              "    <path d=\"M18.56 5.44l.94 2.06.94-2.06 2.06-.94-2.06-.94-.94-2.06-.94 2.06-2.06.94zm-11 1L8.5 8.5l.94-2.06 2.06-.94-2.06-.94L8.5 2.5l-.94 2.06-2.06.94zm10 10l.94 2.06.94-2.06 2.06-.94-2.06-.94-.94-2.06-.94 2.06-2.06.94z\"/><path d=\"M17.41 7.96l-1.37-1.37c-.4-.4-.92-.59-1.43-.59-.52 0-1.04.2-1.43.59L10.3 9.45l-7.72 7.72c-.78.78-.78 2.05 0 2.83L4 21.41c.39.39.9.59 1.41.59.51 0 1.02-.2 1.41-.59l7.78-7.78 2.81-2.81c.8-.78.8-2.07 0-2.86zM5.41 20L4 18.59l7.72-7.72 1.47 1.35L5.41 20z\"/>\n",
              "  </svg>\n",
              "      </button>\n",
              "      \n",
              "  <style>\n",
              "    .colab-df-container {\n",
              "      display:flex;\n",
              "      flex-wrap:wrap;\n",
              "      gap: 12px;\n",
              "    }\n",
              "\n",
              "    .colab-df-convert {\n",
              "      background-color: #E8F0FE;\n",
              "      border: none;\n",
              "      border-radius: 50%;\n",
              "      cursor: pointer;\n",
              "      display: none;\n",
              "      fill: #1967D2;\n",
              "      height: 32px;\n",
              "      padding: 0 0 0 0;\n",
              "      width: 32px;\n",
              "    }\n",
              "\n",
              "    .colab-df-convert:hover {\n",
              "      background-color: #E2EBFA;\n",
              "      box-shadow: 0px 1px 2px rgba(60, 64, 67, 0.3), 0px 1px 3px 1px rgba(60, 64, 67, 0.15);\n",
              "      fill: #174EA6;\n",
              "    }\n",
              "\n",
              "    [theme=dark] .colab-df-convert {\n",
              "      background-color: #3B4455;\n",
              "      fill: #D2E3FC;\n",
              "    }\n",
              "\n",
              "    [theme=dark] .colab-df-convert:hover {\n",
              "      background-color: #434B5C;\n",
              "      box-shadow: 0px 1px 3px 1px rgba(0, 0, 0, 0.15);\n",
              "      filter: drop-shadow(0px 1px 2px rgba(0, 0, 0, 0.3));\n",
              "      fill: #FFFFFF;\n",
              "    }\n",
              "  </style>\n",
              "\n",
              "      <script>\n",
              "        const buttonEl =\n",
              "          document.querySelector('#df-2e5fc6ca-bbce-4ade-85a6-7bdfe40b2a1d button.colab-df-convert');\n",
              "        buttonEl.style.display =\n",
              "          google.colab.kernel.accessAllowed ? 'block' : 'none';\n",
              "\n",
              "        async function convertToInteractive(key) {\n",
              "          const element = document.querySelector('#df-2e5fc6ca-bbce-4ade-85a6-7bdfe40b2a1d');\n",
              "          const dataTable =\n",
              "            await google.colab.kernel.invokeFunction('convertToInteractive',\n",
              "                                                     [key], {});\n",
              "          if (!dataTable) return;\n",
              "\n",
              "          const docLinkHtml = 'Like what you see? Visit the ' +\n",
              "            '<a target=\"_blank\" href=https://colab.research.google.com/notebooks/data_table.ipynb>data table notebook</a>'\n",
              "            + ' to learn more about interactive tables.';\n",
              "          element.innerHTML = '';\n",
              "          dataTable['output_type'] = 'display_data';\n",
              "          await google.colab.output.renderOutput(dataTable, element);\n",
              "          const docLink = document.createElement('div');\n",
              "          docLink.innerHTML = docLinkHtml;\n",
              "          element.appendChild(docLink);\n",
              "        }\n",
              "      </script>\n",
              "    </div>\n",
              "  </div>\n",
              "  "
            ]
          },
          "metadata": {},
          "execution_count": 18
        }
      ]
    },
    {
      "cell_type": "code",
      "source": [
        "# often what size of company will need da?\n",
        "df[df['job_title']=='Data Analyst'].groupby('company_size')['job_title'].count()"
      ],
      "metadata": {
        "colab": {
          "base_uri": "https://localhost:8080/"
        },
        "id": "yUWA9pQeD46Z",
        "outputId": "f35e0829-10ad-45b5-a100-da230f6eb26c"
      },
      "execution_count": 19,
      "outputs": [
        {
          "output_type": "execute_result",
          "data": {
            "text/plain": [
              "company_size\n",
              "L    13\n",
              "M    76\n",
              "S     8\n",
              "Name: job_title, dtype: int64"
            ]
          },
          "metadata": {},
          "execution_count": 19
        }
      ]
    },
    {
      "cell_type": "markdown",
      "source": [
        "Middle size company needs da the most, but is it beacuse we have more M size companies in our data?"
      ],
      "metadata": {
        "id": "WuTUkLQYcYob"
      }
    },
    {
      "cell_type": "code",
      "source": [
        "# What is the distribution of company size?\n",
        "df[['company_size']].value_counts()"
      ],
      "metadata": {
        "colab": {
          "base_uri": "https://localhost:8080/"
        },
        "id": "0oGe5MRtcHlT",
        "outputId": "359c4352-e01a-488b-cb26-50d405bfdf16"
      },
      "execution_count": 20,
      "outputs": [
        {
          "output_type": "execute_result",
          "data": {
            "text/plain": [
              "company_size\n",
              "M               326\n",
              "L               198\n",
              "S                83\n",
              "dtype: int64"
            ]
          },
          "metadata": {},
          "execution_count": 20
        }
      ]
    },
    {
      "cell_type": "markdown",
      "source": [
        "Yes, M size company is a lot"
      ],
      "metadata": {
        "id": "11V8zL1Wcku9"
      }
    },
    {
      "cell_type": "code",
      "source": [
        "# How many experience levels?\n",
        "df[['experience_level']].value_counts()"
      ],
      "metadata": {
        "colab": {
          "base_uri": "https://localhost:8080/"
        },
        "id": "IvzqYD-VEkuo",
        "outputId": "bbd90e4d-5c4f-4a0f-c3e9-bc23e184c7f5"
      },
      "execution_count": null,
      "outputs": [
        {
          "output_type": "execute_result",
          "data": {
            "text/plain": [
              "experience_level\n",
              "SE                  280\n",
              "MI                  213\n",
              "EN                   88\n",
              "EX                   26\n",
              "dtype: int64"
            ]
          },
          "metadata": {},
          "execution_count": 36
        }
      ]
    },
    {
      "cell_type": "code",
      "source": [
        "da.groupby('experience_level')['job_title'].count()"
      ],
      "metadata": {
        "colab": {
          "base_uri": "https://localhost:8080/"
        },
        "id": "mHcLE-uaIpS1",
        "outputId": "232abe8e-f699-4183-eb0e-9a7345a9010e"
      },
      "execution_count": null,
      "outputs": [
        {
          "output_type": "execute_result",
          "data": {
            "text/plain": [
              "experience_level\n",
              "EN    12\n",
              "EX     2\n",
              "MI    29\n",
              "SE    54\n",
              "Name: job_title, dtype: int64"
            ]
          },
          "metadata": {},
          "execution_count": 37
        }
      ]
    },
    {
      "cell_type": "code",
      "source": [
        "da.groupby(['work_year', 'experience_level'])['job_title'].count()"
      ],
      "metadata": {
        "colab": {
          "base_uri": "https://localhost:8080/"
        },
        "id": "yNaPbHKLKHKw",
        "outputId": "6f74a61b-03a4-4e08-f78b-80d7e8787e52"
      },
      "execution_count": 23,
      "outputs": [
        {
          "output_type": "execute_result",
          "data": {
            "text/plain": [
              "work_year  experience_level\n",
              "2020       EN                   4\n",
              "           MI                   3\n",
              "2021       EN                   6\n",
              "           MI                   7\n",
              "           SE                   4\n",
              "2022       EN                   2\n",
              "           EX                   2\n",
              "           MI                  19\n",
              "           SE                  50\n",
              "Name: job_title, dtype: int64"
            ]
          },
          "metadata": {},
          "execution_count": 23
        }
      ]
    },
    {
      "cell_type": "markdown",
      "source": [
        "Demand for data related jobs is increasing every year, and demand are espacially high for senior and middle level data analysts based on data."
      ],
      "metadata": {
        "id": "-GH-btVbdawv"
      }
    },
    {
      "cell_type": "code",
      "source": [
        ""
      ],
      "metadata": {
        "id": "vm5XYyqhdpZd"
      },
      "execution_count": null,
      "outputs": []
    }
  ]
}