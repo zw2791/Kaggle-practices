{
  "nbformat": 4,
  "nbformat_minor": 0,
  "metadata": {
    "colab": {
      "name": "AC in India.ipynb",
      "provenance": [],
      "collapsed_sections": [
        "xFI435MM2nmX",
        "lKd_ebS72SGG",
        "gTa1_AqO4AnQ",
        "02Ywm09eZxcY",
        "5rQzdrKecFxz",
        "2hAKI1Kqb6JZ",
        "iQtXbI6xHTjq",
        "_HqbAIaaeakK",
        "dGc_5bidvhMz",
        "nSXtQsM6yCie"
      ],
      "authorship_tag": "ABX9TyPmSM5zaw2F8dl25jC+3XHy",
      "include_colab_link": true
    },
    "kernelspec": {
      "name": "python3",
      "display_name": "Python 3"
    },
    "language_info": {
      "name": "python"
    }
  },
  "cells": [
    {
      "cell_type": "markdown",
      "metadata": {
        "id": "view-in-github",
        "colab_type": "text"
      },
      "source": [
        "<a href=\"https://colab.research.google.com/github/zw2791/Kaggle-practices/blob/main/AC_in_India.ipynb\" target=\"_parent\"><img src=\"https://colab.research.google.com/assets/colab-badge.svg\" alt=\"Open In Colab\"/></a>"
      ]
    },
    {
      "cell_type": "markdown",
      "source": [
        "## Import packages and pre-processing"
      ],
      "metadata": {
        "id": "xFI435MM2nmX"
      }
    },
    {
      "cell_type": "code",
      "execution_count": 1,
      "metadata": {
        "id": "u3h5tkHOzbmS"
      },
      "outputs": [],
      "source": [
        "import pandas as pd\n",
        "import numpy as np"
      ]
    },
    {
      "cell_type": "code",
      "source": [
        "import matplotlib.pyplot as plt\n",
        "import seaborn as sns"
      ],
      "metadata": {
        "id": "BezFnMHozjBK"
      },
      "execution_count": 2,
      "outputs": []
    },
    {
      "cell_type": "markdown",
      "source": [
        "Load data"
      ],
      "metadata": {
        "id": "d0IDEeCiub-k"
      }
    },
    {
      "cell_type": "code",
      "source": [
        "path = '/content/Air_condition_dataset.csv'\n",
        "df = pd.read_csv(path)"
      ],
      "metadata": {
        "id": "dSVEofXTzm93"
      },
      "execution_count": 3,
      "outputs": []
    },
    {
      "cell_type": "code",
      "source": [
        "row, features = df.shape\n",
        "print('This data contain {} samples, and {} features'.format(row, features))"
      ],
      "metadata": {
        "colab": {
          "base_uri": "https://localhost:8080/"
        },
        "id": "xJS2ANxCWO6g",
        "outputId": "c8853e46-87fd-460a-8964-3cdefea77e17"
      },
      "execution_count": 4,
      "outputs": [
        {
          "output_type": "stream",
          "name": "stdout",
          "text": [
            "This data contain 276 samples, and 10 features\n"
          ]
        }
      ]
    },
    {
      "cell_type": "markdown",
      "source": [
        "Inspect data"
      ],
      "metadata": {
        "id": "r7_Bv8dAug_6"
      }
    },
    {
      "cell_type": "code",
      "source": [
        "df.head(10)"
      ],
      "metadata": {
        "colab": {
          "base_uri": "https://localhost:8080/",
          "height": 363
        },
        "id": "UI8qkSA20LV3",
        "outputId": "b749cb40-6e07-4fe8-b597-4e3c2b699b1b"
      },
      "execution_count": 5,
      "outputs": [
        {
          "output_type": "execute_result",
          "data": {
            "text/plain": [
              "  Brand_name   TOn Condenser_Coil Power_Consumption RefrigeranT Noise_level  \\\n",
              "0      Haier     1         Copper             704 W        R-32       26 dB   \n",
              "1     Daikin   1.5          Alloy            1304 W        R-32       42 dB   \n",
              "2      Croma   1.5         Copper            1570 W      R - 32       49 dB   \n",
              "3  Panasonic     1         Copper            1095 W        R-32       45 dB   \n",
              "4       MarQ    By         Copper        712.59 kWh        R-32       40 dB   \n",
              "5  Panasonic   1.5         Copper        840.75 kWh        R-32       46 dB   \n",
              "6  Panasonic   1.5         Copper         1056.45 W        R-32       48 db   \n",
              "7       Blue  Star         Copper        704.42 kWh       d: No       39 dB   \n",
              "8     Voltas   1.5         Copper            1649 W       d: No        R-22   \n",
              "9    SAMSUNG     1         Copper             920 W      R - 32       42 dB   \n",
              "\n",
              "   STAR  Ratings   Price                                          Image_url  \n",
              "0   0.0        0  ₹27294  https://rukminim1.flixcart.com/image/312/312/l...  \n",
              "1   4.2        0  ₹38999  https://rukminim1.flixcart.com/image/312/312/l...  \n",
              "2   3.8       75  ₹28490  https://rukminim1.flixcart.com/image/312/312/l...  \n",
              "3   4.3    10156  ₹32999  https://rukminim1.flixcart.com/image/312/312/l...  \n",
              "4   4.0      642  ₹27490  https://rukminim1.flixcart.com/image/312/312/k...  \n",
              "5   4.3    10156  ₹42990  https://rukminim1.flixcart.com/image/312/312/l...  \n",
              "6   4.2     1125  ₹35990  https://rukminim1.flixcart.com/image/312/312/k...  \n",
              "7   0.0        0  ₹32490  https://rukminim1.flixcart.com/image/312/312/l...  \n",
              "8   4.3     2499  ₹28990  https://rukminim1.flixcart.com/image/312/312/j...  \n",
              "9   4.3      227  ₹30990  https://rukminim1.flixcart.com/image/312/312/k...  "
            ],
            "text/html": [
              "\n",
              "  <div id=\"df-2747303f-5074-4a96-8a86-b6d370c86262\">\n",
              "    <div class=\"colab-df-container\">\n",
              "      <div>\n",
              "<style scoped>\n",
              "    .dataframe tbody tr th:only-of-type {\n",
              "        vertical-align: middle;\n",
              "    }\n",
              "\n",
              "    .dataframe tbody tr th {\n",
              "        vertical-align: top;\n",
              "    }\n",
              "\n",
              "    .dataframe thead th {\n",
              "        text-align: right;\n",
              "    }\n",
              "</style>\n",
              "<table border=\"1\" class=\"dataframe\">\n",
              "  <thead>\n",
              "    <tr style=\"text-align: right;\">\n",
              "      <th></th>\n",
              "      <th>Brand_name</th>\n",
              "      <th>TOn</th>\n",
              "      <th>Condenser_Coil</th>\n",
              "      <th>Power_Consumption</th>\n",
              "      <th>RefrigeranT</th>\n",
              "      <th>Noise_level</th>\n",
              "      <th>STAR</th>\n",
              "      <th>Ratings</th>\n",
              "      <th>Price</th>\n",
              "      <th>Image_url</th>\n",
              "    </tr>\n",
              "  </thead>\n",
              "  <tbody>\n",
              "    <tr>\n",
              "      <th>0</th>\n",
              "      <td>Haier</td>\n",
              "      <td>1</td>\n",
              "      <td>Copper</td>\n",
              "      <td>704 W</td>\n",
              "      <td>R-32</td>\n",
              "      <td>26 dB</td>\n",
              "      <td>0.0</td>\n",
              "      <td>0</td>\n",
              "      <td>₹27294</td>\n",
              "      <td>https://rukminim1.flixcart.com/image/312/312/l...</td>\n",
              "    </tr>\n",
              "    <tr>\n",
              "      <th>1</th>\n",
              "      <td>Daikin</td>\n",
              "      <td>1.5</td>\n",
              "      <td>Alloy</td>\n",
              "      <td>1304 W</td>\n",
              "      <td>R-32</td>\n",
              "      <td>42 dB</td>\n",
              "      <td>4.2</td>\n",
              "      <td>0</td>\n",
              "      <td>₹38999</td>\n",
              "      <td>https://rukminim1.flixcart.com/image/312/312/l...</td>\n",
              "    </tr>\n",
              "    <tr>\n",
              "      <th>2</th>\n",
              "      <td>Croma</td>\n",
              "      <td>1.5</td>\n",
              "      <td>Copper</td>\n",
              "      <td>1570 W</td>\n",
              "      <td>R - 32</td>\n",
              "      <td>49 dB</td>\n",
              "      <td>3.8</td>\n",
              "      <td>75</td>\n",
              "      <td>₹28490</td>\n",
              "      <td>https://rukminim1.flixcart.com/image/312/312/l...</td>\n",
              "    </tr>\n",
              "    <tr>\n",
              "      <th>3</th>\n",
              "      <td>Panasonic</td>\n",
              "      <td>1</td>\n",
              "      <td>Copper</td>\n",
              "      <td>1095 W</td>\n",
              "      <td>R-32</td>\n",
              "      <td>45 dB</td>\n",
              "      <td>4.3</td>\n",
              "      <td>10156</td>\n",
              "      <td>₹32999</td>\n",
              "      <td>https://rukminim1.flixcart.com/image/312/312/l...</td>\n",
              "    </tr>\n",
              "    <tr>\n",
              "      <th>4</th>\n",
              "      <td>MarQ</td>\n",
              "      <td>By</td>\n",
              "      <td>Copper</td>\n",
              "      <td>712.59 kWh</td>\n",
              "      <td>R-32</td>\n",
              "      <td>40 dB</td>\n",
              "      <td>4.0</td>\n",
              "      <td>642</td>\n",
              "      <td>₹27490</td>\n",
              "      <td>https://rukminim1.flixcart.com/image/312/312/k...</td>\n",
              "    </tr>\n",
              "    <tr>\n",
              "      <th>5</th>\n",
              "      <td>Panasonic</td>\n",
              "      <td>1.5</td>\n",
              "      <td>Copper</td>\n",
              "      <td>840.75 kWh</td>\n",
              "      <td>R-32</td>\n",
              "      <td>46 dB</td>\n",
              "      <td>4.3</td>\n",
              "      <td>10156</td>\n",
              "      <td>₹42990</td>\n",
              "      <td>https://rukminim1.flixcart.com/image/312/312/l...</td>\n",
              "    </tr>\n",
              "    <tr>\n",
              "      <th>6</th>\n",
              "      <td>Panasonic</td>\n",
              "      <td>1.5</td>\n",
              "      <td>Copper</td>\n",
              "      <td>1056.45 W</td>\n",
              "      <td>R-32</td>\n",
              "      <td>48 db</td>\n",
              "      <td>4.2</td>\n",
              "      <td>1125</td>\n",
              "      <td>₹35990</td>\n",
              "      <td>https://rukminim1.flixcart.com/image/312/312/k...</td>\n",
              "    </tr>\n",
              "    <tr>\n",
              "      <th>7</th>\n",
              "      <td>Blue</td>\n",
              "      <td>Star</td>\n",
              "      <td>Copper</td>\n",
              "      <td>704.42 kWh</td>\n",
              "      <td>d: No</td>\n",
              "      <td>39 dB</td>\n",
              "      <td>0.0</td>\n",
              "      <td>0</td>\n",
              "      <td>₹32490</td>\n",
              "      <td>https://rukminim1.flixcart.com/image/312/312/l...</td>\n",
              "    </tr>\n",
              "    <tr>\n",
              "      <th>8</th>\n",
              "      <td>Voltas</td>\n",
              "      <td>1.5</td>\n",
              "      <td>Copper</td>\n",
              "      <td>1649 W</td>\n",
              "      <td>d: No</td>\n",
              "      <td>R-22</td>\n",
              "      <td>4.3</td>\n",
              "      <td>2499</td>\n",
              "      <td>₹28990</td>\n",
              "      <td>https://rukminim1.flixcart.com/image/312/312/j...</td>\n",
              "    </tr>\n",
              "    <tr>\n",
              "      <th>9</th>\n",
              "      <td>SAMSUNG</td>\n",
              "      <td>1</td>\n",
              "      <td>Copper</td>\n",
              "      <td>920 W</td>\n",
              "      <td>R - 32</td>\n",
              "      <td>42 dB</td>\n",
              "      <td>4.3</td>\n",
              "      <td>227</td>\n",
              "      <td>₹30990</td>\n",
              "      <td>https://rukminim1.flixcart.com/image/312/312/k...</td>\n",
              "    </tr>\n",
              "  </tbody>\n",
              "</table>\n",
              "</div>\n",
              "      <button class=\"colab-df-convert\" onclick=\"convertToInteractive('df-2747303f-5074-4a96-8a86-b6d370c86262')\"\n",
              "              title=\"Convert this dataframe to an interactive table.\"\n",
              "              style=\"display:none;\">\n",
              "        \n",
              "  <svg xmlns=\"http://www.w3.org/2000/svg\" height=\"24px\"viewBox=\"0 0 24 24\"\n",
              "       width=\"24px\">\n",
              "    <path d=\"M0 0h24v24H0V0z\" fill=\"none\"/>\n",
              "    <path d=\"M18.56 5.44l.94 2.06.94-2.06 2.06-.94-2.06-.94-.94-2.06-.94 2.06-2.06.94zm-11 1L8.5 8.5l.94-2.06 2.06-.94-2.06-.94L8.5 2.5l-.94 2.06-2.06.94zm10 10l.94 2.06.94-2.06 2.06-.94-2.06-.94-.94-2.06-.94 2.06-2.06.94z\"/><path d=\"M17.41 7.96l-1.37-1.37c-.4-.4-.92-.59-1.43-.59-.52 0-1.04.2-1.43.59L10.3 9.45l-7.72 7.72c-.78.78-.78 2.05 0 2.83L4 21.41c.39.39.9.59 1.41.59.51 0 1.02-.2 1.41-.59l7.78-7.78 2.81-2.81c.8-.78.8-2.07 0-2.86zM5.41 20L4 18.59l7.72-7.72 1.47 1.35L5.41 20z\"/>\n",
              "  </svg>\n",
              "      </button>\n",
              "      \n",
              "  <style>\n",
              "    .colab-df-container {\n",
              "      display:flex;\n",
              "      flex-wrap:wrap;\n",
              "      gap: 12px;\n",
              "    }\n",
              "\n",
              "    .colab-df-convert {\n",
              "      background-color: #E8F0FE;\n",
              "      border: none;\n",
              "      border-radius: 50%;\n",
              "      cursor: pointer;\n",
              "      display: none;\n",
              "      fill: #1967D2;\n",
              "      height: 32px;\n",
              "      padding: 0 0 0 0;\n",
              "      width: 32px;\n",
              "    }\n",
              "\n",
              "    .colab-df-convert:hover {\n",
              "      background-color: #E2EBFA;\n",
              "      box-shadow: 0px 1px 2px rgba(60, 64, 67, 0.3), 0px 1px 3px 1px rgba(60, 64, 67, 0.15);\n",
              "      fill: #174EA6;\n",
              "    }\n",
              "\n",
              "    [theme=dark] .colab-df-convert {\n",
              "      background-color: #3B4455;\n",
              "      fill: #D2E3FC;\n",
              "    }\n",
              "\n",
              "    [theme=dark] .colab-df-convert:hover {\n",
              "      background-color: #434B5C;\n",
              "      box-shadow: 0px 1px 3px 1px rgba(0, 0, 0, 0.15);\n",
              "      filter: drop-shadow(0px 1px 2px rgba(0, 0, 0, 0.3));\n",
              "      fill: #FFFFFF;\n",
              "    }\n",
              "  </style>\n",
              "\n",
              "      <script>\n",
              "        const buttonEl =\n",
              "          document.querySelector('#df-2747303f-5074-4a96-8a86-b6d370c86262 button.colab-df-convert');\n",
              "        buttonEl.style.display =\n",
              "          google.colab.kernel.accessAllowed ? 'block' : 'none';\n",
              "\n",
              "        async function convertToInteractive(key) {\n",
              "          const element = document.querySelector('#df-2747303f-5074-4a96-8a86-b6d370c86262');\n",
              "          const dataTable =\n",
              "            await google.colab.kernel.invokeFunction('convertToInteractive',\n",
              "                                                     [key], {});\n",
              "          if (!dataTable) return;\n",
              "\n",
              "          const docLinkHtml = 'Like what you see? Visit the ' +\n",
              "            '<a target=\"_blank\" href=https://colab.research.google.com/notebooks/data_table.ipynb>data table notebook</a>'\n",
              "            + ' to learn more about interactive tables.';\n",
              "          element.innerHTML = '';\n",
              "          dataTable['output_type'] = 'display_data';\n",
              "          await google.colab.output.renderOutput(dataTable, element);\n",
              "          const docLink = document.createElement('div');\n",
              "          docLink.innerHTML = docLinkHtml;\n",
              "          element.appendChild(docLink);\n",
              "        }\n",
              "      </script>\n",
              "    </div>\n",
              "  </div>\n",
              "  "
            ]
          },
          "metadata": {},
          "execution_count": 5
        }
      ]
    },
    {
      "cell_type": "markdown",
      "source": [
        "This data set do not contain any date information, that is unfortunate"
      ],
      "metadata": {
        "id": "Z08THPoeV6WI"
      }
    },
    {
      "cell_type": "markdown",
      "source": [
        "As we can see, Ac price is in Indian Repee, so we can assume ac data were collected in Indian market. Though my original goal was to understand the US ac market, but this could also be a good practice for me"
      ],
      "metadata": {
        "id": "e0CXmRVx0Q2e"
      }
    },
    {
      "cell_type": "markdown",
      "source": [
        "First, we want usd instead of Indian Rupue"
      ],
      "metadata": {
        "id": "AYTISjGE5CzT"
      }
    },
    {
      "cell_type": "code",
      "source": [
        "type(df['Price'])"
      ],
      "metadata": {
        "colab": {
          "base_uri": "https://localhost:8080/"
        },
        "id": "jvYwd9YS0-Ad",
        "outputId": "69165f52-6a0b-4f36-dcb7-97013d328f21"
      },
      "execution_count": 6,
      "outputs": [
        {
          "output_type": "execute_result",
          "data": {
            "text/plain": [
              "pandas.core.series.Series"
            ]
          },
          "metadata": {},
          "execution_count": 6
        }
      ]
    },
    {
      "cell_type": "code",
      "source": [
        "# remove special symbols and cast to numeric\n",
        "df['Price'] = df['Price'].str.replace(r'\\D', '') #remove special characters\n",
        "df['Price'] = df['Price'].astype(float) # change to float type"
      ],
      "metadata": {
        "colab": {
          "base_uri": "https://localhost:8080/"
        },
        "id": "sUF6zPuJ1h6r",
        "outputId": "4da82a37-594d-483f-9273-2339a6241fa9"
      },
      "execution_count": 7,
      "outputs": [
        {
          "output_type": "stream",
          "name": "stderr",
          "text": [
            "/usr/local/lib/python3.7/dist-packages/ipykernel_launcher.py:2: FutureWarning: The default value of regex will change from True to False in a future version.\n",
            "  \n"
          ]
        }
      ]
    },
    {
      "cell_type": "code",
      "source": [
        "# exchange rate at this time is 0.013\n",
        "df['Price'] = df['Price'] * 0.013 "
      ],
      "metadata": {
        "id": "5NPblAlo0MO5"
      },
      "execution_count": 8,
      "outputs": []
    },
    {
      "cell_type": "code",
      "source": [
        "# check df again\n",
        "df.tail()"
      ],
      "metadata": {
        "colab": {
          "base_uri": "https://localhost:8080/",
          "height": 206
        },
        "id": "4W3oDi8O2DgZ",
        "outputId": "29c2f136-3518-463c-9fe8-8fa96e4b1cec"
      },
      "execution_count": 9,
      "outputs": [
        {
          "output_type": "execute_result",
          "data": {
            "text/plain": [
              "    Brand_name  TOn Condenser_Coil Power_Consumption RefrigeranT Noise_level  \\\n",
              "271      Lloyd  1.5         Copper            1440 W        R-32       57 dB   \n",
              "272    Hitachi    2         Copper            2350 W       R410A       37 dB   \n",
              "273    CARRIER  1.5         Copper            1550 W         R32       58 dB   \n",
              "274    LIVPURE    1         Copper            1080 W         R32       45 dB   \n",
              "275    SAMSUNG  1.5         Copper            1490 W         R32       45 dB   \n",
              "\n",
              "     STAR  Ratings    Price                                          Image_url  \n",
              "271   4.1        0  453.570  https://rukminim1.flixcart.com/image/312/312/k...  \n",
              "272   4.2     2029  643.500  https://rukminim1.flixcart.com/image/312/312/k...  \n",
              "273   4.2      810  428.987  https://rukminim1.flixcart.com/image/312/312/k...  \n",
              "274   4.2     2586  506.870  https://rukminim1.flixcart.com/image/312/312/k...  \n",
              "275   0.0        0  501.267  https://rukminim1.flixcart.com/image/312/312/l...  "
            ],
            "text/html": [
              "\n",
              "  <div id=\"df-8c484be4-7865-4002-9c31-1f51589715d6\">\n",
              "    <div class=\"colab-df-container\">\n",
              "      <div>\n",
              "<style scoped>\n",
              "    .dataframe tbody tr th:only-of-type {\n",
              "        vertical-align: middle;\n",
              "    }\n",
              "\n",
              "    .dataframe tbody tr th {\n",
              "        vertical-align: top;\n",
              "    }\n",
              "\n",
              "    .dataframe thead th {\n",
              "        text-align: right;\n",
              "    }\n",
              "</style>\n",
              "<table border=\"1\" class=\"dataframe\">\n",
              "  <thead>\n",
              "    <tr style=\"text-align: right;\">\n",
              "      <th></th>\n",
              "      <th>Brand_name</th>\n",
              "      <th>TOn</th>\n",
              "      <th>Condenser_Coil</th>\n",
              "      <th>Power_Consumption</th>\n",
              "      <th>RefrigeranT</th>\n",
              "      <th>Noise_level</th>\n",
              "      <th>STAR</th>\n",
              "      <th>Ratings</th>\n",
              "      <th>Price</th>\n",
              "      <th>Image_url</th>\n",
              "    </tr>\n",
              "  </thead>\n",
              "  <tbody>\n",
              "    <tr>\n",
              "      <th>271</th>\n",
              "      <td>Lloyd</td>\n",
              "      <td>1.5</td>\n",
              "      <td>Copper</td>\n",
              "      <td>1440 W</td>\n",
              "      <td>R-32</td>\n",
              "      <td>57 dB</td>\n",
              "      <td>4.1</td>\n",
              "      <td>0</td>\n",
              "      <td>453.570</td>\n",
              "      <td>https://rukminim1.flixcart.com/image/312/312/k...</td>\n",
              "    </tr>\n",
              "    <tr>\n",
              "      <th>272</th>\n",
              "      <td>Hitachi</td>\n",
              "      <td>2</td>\n",
              "      <td>Copper</td>\n",
              "      <td>2350 W</td>\n",
              "      <td>R410A</td>\n",
              "      <td>37 dB</td>\n",
              "      <td>4.2</td>\n",
              "      <td>2029</td>\n",
              "      <td>643.500</td>\n",
              "      <td>https://rukminim1.flixcart.com/image/312/312/k...</td>\n",
              "    </tr>\n",
              "    <tr>\n",
              "      <th>273</th>\n",
              "      <td>CARRIER</td>\n",
              "      <td>1.5</td>\n",
              "      <td>Copper</td>\n",
              "      <td>1550 W</td>\n",
              "      <td>R32</td>\n",
              "      <td>58 dB</td>\n",
              "      <td>4.2</td>\n",
              "      <td>810</td>\n",
              "      <td>428.987</td>\n",
              "      <td>https://rukminim1.flixcart.com/image/312/312/k...</td>\n",
              "    </tr>\n",
              "    <tr>\n",
              "      <th>274</th>\n",
              "      <td>LIVPURE</td>\n",
              "      <td>1</td>\n",
              "      <td>Copper</td>\n",
              "      <td>1080 W</td>\n",
              "      <td>R32</td>\n",
              "      <td>45 dB</td>\n",
              "      <td>4.2</td>\n",
              "      <td>2586</td>\n",
              "      <td>506.870</td>\n",
              "      <td>https://rukminim1.flixcart.com/image/312/312/k...</td>\n",
              "    </tr>\n",
              "    <tr>\n",
              "      <th>275</th>\n",
              "      <td>SAMSUNG</td>\n",
              "      <td>1.5</td>\n",
              "      <td>Copper</td>\n",
              "      <td>1490 W</td>\n",
              "      <td>R32</td>\n",
              "      <td>45 dB</td>\n",
              "      <td>0.0</td>\n",
              "      <td>0</td>\n",
              "      <td>501.267</td>\n",
              "      <td>https://rukminim1.flixcart.com/image/312/312/l...</td>\n",
              "    </tr>\n",
              "  </tbody>\n",
              "</table>\n",
              "</div>\n",
              "      <button class=\"colab-df-convert\" onclick=\"convertToInteractive('df-8c484be4-7865-4002-9c31-1f51589715d6')\"\n",
              "              title=\"Convert this dataframe to an interactive table.\"\n",
              "              style=\"display:none;\">\n",
              "        \n",
              "  <svg xmlns=\"http://www.w3.org/2000/svg\" height=\"24px\"viewBox=\"0 0 24 24\"\n",
              "       width=\"24px\">\n",
              "    <path d=\"M0 0h24v24H0V0z\" fill=\"none\"/>\n",
              "    <path d=\"M18.56 5.44l.94 2.06.94-2.06 2.06-.94-2.06-.94-.94-2.06-.94 2.06-2.06.94zm-11 1L8.5 8.5l.94-2.06 2.06-.94-2.06-.94L8.5 2.5l-.94 2.06-2.06.94zm10 10l.94 2.06.94-2.06 2.06-.94-2.06-.94-.94-2.06-.94 2.06-2.06.94z\"/><path d=\"M17.41 7.96l-1.37-1.37c-.4-.4-.92-.59-1.43-.59-.52 0-1.04.2-1.43.59L10.3 9.45l-7.72 7.72c-.78.78-.78 2.05 0 2.83L4 21.41c.39.39.9.59 1.41.59.51 0 1.02-.2 1.41-.59l7.78-7.78 2.81-2.81c.8-.78.8-2.07 0-2.86zM5.41 20L4 18.59l7.72-7.72 1.47 1.35L5.41 20z\"/>\n",
              "  </svg>\n",
              "      </button>\n",
              "      \n",
              "  <style>\n",
              "    .colab-df-container {\n",
              "      display:flex;\n",
              "      flex-wrap:wrap;\n",
              "      gap: 12px;\n",
              "    }\n",
              "\n",
              "    .colab-df-convert {\n",
              "      background-color: #E8F0FE;\n",
              "      border: none;\n",
              "      border-radius: 50%;\n",
              "      cursor: pointer;\n",
              "      display: none;\n",
              "      fill: #1967D2;\n",
              "      height: 32px;\n",
              "      padding: 0 0 0 0;\n",
              "      width: 32px;\n",
              "    }\n",
              "\n",
              "    .colab-df-convert:hover {\n",
              "      background-color: #E2EBFA;\n",
              "      box-shadow: 0px 1px 2px rgba(60, 64, 67, 0.3), 0px 1px 3px 1px rgba(60, 64, 67, 0.15);\n",
              "      fill: #174EA6;\n",
              "    }\n",
              "\n",
              "    [theme=dark] .colab-df-convert {\n",
              "      background-color: #3B4455;\n",
              "      fill: #D2E3FC;\n",
              "    }\n",
              "\n",
              "    [theme=dark] .colab-df-convert:hover {\n",
              "      background-color: #434B5C;\n",
              "      box-shadow: 0px 1px 3px 1px rgba(0, 0, 0, 0.15);\n",
              "      filter: drop-shadow(0px 1px 2px rgba(0, 0, 0, 0.3));\n",
              "      fill: #FFFFFF;\n",
              "    }\n",
              "  </style>\n",
              "\n",
              "      <script>\n",
              "        const buttonEl =\n",
              "          document.querySelector('#df-8c484be4-7865-4002-9c31-1f51589715d6 button.colab-df-convert');\n",
              "        buttonEl.style.display =\n",
              "          google.colab.kernel.accessAllowed ? 'block' : 'none';\n",
              "\n",
              "        async function convertToInteractive(key) {\n",
              "          const element = document.querySelector('#df-8c484be4-7865-4002-9c31-1f51589715d6');\n",
              "          const dataTable =\n",
              "            await google.colab.kernel.invokeFunction('convertToInteractive',\n",
              "                                                     [key], {});\n",
              "          if (!dataTable) return;\n",
              "\n",
              "          const docLinkHtml = 'Like what you see? Visit the ' +\n",
              "            '<a target=\"_blank\" href=https://colab.research.google.com/notebooks/data_table.ipynb>data table notebook</a>'\n",
              "            + ' to learn more about interactive tables.';\n",
              "          element.innerHTML = '';\n",
              "          dataTable['output_type'] = 'display_data';\n",
              "          await google.colab.output.renderOutput(dataTable, element);\n",
              "          const docLink = document.createElement('div');\n",
              "          docLink.innerHTML = docLinkHtml;\n",
              "          element.appendChild(docLink);\n",
              "        }\n",
              "      </script>\n",
              "    </div>\n",
              "  </div>\n",
              "  "
            ]
          },
          "metadata": {},
          "execution_count": 9
        }
      ]
    },
    {
      "cell_type": "markdown",
      "source": [
        "I notice that noise level is recorded with unit, as we want to investigate the avg noise level (for different brand and price level), we will motify it"
      ],
      "metadata": {
        "id": "MsIVJZtw5hSs"
      }
    },
    {
      "cell_type": "code",
      "source": [
        "df['Noise_level'] = df['Noise_level'].str.replace(r'\\D', '') # remove special characters"
      ],
      "metadata": {
        "colab": {
          "base_uri": "https://localhost:8080/"
        },
        "id": "KAHnrYbj5rgw",
        "outputId": "14f7f65c-e319-4efc-e876-7e4a18221e64"
      },
      "execution_count": 10,
      "outputs": [
        {
          "output_type": "stream",
          "name": "stderr",
          "text": [
            "/usr/local/lib/python3.7/dist-packages/ipykernel_launcher.py:1: FutureWarning: The default value of regex will change from True to False in a future version.\n",
            "  \"\"\"Entry point for launching an IPython kernel.\n"
          ]
        }
      ]
    },
    {
      "cell_type": "code",
      "source": [
        "df['Noise_level'] = pd.to_numeric(df['Noise_level']) #change str to numeric value"
      ],
      "metadata": {
        "id": "KVyrPpVu6N46"
      },
      "execution_count": 11,
      "outputs": []
    },
    {
      "cell_type": "code",
      "source": [
        "# check data\n",
        "df.head()"
      ],
      "metadata": {
        "colab": {
          "base_uri": "https://localhost:8080/",
          "height": 206
        },
        "id": "r8jVRyYB57FL",
        "outputId": "fc5b9913-f2e9-4d14-833d-0befa307dc10"
      },
      "execution_count": 12,
      "outputs": [
        {
          "output_type": "execute_result",
          "data": {
            "text/plain": [
              "  Brand_name  TOn Condenser_Coil Power_Consumption RefrigeranT  Noise_level  \\\n",
              "0      Haier    1         Copper             704 W        R-32         26.0   \n",
              "1     Daikin  1.5          Alloy            1304 W        R-32         42.0   \n",
              "2      Croma  1.5         Copper            1570 W      R - 32         49.0   \n",
              "3  Panasonic    1         Copper            1095 W        R-32         45.0   \n",
              "4       MarQ   By         Copper        712.59 kWh        R-32         40.0   \n",
              "\n",
              "   STAR  Ratings    Price                                          Image_url  \n",
              "0   0.0        0  354.822  https://rukminim1.flixcart.com/image/312/312/l...  \n",
              "1   4.2        0  506.987  https://rukminim1.flixcart.com/image/312/312/l...  \n",
              "2   3.8       75  370.370  https://rukminim1.flixcart.com/image/312/312/l...  \n",
              "3   4.3    10156  428.987  https://rukminim1.flixcart.com/image/312/312/l...  \n",
              "4   4.0      642  357.370  https://rukminim1.flixcart.com/image/312/312/k...  "
            ],
            "text/html": [
              "\n",
              "  <div id=\"df-da87ec2f-47a0-4a42-8310-ba49ce01c419\">\n",
              "    <div class=\"colab-df-container\">\n",
              "      <div>\n",
              "<style scoped>\n",
              "    .dataframe tbody tr th:only-of-type {\n",
              "        vertical-align: middle;\n",
              "    }\n",
              "\n",
              "    .dataframe tbody tr th {\n",
              "        vertical-align: top;\n",
              "    }\n",
              "\n",
              "    .dataframe thead th {\n",
              "        text-align: right;\n",
              "    }\n",
              "</style>\n",
              "<table border=\"1\" class=\"dataframe\">\n",
              "  <thead>\n",
              "    <tr style=\"text-align: right;\">\n",
              "      <th></th>\n",
              "      <th>Brand_name</th>\n",
              "      <th>TOn</th>\n",
              "      <th>Condenser_Coil</th>\n",
              "      <th>Power_Consumption</th>\n",
              "      <th>RefrigeranT</th>\n",
              "      <th>Noise_level</th>\n",
              "      <th>STAR</th>\n",
              "      <th>Ratings</th>\n",
              "      <th>Price</th>\n",
              "      <th>Image_url</th>\n",
              "    </tr>\n",
              "  </thead>\n",
              "  <tbody>\n",
              "    <tr>\n",
              "      <th>0</th>\n",
              "      <td>Haier</td>\n",
              "      <td>1</td>\n",
              "      <td>Copper</td>\n",
              "      <td>704 W</td>\n",
              "      <td>R-32</td>\n",
              "      <td>26.0</td>\n",
              "      <td>0.0</td>\n",
              "      <td>0</td>\n",
              "      <td>354.822</td>\n",
              "      <td>https://rukminim1.flixcart.com/image/312/312/l...</td>\n",
              "    </tr>\n",
              "    <tr>\n",
              "      <th>1</th>\n",
              "      <td>Daikin</td>\n",
              "      <td>1.5</td>\n",
              "      <td>Alloy</td>\n",
              "      <td>1304 W</td>\n",
              "      <td>R-32</td>\n",
              "      <td>42.0</td>\n",
              "      <td>4.2</td>\n",
              "      <td>0</td>\n",
              "      <td>506.987</td>\n",
              "      <td>https://rukminim1.flixcart.com/image/312/312/l...</td>\n",
              "    </tr>\n",
              "    <tr>\n",
              "      <th>2</th>\n",
              "      <td>Croma</td>\n",
              "      <td>1.5</td>\n",
              "      <td>Copper</td>\n",
              "      <td>1570 W</td>\n",
              "      <td>R - 32</td>\n",
              "      <td>49.0</td>\n",
              "      <td>3.8</td>\n",
              "      <td>75</td>\n",
              "      <td>370.370</td>\n",
              "      <td>https://rukminim1.flixcart.com/image/312/312/l...</td>\n",
              "    </tr>\n",
              "    <tr>\n",
              "      <th>3</th>\n",
              "      <td>Panasonic</td>\n",
              "      <td>1</td>\n",
              "      <td>Copper</td>\n",
              "      <td>1095 W</td>\n",
              "      <td>R-32</td>\n",
              "      <td>45.0</td>\n",
              "      <td>4.3</td>\n",
              "      <td>10156</td>\n",
              "      <td>428.987</td>\n",
              "      <td>https://rukminim1.flixcart.com/image/312/312/l...</td>\n",
              "    </tr>\n",
              "    <tr>\n",
              "      <th>4</th>\n",
              "      <td>MarQ</td>\n",
              "      <td>By</td>\n",
              "      <td>Copper</td>\n",
              "      <td>712.59 kWh</td>\n",
              "      <td>R-32</td>\n",
              "      <td>40.0</td>\n",
              "      <td>4.0</td>\n",
              "      <td>642</td>\n",
              "      <td>357.370</td>\n",
              "      <td>https://rukminim1.flixcart.com/image/312/312/k...</td>\n",
              "    </tr>\n",
              "  </tbody>\n",
              "</table>\n",
              "</div>\n",
              "      <button class=\"colab-df-convert\" onclick=\"convertToInteractive('df-da87ec2f-47a0-4a42-8310-ba49ce01c419')\"\n",
              "              title=\"Convert this dataframe to an interactive table.\"\n",
              "              style=\"display:none;\">\n",
              "        \n",
              "  <svg xmlns=\"http://www.w3.org/2000/svg\" height=\"24px\"viewBox=\"0 0 24 24\"\n",
              "       width=\"24px\">\n",
              "    <path d=\"M0 0h24v24H0V0z\" fill=\"none\"/>\n",
              "    <path d=\"M18.56 5.44l.94 2.06.94-2.06 2.06-.94-2.06-.94-.94-2.06-.94 2.06-2.06.94zm-11 1L8.5 8.5l.94-2.06 2.06-.94-2.06-.94L8.5 2.5l-.94 2.06-2.06.94zm10 10l.94 2.06.94-2.06 2.06-.94-2.06-.94-.94-2.06-.94 2.06-2.06.94z\"/><path d=\"M17.41 7.96l-1.37-1.37c-.4-.4-.92-.59-1.43-.59-.52 0-1.04.2-1.43.59L10.3 9.45l-7.72 7.72c-.78.78-.78 2.05 0 2.83L4 21.41c.39.39.9.59 1.41.59.51 0 1.02-.2 1.41-.59l7.78-7.78 2.81-2.81c.8-.78.8-2.07 0-2.86zM5.41 20L4 18.59l7.72-7.72 1.47 1.35L5.41 20z\"/>\n",
              "  </svg>\n",
              "      </button>\n",
              "      \n",
              "  <style>\n",
              "    .colab-df-container {\n",
              "      display:flex;\n",
              "      flex-wrap:wrap;\n",
              "      gap: 12px;\n",
              "    }\n",
              "\n",
              "    .colab-df-convert {\n",
              "      background-color: #E8F0FE;\n",
              "      border: none;\n",
              "      border-radius: 50%;\n",
              "      cursor: pointer;\n",
              "      display: none;\n",
              "      fill: #1967D2;\n",
              "      height: 32px;\n",
              "      padding: 0 0 0 0;\n",
              "      width: 32px;\n",
              "    }\n",
              "\n",
              "    .colab-df-convert:hover {\n",
              "      background-color: #E2EBFA;\n",
              "      box-shadow: 0px 1px 2px rgba(60, 64, 67, 0.3), 0px 1px 3px 1px rgba(60, 64, 67, 0.15);\n",
              "      fill: #174EA6;\n",
              "    }\n",
              "\n",
              "    [theme=dark] .colab-df-convert {\n",
              "      background-color: #3B4455;\n",
              "      fill: #D2E3FC;\n",
              "    }\n",
              "\n",
              "    [theme=dark] .colab-df-convert:hover {\n",
              "      background-color: #434B5C;\n",
              "      box-shadow: 0px 1px 3px 1px rgba(0, 0, 0, 0.15);\n",
              "      filter: drop-shadow(0px 1px 2px rgba(0, 0, 0, 0.3));\n",
              "      fill: #FFFFFF;\n",
              "    }\n",
              "  </style>\n",
              "\n",
              "      <script>\n",
              "        const buttonEl =\n",
              "          document.querySelector('#df-da87ec2f-47a0-4a42-8310-ba49ce01c419 button.colab-df-convert');\n",
              "        buttonEl.style.display =\n",
              "          google.colab.kernel.accessAllowed ? 'block' : 'none';\n",
              "\n",
              "        async function convertToInteractive(key) {\n",
              "          const element = document.querySelector('#df-da87ec2f-47a0-4a42-8310-ba49ce01c419');\n",
              "          const dataTable =\n",
              "            await google.colab.kernel.invokeFunction('convertToInteractive',\n",
              "                                                     [key], {});\n",
              "          if (!dataTable) return;\n",
              "\n",
              "          const docLinkHtml = 'Like what you see? Visit the ' +\n",
              "            '<a target=\"_blank\" href=https://colab.research.google.com/notebooks/data_table.ipynb>data table notebook</a>'\n",
              "            + ' to learn more about interactive tables.';\n",
              "          element.innerHTML = '';\n",
              "          dataTable['output_type'] = 'display_data';\n",
              "          await google.colab.output.renderOutput(dataTable, element);\n",
              "          const docLink = document.createElement('div');\n",
              "          docLink.innerHTML = docLinkHtml;\n",
              "          element.appendChild(docLink);\n",
              "        }\n",
              "      </script>\n",
              "    </div>\n",
              "  </div>\n",
              "  "
            ]
          },
          "metadata": {},
          "execution_count": 12
        }
      ]
    },
    {
      "cell_type": "markdown",
      "source": [
        "## Exploratory Data Analysis"
      ],
      "metadata": {
        "id": "gzHSa_eK2LnK"
      }
    },
    {
      "cell_type": "markdown",
      "source": [
        "### 1. what is the distribution of ac prices?"
      ],
      "metadata": {
        "id": "lKd_ebS72SGG"
      }
    },
    {
      "cell_type": "code",
      "source": [
        "plt.figure(figsize=(15,8))\n",
        "ax = sns.histplot(df['Price'])"
      ],
      "metadata": {
        "colab": {
          "base_uri": "https://localhost:8080/",
          "height": 0
        },
        "id": "EEiLhnBK2G0V",
        "outputId": "42d4c95e-2d40-4b07-a3dd-261138502b17"
      },
      "execution_count": 13,
      "outputs": [
        {
          "output_type": "display_data",
          "data": {
            "text/plain": [
              "<Figure size 1080x576 with 1 Axes>"
            ],
            "image/png": "[encoded data removed]"
          },
          "metadata": {
            "needs_background": "light"
          }
        }
      ]
    },
    {
      "cell_type": "markdown",
      "source": [
        "We see some price zero, let's remove them"
      ],
      "metadata": {
        "id": "Pz7yvDJffpsa"
      }
    },
    {
      "cell_type": "code",
      "source": [
        "df.drop(df[df['Price']==0].index, inplace=True)"
      ],
      "metadata": {
        "id": "IRtG3P_afpHn"
      },
      "execution_count": 14,
      "outputs": []
    },
    {
      "cell_type": "code",
      "source": [
        "round(df['Price'].mean())"
      ],
      "metadata": {
        "colab": {
          "base_uri": "https://localhost:8080/"
        },
        "id": "cWGxiRSdUvfj",
        "outputId": "8dbf2c0e-d399-499f-a50f-ed83755b8ff3"
      },
      "execution_count": 15,
      "outputs": [
        {
          "output_type": "execute_result",
          "data": {
            "text/plain": [
              "484"
            ]
          },
          "metadata": {},
          "execution_count": 15
        }
      ]
    },
    {
      "cell_type": "code",
      "source": [
        "max = df['Price'].max().round(2)\n",
        "min = df['Price'].min().round(2)\n",
        "print('For ACs, the highest price is {}, and the lowest price is {}'.format(max, min))"
      ],
      "metadata": {
        "colab": {
          "base_uri": "https://localhost:8080/"
        },
        "id": "bUcl1h1nfJV6",
        "outputId": "391e38cb-5302-44dd-fc64-5988a2b3879e"
      },
      "execution_count": 16,
      "outputs": [
        {
          "output_type": "stream",
          "name": "stdout",
          "text": [
            "For ACs, the highest price is 948.22, and the lowest price is 318.37\n"
          ]
        }
      ]
    },
    {
      "cell_type": "markdown",
      "source": [
        "We see ac prices are concentrated around 478 dollars.\n",
        "\n",
        "One issue is that our data do not specify the usage of ac, so we do not know how many ac is for big rooms, companies, or just small rooms. In reality, ac price varies in its different usage, 478 dollars in my knowledge is usually used for big rooms."
      ],
      "metadata": {
        "id": "OPw73Z13Updi"
      }
    },
    {
      "cell_type": "markdown",
      "source": [
        "### 2. how many brands the data have?"
      ],
      "metadata": {
        "id": "gTa1_AqO4AnQ"
      }
    },
    {
      "cell_type": "code",
      "source": [
        "df['Brand_name'].nunique()"
      ],
      "metadata": {
        "colab": {
          "base_uri": "https://localhost:8080/"
        },
        "id": "oWyHgAg4aIfB",
        "outputId": "19bec144-d63a-4ef9-eb36-490c9f267467"
      },
      "execution_count": 17,
      "outputs": [
        {
          "output_type": "execute_result",
          "data": {
            "text/plain": [
              "27"
            ]
          },
          "metadata": {},
          "execution_count": 17
        }
      ]
    },
    {
      "cell_type": "markdown",
      "source": [
        "We see our data involve 27 brands in total"
      ],
      "metadata": {
        "id": "L90D0ju_aKrU"
      }
    },
    {
      "cell_type": "code",
      "source": [
        "# see the product number for each brand\n",
        "df['Brand_name'].value_counts()[0:10]"
      ],
      "metadata": {
        "colab": {
          "base_uri": "https://localhost:8080/"
        },
        "id": "2Asfl1G13PGf",
        "outputId": "060b8b79-9b98-46a7-b3bc-f5d46ae0921b"
      },
      "execution_count": 18,
      "outputs": [
        {
          "output_type": "execute_result",
          "data": {
            "text/plain": [
              "Panasonic    62\n",
              "SAMSUNG      26\n",
              "Voltas       22\n",
              "Daikin       22\n",
              "Lloyd        17\n",
              "CARRIER      16\n",
              "Croma        14\n",
              "Blue         14\n",
              "LG           14\n",
              "Whirlpool    12\n",
              "Name: Brand_name, dtype: int64"
            ]
          },
          "metadata": {},
          "execution_count": 18
        }
      ]
    },
    {
      "cell_type": "markdown",
      "source": [
        "### 3. What are the top brands and what are their market shares?"
      ],
      "metadata": {
        "id": "02Ywm09eZxcY"
      }
    },
    {
      "cell_type": "code",
      "source": [
        "df_brand = df.groupby('Brand_name').size().sort_values(ascending=False)\n",
        "df_brand = df_brand.iloc[0:7] # keep the top 7"
      ],
      "metadata": {
        "id": "yOqnn2SAXLqi"
      },
      "execution_count": 19,
      "outputs": []
    },
    {
      "cell_type": "code",
      "source": [
        "df_brand.index.values"
      ],
      "metadata": {
        "colab": {
          "base_uri": "https://localhost:8080/"
        },
        "id": "IsZnvr51ZPDx",
        "outputId": "1622db12-662d-49eb-8ca0-c70799d7d3c4"
      },
      "execution_count": 20,
      "outputs": [
        {
          "output_type": "execute_result",
          "data": {
            "text/plain": [
              "array(['Panasonic', 'SAMSUNG', 'Daikin', 'Voltas', 'Lloyd', 'CARRIER',\n",
              "       'Croma'], dtype=object)"
            ]
          },
          "metadata": {},
          "execution_count": 20
        }
      ]
    },
    {
      "cell_type": "code",
      "source": [
        "plt.figure(figsize=(15,8))\n",
        "\n",
        "colors = sns.color_palette('pastel')\n",
        "labels = list(df_brand.index.values)\n",
        "plt.pie(df_brand, labels = labels, colors = colors, autopct = '%0.0f%%')\n",
        "plt.show()"
      ],
      "metadata": {
        "colab": {
          "base_uri": "https://localhost:8080/",
          "height": 0
        },
        "id": "U1Qmmk6vXvMJ",
        "outputId": "f88402ac-7533-4ff9-f09a-fa0b3dca8166"
      },
      "execution_count": 21,
      "outputs": [
        {
          "output_type": "display_data",
          "data": {
            "text/plain": [
              "<Figure size 1080x576 with 1 Axes>"
            ],
            "image/png": "[encoded data removed]"
          },
          "metadata": {}
        }
      ]
    },
    {
      "cell_type": "markdown",
      "source": [
        "We see Panasonic is the most popular brand in Indian (double market share from the second one), I did some research, found that Panasonic is one of the most technologically advanced AC brand. Samsung, voltas, and Daikin are following."
      ],
      "metadata": {
        "id": "x-Hm1PG7a0mg"
      }
    },
    {
      "cell_type": "markdown",
      "source": [
        "### 4. what is the average price in each brand?"
      ],
      "metadata": {
        "id": "5rQzdrKecFxz"
      }
    },
    {
      "cell_type": "markdown",
      "source": [
        "Due to insufficient data for small brands, I will only look at top 7 brands"
      ],
      "metadata": {
        "id": "DjsTHQ--cR0M"
      }
    },
    {
      "cell_type": "code",
      "source": [
        "df_meanp = df[df['Brand_name'].isin(labels)].groupby('Brand_name')['Price'].mean().round(2)\n",
        "df_meanp = df_meanp.to_frame().reset_index()"
      ],
      "metadata": {
        "id": "cLb2E7INcZeJ"
      },
      "execution_count": 22,
      "outputs": []
    },
    {
      "cell_type": "code",
      "source": [
        "df_meanp.sort_values(by=['Price'], inplace=True, ascending=False)"
      ],
      "metadata": {
        "id": "S-2bpyn6fjoe"
      },
      "execution_count": 23,
      "outputs": []
    },
    {
      "cell_type": "code",
      "source": [
        "plt. figure(figsize=(15,8))\n",
        "\n",
        "ax = sns.barplot(data=df_meanp, x='Brand_name', y='Price')\n",
        "plt.show()"
      ],
      "metadata": {
        "colab": {
          "base_uri": "https://localhost:8080/",
          "height": 0
        },
        "id": "bf_zL6pJeY1L",
        "outputId": "b47d3f14-8cb5-479d-fe08-2935d0b052c7"
      },
      "execution_count": 24,
      "outputs": [
        {
          "output_type": "display_data",
          "data": {
            "text/plain": [
              "<Figure size 1080x576 with 1 Axes>"
            ],
            "image/png": "[encoded data removed]"
          },
          "metadata": {
            "needs_background": "light"
          }
        }
      ]
    },
    {
      "cell_type": "markdown",
      "source": [
        "We see Daikin is the most expensive brand (above 500 dollars), and Croma is the least expensive brand (around 300 dollars). But as I said, product type is unkown, so this comparison may not be very meaningful."
      ],
      "metadata": {
        "id": "ervpaMUekGSw"
      }
    },
    {
      "cell_type": "markdown",
      "source": [
        "### 5. What is the avergae noise level for all ACs?"
      ],
      "metadata": {
        "id": "2hAKI1Kqb6JZ"
      }
    },
    {
      "cell_type": "markdown",
      "source": [
        "Price is a major concern, but how about Noise level?"
      ],
      "metadata": {
        "id": "NtsNhnKhcEL5"
      }
    },
    {
      "cell_type": "code",
      "source": [
        "df['Noise_level'].mean().astype(int)"
      ],
      "metadata": {
        "colab": {
          "base_uri": "https://localhost:8080/"
        },
        "id": "9BOYfS9tlCOp",
        "outputId": "ff9ef7dc-caa9-49f0-d12b-e666d6a2f80b"
      },
      "execution_count": 25,
      "outputs": [
        {
          "output_type": "execute_result",
          "data": {
            "text/plain": [
              "50"
            ]
          },
          "metadata": {},
          "execution_count": 25
        }
      ]
    },
    {
      "cell_type": "markdown",
      "source": [
        "How about Acs with price below 300 dollarsand above 300 dollars?"
      ],
      "metadata": {
        "id": "zVjQghEdlBzj"
      }
    },
    {
      "cell_type": "code",
      "source": [
        "df_c = df[df['Price'] <= 300]\n",
        "df_c['Noise_level'].count()"
      ],
      "metadata": {
        "colab": {
          "base_uri": "https://localhost:8080/"
        },
        "id": "zB3w-o2X4LXI",
        "outputId": "d0288b29-0fa6-4289-93b8-e3c280b0e7d9"
      },
      "execution_count": 26,
      "outputs": [
        {
          "output_type": "execute_result",
          "data": {
            "text/plain": [
              "0"
            ]
          },
          "metadata": {},
          "execution_count": 26
        }
      ]
    },
    {
      "cell_type": "code",
      "source": [
        "df_c = df[df['Price'] > 300]\n",
        "df_c['Noise_level'].mean().astype(int)"
      ],
      "metadata": {
        "colab": {
          "base_uri": "https://localhost:8080/"
        },
        "id": "4szF_nz3GaIH",
        "outputId": "60a2d339-2bcd-4303-c07a-fff49009ded4"
      },
      "execution_count": 27,
      "outputs": [
        {
          "output_type": "execute_result",
          "data": {
            "text/plain": [
              "50"
            ]
          },
          "metadata": {},
          "execution_count": 27
        }
      ]
    },
    {
      "cell_type": "code",
      "source": [
        "# see the noise level distribution for all ACs\n",
        "plt.figure(figsize=(15,8))\n",
        "\n",
        "df_n = df[df['Noise_level']<100] # exclude outliers\n",
        "ax = sns.histplot(df_n['Noise_level'])"
      ],
      "metadata": {
        "colab": {
          "base_uri": "https://localhost:8080/",
          "height": 0
        },
        "id": "zilSTva35eZE",
        "outputId": "262d915f-6c5f-4191-c398-95b14287f6a8"
      },
      "execution_count": 28,
      "outputs": [
        {
          "output_type": "display_data",
          "data": {
            "text/plain": [
              "<Figure size 1080x576 with 1 Axes>"
            ],
            "image/png": "[encoded data removed]"
          },
          "metadata": {
            "needs_background": "light"
          }
        }
      ]
    },
    {
      "cell_type": "markdown",
      "source": [
        "### 6. What is the correlation of noise level / Price to rating?"
      ],
      "metadata": {
        "id": "iQtXbI6xHTjq"
      }
    },
    {
      "cell_type": "code",
      "source": [
        "cor = df.iloc[0:8,:].corr()"
      ],
      "metadata": {
        "id": "LA_qDiZWbtzD"
      },
      "execution_count": 29,
      "outputs": []
    },
    {
      "cell_type": "code",
      "source": [
        "plt.figure(figsize=(15,8))\n",
        "ax = sns.heatmap(cor, annot=True)\n",
        "plt.show()"
      ],
      "metadata": {
        "colab": {
          "base_uri": "https://localhost:8080/",
          "height": 0
        },
        "id": "o2JySVtDHq_f",
        "outputId": "d05fa098-ae45-43c8-91aa-3cddb1500d3f"
      },
      "execution_count": 30,
      "outputs": [
        {
          "output_type": "display_data",
          "data": {
            "text/plain": [
              "<Figure size 1080x576 with 2 Axes>"
            ],
            "image/png": "[encoded data removed]"
          },
          "metadata": {
            "needs_background": "light"
          }
        }
      ]
    },
    {
      "cell_type": "markdown",
      "source": [
        "From the matrix, we see that Noise_lavel is the major concern for user ratings, and price is most related to number of ratings"
      ],
      "metadata": {
        "id": "xzUwUqe1aUCL"
      }
    },
    {
      "cell_type": "markdown",
      "source": [
        "### 7. what is the ditribution of rating numbers in each Star rating along with different price levels?"
      ],
      "metadata": {
        "id": "_HqbAIaaeakK"
      }
    },
    {
      "cell_type": "code",
      "source": [
        "#\n",
        "df_m = df[ 200 < df['Price']]\n",
        "df_m = df_m[df_m['Price'] < 800]\n",
        "# create intervals for AC prices\n",
        "df_m['price_level'] = pd.cut(df_m['Price'], 6, labels=['cheap', 'low', 'mid', 'high', 'very high', 'expensive'])"
      ],
      "metadata": {
        "id": "uGAhDWVcjqaQ"
      },
      "execution_count": 31,
      "outputs": []
    },
    {
      "cell_type": "code",
      "source": [
        "df_m.head()"
      ],
      "metadata": {
        "colab": {
          "base_uri": "https://localhost:8080/",
          "height": 0
        },
        "id": "U_uPu8gnpdvf",
        "outputId": "ffee77c9-e0d8-4bcb-9bed-d8faae1d1e1c"
      },
      "execution_count": 32,
      "outputs": [
        {
          "output_type": "execute_result",
          "data": {
            "text/plain": [
              "  Brand_name  TOn Condenser_Coil Power_Consumption RefrigeranT  Noise_level  \\\n",
              "0      Haier    1         Copper             704 W        R-32         26.0   \n",
              "1     Daikin  1.5          Alloy            1304 W        R-32         42.0   \n",
              "2      Croma  1.5         Copper            1570 W      R - 32         49.0   \n",
              "3  Panasonic    1         Copper            1095 W        R-32         45.0   \n",
              "4       MarQ   By         Copper        712.59 kWh        R-32         40.0   \n",
              "\n",
              "   STAR  Ratings    Price                                          Image_url  \\\n",
              "0   0.0        0  354.822  https://rukminim1.flixcart.com/image/312/312/l...   \n",
              "1   4.2        0  506.987  https://rukminim1.flixcart.com/image/312/312/l...   \n",
              "2   3.8       75  370.370  https://rukminim1.flixcart.com/image/312/312/l...   \n",
              "3   4.3    10156  428.987  https://rukminim1.flixcart.com/image/312/312/l...   \n",
              "4   4.0      642  357.370  https://rukminim1.flixcart.com/image/312/312/k...   \n",
              "\n",
              "  price_level  \n",
              "0       cheap  \n",
              "1         mid  \n",
              "2       cheap  \n",
              "3         low  \n",
              "4       cheap  "
            ],
            "text/html": [
              "\n",
              "  <div id=\"df-108c403f-37ed-4067-a0a3-113c4d21ae4d\">\n",
              "    <div class=\"colab-df-container\">\n",
              "      <div>\n",
              "<style scoped>\n",
              "    .dataframe tbody tr th:only-of-type {\n",
              "        vertical-align: middle;\n",
              "    }\n",
              "\n",
              "    .dataframe tbody tr th {\n",
              "        vertical-align: top;\n",
              "    }\n",
              "\n",
              "    .dataframe thead th {\n",
              "        text-align: right;\n",
              "    }\n",
              "</style>\n",
              "<table border=\"1\" class=\"dataframe\">\n",
              "  <thead>\n",
              "    <tr style=\"text-align: right;\">\n",
              "      <th></th>\n",
              "      <th>Brand_name</th>\n",
              "      <th>TOn</th>\n",
              "      <th>Condenser_Coil</th>\n",
              "      <th>Power_Consumption</th>\n",
              "      <th>RefrigeranT</th>\n",
              "      <th>Noise_level</th>\n",
              "      <th>STAR</th>\n",
              "      <th>Ratings</th>\n",
              "      <th>Price</th>\n",
              "      <th>Image_url</th>\n",
              "      <th>price_level</th>\n",
              "    </tr>\n",
              "  </thead>\n",
              "  <tbody>\n",
              "    <tr>\n",
              "      <th>0</th>\n",
              "      <td>Haier</td>\n",
              "      <td>1</td>\n",
              "      <td>Copper</td>\n",
              "      <td>704 W</td>\n",
              "      <td>R-32</td>\n",
              "      <td>26.0</td>\n",
              "      <td>0.0</td>\n",
              "      <td>0</td>\n",
              "      <td>354.822</td>\n",
              "      <td>https://rukminim1.flixcart.com/image/312/312/l...</td>\n",
              "      <td>cheap</td>\n",
              "    </tr>\n",
              "    <tr>\n",
              "      <th>1</th>\n",
              "      <td>Daikin</td>\n",
              "      <td>1.5</td>\n",
              "      <td>Alloy</td>\n",
              "      <td>1304 W</td>\n",
              "      <td>R-32</td>\n",
              "      <td>42.0</td>\n",
              "      <td>4.2</td>\n",
              "      <td>0</td>\n",
              "      <td>506.987</td>\n",
              "      <td>https://rukminim1.flixcart.com/image/312/312/l...</td>\n",
              "      <td>mid</td>\n",
              "    </tr>\n",
              "    <tr>\n",
              "      <th>2</th>\n",
              "      <td>Croma</td>\n",
              "      <td>1.5</td>\n",
              "      <td>Copper</td>\n",
              "      <td>1570 W</td>\n",
              "      <td>R - 32</td>\n",
              "      <td>49.0</td>\n",
              "      <td>3.8</td>\n",
              "      <td>75</td>\n",
              "      <td>370.370</td>\n",
              "      <td>https://rukminim1.flixcart.com/image/312/312/l...</td>\n",
              "      <td>cheap</td>\n",
              "    </tr>\n",
              "    <tr>\n",
              "      <th>3</th>\n",
              "      <td>Panasonic</td>\n",
              "      <td>1</td>\n",
              "      <td>Copper</td>\n",
              "      <td>1095 W</td>\n",
              "      <td>R-32</td>\n",
              "      <td>45.0</td>\n",
              "      <td>4.3</td>\n",
              "      <td>10156</td>\n",
              "      <td>428.987</td>\n",
              "      <td>https://rukminim1.flixcart.com/image/312/312/l...</td>\n",
              "      <td>low</td>\n",
              "    </tr>\n",
              "    <tr>\n",
              "      <th>4</th>\n",
              "      <td>MarQ</td>\n",
              "      <td>By</td>\n",
              "      <td>Copper</td>\n",
              "      <td>712.59 kWh</td>\n",
              "      <td>R-32</td>\n",
              "      <td>40.0</td>\n",
              "      <td>4.0</td>\n",
              "      <td>642</td>\n",
              "      <td>357.370</td>\n",
              "      <td>https://rukminim1.flixcart.com/image/312/312/k...</td>\n",
              "      <td>cheap</td>\n",
              "    </tr>\n",
              "  </tbody>\n",
              "</table>\n",
              "</div>\n",
              "      <button class=\"colab-df-convert\" onclick=\"convertToInteractive('df-108c403f-37ed-4067-a0a3-113c4d21ae4d')\"\n",
              "              title=\"Convert this dataframe to an interactive table.\"\n",
              "              style=\"display:none;\">\n",
              "        \n",
              "  <svg xmlns=\"http://www.w3.org/2000/svg\" height=\"24px\"viewBox=\"0 0 24 24\"\n",
              "       width=\"24px\">\n",
              "    <path d=\"M0 0h24v24H0V0z\" fill=\"none\"/>\n",
              "    <path d=\"M18.56 5.44l.94 2.06.94-2.06 2.06-.94-2.06-.94-.94-2.06-.94 2.06-2.06.94zm-11 1L8.5 8.5l.94-2.06 2.06-.94-2.06-.94L8.5 2.5l-.94 2.06-2.06.94zm10 10l.94 2.06.94-2.06 2.06-.94-2.06-.94-.94-2.06-.94 2.06-2.06.94z\"/><path d=\"M17.41 7.96l-1.37-1.37c-.4-.4-.92-.59-1.43-.59-.52 0-1.04.2-1.43.59L10.3 9.45l-7.72 7.72c-.78.78-.78 2.05 0 2.83L4 21.41c.39.39.9.59 1.41.59.51 0 1.02-.2 1.41-.59l7.78-7.78 2.81-2.81c.8-.78.8-2.07 0-2.86zM5.41 20L4 18.59l7.72-7.72 1.47 1.35L5.41 20z\"/>\n",
              "  </svg>\n",
              "      </button>\n",
              "      \n",
              "  <style>\n",
              "    .colab-df-container {\n",
              "      display:flex;\n",
              "      flex-wrap:wrap;\n",
              "      gap: 12px;\n",
              "    }\n",
              "\n",
              "    .colab-df-convert {\n",
              "      background-color: #E8F0FE;\n",
              "      border: none;\n",
              "      border-radius: 50%;\n",
              "      cursor: pointer;\n",
              "      display: none;\n",
              "      fill: #1967D2;\n",
              "      height: 32px;\n",
              "      padding: 0 0 0 0;\n",
              "      width: 32px;\n",
              "    }\n",
              "\n",
              "    .colab-df-convert:hover {\n",
              "      background-color: #E2EBFA;\n",
              "      box-shadow: 0px 1px 2px rgba(60, 64, 67, 0.3), 0px 1px 3px 1px rgba(60, 64, 67, 0.15);\n",
              "      fill: #174EA6;\n",
              "    }\n",
              "\n",
              "    [theme=dark] .colab-df-convert {\n",
              "      background-color: #3B4455;\n",
              "      fill: #D2E3FC;\n",
              "    }\n",
              "\n",
              "    [theme=dark] .colab-df-convert:hover {\n",
              "      background-color: #434B5C;\n",
              "      box-shadow: 0px 1px 3px 1px rgba(0, 0, 0, 0.15);\n",
              "      filter: drop-shadow(0px 1px 2px rgba(0, 0, 0, 0.3));\n",
              "      fill: #FFFFFF;\n",
              "    }\n",
              "  </style>\n",
              "\n",
              "      <script>\n",
              "        const buttonEl =\n",
              "          document.querySelector('#df-108c403f-37ed-4067-a0a3-113c4d21ae4d button.colab-df-convert');\n",
              "        buttonEl.style.display =\n",
              "          google.colab.kernel.accessAllowed ? 'block' : 'none';\n",
              "\n",
              "        async function convertToInteractive(key) {\n",
              "          const element = document.querySelector('#df-108c403f-37ed-4067-a0a3-113c4d21ae4d');\n",
              "          const dataTable =\n",
              "            await google.colab.kernel.invokeFunction('convertToInteractive',\n",
              "                                                     [key], {});\n",
              "          if (!dataTable) return;\n",
              "\n",
              "          const docLinkHtml = 'Like what you see? Visit the ' +\n",
              "            '<a target=\"_blank\" href=https://colab.research.google.com/notebooks/data_table.ipynb>data table notebook</a>'\n",
              "            + ' to learn more about interactive tables.';\n",
              "          element.innerHTML = '';\n",
              "          dataTable['output_type'] = 'display_data';\n",
              "          await google.colab.output.renderOutput(dataTable, element);\n",
              "          const docLink = document.createElement('div');\n",
              "          docLink.innerHTML = docLinkHtml;\n",
              "          element.appendChild(docLink);\n",
              "        }\n",
              "      </script>\n",
              "    </div>\n",
              "  </div>\n",
              "  "
            ]
          },
          "metadata": {},
          "execution_count": 32
        }
      ]
    },
    {
      "cell_type": "code",
      "source": [
        "plt.figure(figsize=(20,13))\n",
        "ax = sns.barplot(data=df_m, x='STAR', y='Ratings', hue='price_level', ci = None)"
      ],
      "metadata": {
        "colab": {
          "base_uri": "https://localhost:8080/",
          "height": 0
        },
        "id": "pJOUnVpwewTe",
        "outputId": "e153bc46-c7a4-49b8-e530-58bbb4cd556c"
      },
      "execution_count": 33,
      "outputs": [
        {
          "output_type": "display_data",
          "data": {
            "text/plain": [
              "<Figure size 1440x936 with 1 Axes>"
            ],
            "image/png": "[encoded data removed]"
          },
          "metadata": {
            "needs_background": "light"
          }
        }
      ]
    },
    {
      "cell_type": "markdown",
      "source": [
        "We see most ratings from the price interval (400, 600), most products are rated to be 4.2 or 4.3"
      ],
      "metadata": {
        "id": "_GEYIvQki6jg"
      }
    },
    {
      "cell_type": "markdown",
      "source": [
        "### 8. Which price level has the highest rating? And which price level has the most ratings?"
      ],
      "metadata": {
        "id": "dGc_5bidvhMz"
      }
    },
    {
      "cell_type": "code",
      "source": [
        "# for numbers of rating\n",
        "df_m.groupby('price_level')['Ratings'].agg(['mean']).round(2).sort_values('mean',ascending = False)"
      ],
      "metadata": {
        "colab": {
          "base_uri": "https://localhost:8080/",
          "height": 0
        },
        "id": "Tk7p84MWh6T4",
        "outputId": "8f8864bd-31c2-4b83-d11e-88cc0798cc0b"
      },
      "execution_count": 34,
      "outputs": [
        {
          "output_type": "execute_result",
          "data": {
            "text/plain": [
              "                mean\n",
              "price_level         \n",
              "low          4966.75\n",
              "high         4403.93\n",
              "mid          2476.69\n",
              "very high    1526.56\n",
              "cheap         964.32\n",
              "expensive       0.00"
            ],
            "text/html": [
              "\n",
              "  <div id=\"df-327e4e1e-f9d1-4489-99a5-5c49cf7e3861\">\n",
              "    <div class=\"colab-df-container\">\n",
              "      <div>\n",
              "<style scoped>\n",
              "    .dataframe tbody tr th:only-of-type {\n",
              "        vertical-align: middle;\n",
              "    }\n",
              "\n",
              "    .dataframe tbody tr th {\n",
              "        vertical-align: top;\n",
              "    }\n",
              "\n",
              "    .dataframe thead th {\n",
              "        text-align: right;\n",
              "    }\n",
              "</style>\n",
              "<table border=\"1\" class=\"dataframe\">\n",
              "  <thead>\n",
              "    <tr style=\"text-align: right;\">\n",
              "      <th></th>\n",
              "      <th>mean</th>\n",
              "    </tr>\n",
              "    <tr>\n",
              "      <th>price_level</th>\n",
              "      <th></th>\n",
              "    </tr>\n",
              "  </thead>\n",
              "  <tbody>\n",
              "    <tr>\n",
              "      <th>low</th>\n",
              "      <td>4966.75</td>\n",
              "    </tr>\n",
              "    <tr>\n",
              "      <th>high</th>\n",
              "      <td>4403.93</td>\n",
              "    </tr>\n",
              "    <tr>\n",
              "      <th>mid</th>\n",
              "      <td>2476.69</td>\n",
              "    </tr>\n",
              "    <tr>\n",
              "      <th>very high</th>\n",
              "      <td>1526.56</td>\n",
              "    </tr>\n",
              "    <tr>\n",
              "      <th>cheap</th>\n",
              "      <td>964.32</td>\n",
              "    </tr>\n",
              "    <tr>\n",
              "      <th>expensive</th>\n",
              "      <td>0.00</td>\n",
              "    </tr>\n",
              "  </tbody>\n",
              "</table>\n",
              "</div>\n",
              "      <button class=\"colab-df-convert\" onclick=\"convertToInteractive('df-327e4e1e-f9d1-4489-99a5-5c49cf7e3861')\"\n",
              "              title=\"Convert this dataframe to an interactive table.\"\n",
              "              style=\"display:none;\">\n",
              "        \n",
              "  <svg xmlns=\"http://www.w3.org/2000/svg\" height=\"24px\"viewBox=\"0 0 24 24\"\n",
              "       width=\"24px\">\n",
              "    <path d=\"M0 0h24v24H0V0z\" fill=\"none\"/>\n",
              "    <path d=\"M18.56 5.44l.94 2.06.94-2.06 2.06-.94-2.06-.94-.94-2.06-.94 2.06-2.06.94zm-11 1L8.5 8.5l.94-2.06 2.06-.94-2.06-.94L8.5 2.5l-.94 2.06-2.06.94zm10 10l.94 2.06.94-2.06 2.06-.94-2.06-.94-.94-2.06-.94 2.06-2.06.94z\"/><path d=\"M17.41 7.96l-1.37-1.37c-.4-.4-.92-.59-1.43-.59-.52 0-1.04.2-1.43.59L10.3 9.45l-7.72 7.72c-.78.78-.78 2.05 0 2.83L4 21.41c.39.39.9.59 1.41.59.51 0 1.02-.2 1.41-.59l7.78-7.78 2.81-2.81c.8-.78.8-2.07 0-2.86zM5.41 20L4 18.59l7.72-7.72 1.47 1.35L5.41 20z\"/>\n",
              "  </svg>\n",
              "      </button>\n",
              "      \n",
              "  <style>\n",
              "    .colab-df-container {\n",
              "      display:flex;\n",
              "      flex-wrap:wrap;\n",
              "      gap: 12px;\n",
              "    }\n",
              "\n",
              "    .colab-df-convert {\n",
              "      background-color: #E8F0FE;\n",
              "      border: none;\n",
              "      border-radius: 50%;\n",
              "      cursor: pointer;\n",
              "      display: none;\n",
              "      fill: #1967D2;\n",
              "      height: 32px;\n",
              "      padding: 0 0 0 0;\n",
              "      width: 32px;\n",
              "    }\n",
              "\n",
              "    .colab-df-convert:hover {\n",
              "      background-color: #E2EBFA;\n",
              "      box-shadow: 0px 1px 2px rgba(60, 64, 67, 0.3), 0px 1px 3px 1px rgba(60, 64, 67, 0.15);\n",
              "      fill: #174EA6;\n",
              "    }\n",
              "\n",
              "    [theme=dark] .colab-df-convert {\n",
              "      background-color: #3B4455;\n",
              "      fill: #D2E3FC;\n",
              "    }\n",
              "\n",
              "    [theme=dark] .colab-df-convert:hover {\n",
              "      background-color: #434B5C;\n",
              "      box-shadow: 0px 1px 3px 1px rgba(0, 0, 0, 0.15);\n",
              "      filter: drop-shadow(0px 1px 2px rgba(0, 0, 0, 0.3));\n",
              "      fill: #FFFFFF;\n",
              "    }\n",
              "  </style>\n",
              "\n",
              "      <script>\n",
              "        const buttonEl =\n",
              "          document.querySelector('#df-327e4e1e-f9d1-4489-99a5-5c49cf7e3861 button.colab-df-convert');\n",
              "        buttonEl.style.display =\n",
              "          google.colab.kernel.accessAllowed ? 'block' : 'none';\n",
              "\n",
              "        async function convertToInteractive(key) {\n",
              "          const element = document.querySelector('#df-327e4e1e-f9d1-4489-99a5-5c49cf7e3861');\n",
              "          const dataTable =\n",
              "            await google.colab.kernel.invokeFunction('convertToInteractive',\n",
              "                                                     [key], {});\n",
              "          if (!dataTable) return;\n",
              "\n",
              "          const docLinkHtml = 'Like what you see? Visit the ' +\n",
              "            '<a target=\"_blank\" href=https://colab.research.google.com/notebooks/data_table.ipynb>data table notebook</a>'\n",
              "            + ' to learn more about interactive tables.';\n",
              "          element.innerHTML = '';\n",
              "          dataTable['output_type'] = 'display_data';\n",
              "          await google.colab.output.renderOutput(dataTable, element);\n",
              "          const docLink = document.createElement('div');\n",
              "          docLink.innerHTML = docLinkHtml;\n",
              "          element.appendChild(docLink);\n",
              "        }\n",
              "      </script>\n",
              "    </div>\n",
              "  </div>\n",
              "  "
            ]
          },
          "metadata": {},
          "execution_count": 34
        }
      ]
    },
    {
      "cell_type": "code",
      "source": [
        "# for highest rating\n",
        "df_m.groupby('price_level')['STAR'].agg(['mean']).round(2).sort_values('mean',ascending = False)"
      ],
      "metadata": {
        "colab": {
          "base_uri": "https://localhost:8080/",
          "height": 0
        },
        "id": "gRIOqfXcv-wg",
        "outputId": "8e702918-7b2c-4eab-a5d3-f67a11dd6051"
      },
      "execution_count": 35,
      "outputs": [
        {
          "output_type": "execute_result",
          "data": {
            "text/plain": [
              "             mean\n",
              "price_level      \n",
              "cheap        3.86\n",
              "low          3.71\n",
              "high         3.65\n",
              "mid          3.12\n",
              "very high    2.32\n",
              "expensive    1.47"
            ],
            "text/html": [
              "\n",
              "  <div id=\"df-4d84e149-51ab-4bb0-82c5-ca64dd110658\">\n",
              "    <div class=\"colab-df-container\">\n",
              "      <div>\n",
              "<style scoped>\n",
              "    .dataframe tbody tr th:only-of-type {\n",
              "        vertical-align: middle;\n",
              "    }\n",
              "\n",
              "    .dataframe tbody tr th {\n",
              "        vertical-align: top;\n",
              "    }\n",
              "\n",
              "    .dataframe thead th {\n",
              "        text-align: right;\n",
              "    }\n",
              "</style>\n",
              "<table border=\"1\" class=\"dataframe\">\n",
              "  <thead>\n",
              "    <tr style=\"text-align: right;\">\n",
              "      <th></th>\n",
              "      <th>mean</th>\n",
              "    </tr>\n",
              "    <tr>\n",
              "      <th>price_level</th>\n",
              "      <th></th>\n",
              "    </tr>\n",
              "  </thead>\n",
              "  <tbody>\n",
              "    <tr>\n",
              "      <th>cheap</th>\n",
              "      <td>3.86</td>\n",
              "    </tr>\n",
              "    <tr>\n",
              "      <th>low</th>\n",
              "      <td>3.71</td>\n",
              "    </tr>\n",
              "    <tr>\n",
              "      <th>high</th>\n",
              "      <td>3.65</td>\n",
              "    </tr>\n",
              "    <tr>\n",
              "      <th>mid</th>\n",
              "      <td>3.12</td>\n",
              "    </tr>\n",
              "    <tr>\n",
              "      <th>very high</th>\n",
              "      <td>2.32</td>\n",
              "    </tr>\n",
              "    <tr>\n",
              "      <th>expensive</th>\n",
              "      <td>1.47</td>\n",
              "    </tr>\n",
              "  </tbody>\n",
              "</table>\n",
              "</div>\n",
              "      <button class=\"colab-df-convert\" onclick=\"convertToInteractive('df-4d84e149-51ab-4bb0-82c5-ca64dd110658')\"\n",
              "              title=\"Convert this dataframe to an interactive table.\"\n",
              "              style=\"display:none;\">\n",
              "        \n",
              "  <svg xmlns=\"http://www.w3.org/2000/svg\" height=\"24px\"viewBox=\"0 0 24 24\"\n",
              "       width=\"24px\">\n",
              "    <path d=\"M0 0h24v24H0V0z\" fill=\"none\"/>\n",
              "    <path d=\"M18.56 5.44l.94 2.06.94-2.06 2.06-.94-2.06-.94-.94-2.06-.94 2.06-2.06.94zm-11 1L8.5 8.5l.94-2.06 2.06-.94-2.06-.94L8.5 2.5l-.94 2.06-2.06.94zm10 10l.94 2.06.94-2.06 2.06-.94-2.06-.94-.94-2.06-.94 2.06-2.06.94z\"/><path d=\"M17.41 7.96l-1.37-1.37c-.4-.4-.92-.59-1.43-.59-.52 0-1.04.2-1.43.59L10.3 9.45l-7.72 7.72c-.78.78-.78 2.05 0 2.83L4 21.41c.39.39.9.59 1.41.59.51 0 1.02-.2 1.41-.59l7.78-7.78 2.81-2.81c.8-.78.8-2.07 0-2.86zM5.41 20L4 18.59l7.72-7.72 1.47 1.35L5.41 20z\"/>\n",
              "  </svg>\n",
              "      </button>\n",
              "      \n",
              "  <style>\n",
              "    .colab-df-container {\n",
              "      display:flex;\n",
              "      flex-wrap:wrap;\n",
              "      gap: 12px;\n",
              "    }\n",
              "\n",
              "    .colab-df-convert {\n",
              "      background-color: #E8F0FE;\n",
              "      border: none;\n",
              "      border-radius: 50%;\n",
              "      cursor: pointer;\n",
              "      display: none;\n",
              "      fill: #1967D2;\n",
              "      height: 32px;\n",
              "      padding: 0 0 0 0;\n",
              "      width: 32px;\n",
              "    }\n",
              "\n",
              "    .colab-df-convert:hover {\n",
              "      background-color: #E2EBFA;\n",
              "      box-shadow: 0px 1px 2px rgba(60, 64, 67, 0.3), 0px 1px 3px 1px rgba(60, 64, 67, 0.15);\n",
              "      fill: #174EA6;\n",
              "    }\n",
              "\n",
              "    [theme=dark] .colab-df-convert {\n",
              "      background-color: #3B4455;\n",
              "      fill: #D2E3FC;\n",
              "    }\n",
              "\n",
              "    [theme=dark] .colab-df-convert:hover {\n",
              "      background-color: #434B5C;\n",
              "      box-shadow: 0px 1px 3px 1px rgba(0, 0, 0, 0.15);\n",
              "      filter: drop-shadow(0px 1px 2px rgba(0, 0, 0, 0.3));\n",
              "      fill: #FFFFFF;\n",
              "    }\n",
              "  </style>\n",
              "\n",
              "      <script>\n",
              "        const buttonEl =\n",
              "          document.querySelector('#df-4d84e149-51ab-4bb0-82c5-ca64dd110658 button.colab-df-convert');\n",
              "        buttonEl.style.display =\n",
              "          google.colab.kernel.accessAllowed ? 'block' : 'none';\n",
              "\n",
              "        async function convertToInteractive(key) {\n",
              "          const element = document.querySelector('#df-4d84e149-51ab-4bb0-82c5-ca64dd110658');\n",
              "          const dataTable =\n",
              "            await google.colab.kernel.invokeFunction('convertToInteractive',\n",
              "                                                     [key], {});\n",
              "          if (!dataTable) return;\n",
              "\n",
              "          const docLinkHtml = 'Like what you see? Visit the ' +\n",
              "            '<a target=\"_blank\" href=https://colab.research.google.com/notebooks/data_table.ipynb>data table notebook</a>'\n",
              "            + ' to learn more about interactive tables.';\n",
              "          element.innerHTML = '';\n",
              "          dataTable['output_type'] = 'display_data';\n",
              "          await google.colab.output.renderOutput(dataTable, element);\n",
              "          const docLink = document.createElement('div');\n",
              "          docLink.innerHTML = docLinkHtml;\n",
              "          element.appendChild(docLink);\n",
              "        }\n",
              "      </script>\n",
              "    </div>\n",
              "  </div>\n",
              "  "
            ]
          },
          "metadata": {},
          "execution_count": 35
        }
      ]
    },
    {
      "cell_type": "markdown",
      "source": [
        "We found that low and mid price products have most ratings. Cheap and mid products are favorated by customers"
      ],
      "metadata": {
        "id": "fSAjIIloxept"
      }
    },
    {
      "cell_type": "markdown",
      "source": [
        "### 9. What condenser coil material do different products use?"
      ],
      "metadata": {
        "id": "nSXtQsM6yCie"
      }
    },
    {
      "cell_type": "code",
      "source": [
        "# what are the unique values\n",
        "df['Condenser_Coil'].unique()"
      ],
      "metadata": {
        "colab": {
          "base_uri": "https://localhost:8080/"
        },
        "id": "Y-THva3-xtOe",
        "outputId": "db9a37ad-6889-43ab-d45d-81288d929c43"
      },
      "execution_count": 36,
      "outputs": [
        {
          "output_type": "execute_result",
          "data": {
            "text/plain": [
              "array(['Copper', 'Alloy', 'Aluminium'], dtype=object)"
            ]
          },
          "metadata": {},
          "execution_count": 36
        }
      ]
    },
    {
      "cell_type": "code",
      "source": [
        "plt.figure(figsize=(15,8))\n",
        "ax = sns.histplot(data=df_m, x='Condenser_Coil', hue ='price_level')"
      ],
      "metadata": {
        "colab": {
          "base_uri": "https://localhost:8080/",
          "height": 0
        },
        "id": "fvaspPPPyPEo",
        "outputId": "56d17837-047a-434d-ae59-c6f3f0d40f97"
      },
      "execution_count": 37,
      "outputs": [
        {
          "output_type": "display_data",
          "data": {
            "text/plain": [
              "<Figure size 1080x576 with 1 Axes>"
            ],
            "image/png": "[encoded data removed]"
          },
          "metadata": {
            "needs_background": "light"
          }
        }
      ]
    },
    {
      "cell_type": "markdown",
      "source": [
        "We see most ACs use Copper"
      ],
      "metadata": {
        "id": "mTNywhlvzcsq"
      }
    },
    {
      "cell_type": "markdown",
      "source": [
        "### 10. how does power consumption relate to product in different price levels?"
      ],
      "metadata": {
        "id": "HSCoGGOuzwH_"
      }
    },
    {
      "cell_type": "code",
      "source": [
        "# a function to change the unit\n",
        "def unit(x):\n",
        "  x = str(x)\n",
        "  if 'kWh' in x:\n",
        "    x = x.replace('kWh', '')\n",
        "    x = float(x.strip())\n",
        "    return x * 1000\n",
        "  elif 'W' in x:\n",
        "    x = x.replace('W', '')\n",
        "    x = float(x.strip())\n",
        "    return x"
      ],
      "metadata": {
        "id": "EJGlwwyubku-"
      },
      "execution_count": 38,
      "outputs": []
    },
    {
      "cell_type": "code",
      "source": [
        "df_m['Power_Consumption (W)'] = df_m['Power_Consumption'].apply(unit) # change unit\n",
        "df_m = df_m.drop('Power_Consumption', axis=1)"
      ],
      "metadata": {
        "id": "YTeTIr3-Z99F"
      },
      "execution_count": 39,
      "outputs": []
    },
    {
      "cell_type": "code",
      "source": [
        "df_m.head()"
      ],
      "metadata": {
        "colab": {
          "base_uri": "https://localhost:8080/",
          "height": 0
        },
        "id": "iUhJEsBoapc3",
        "outputId": "d5a49935-095e-49d2-c2cf-ca6b94fd1569"
      },
      "execution_count": 40,
      "outputs": [
        {
          "output_type": "execute_result",
          "data": {
            "text/plain": [
              "  Brand_name  TOn Condenser_Coil RefrigeranT  Noise_level  STAR  Ratings  \\\n",
              "0      Haier    1         Copper        R-32         26.0   0.0        0   \n",
              "1     Daikin  1.5          Alloy        R-32         42.0   4.2        0   \n",
              "2      Croma  1.5         Copper      R - 32         49.0   3.8       75   \n",
              "3  Panasonic    1         Copper        R-32         45.0   4.3    10156   \n",
              "4       MarQ   By         Copper        R-32         40.0   4.0      642   \n",
              "\n",
              "     Price                                          Image_url price_level  \\\n",
              "0  354.822  https://rukminim1.flixcart.com/image/312/312/l...       cheap   \n",
              "1  506.987  https://rukminim1.flixcart.com/image/312/312/l...         mid   \n",
              "2  370.370  https://rukminim1.flixcart.com/image/312/312/l...       cheap   \n",
              "3  428.987  https://rukminim1.flixcart.com/image/312/312/l...         low   \n",
              "4  357.370  https://rukminim1.flixcart.com/image/312/312/k...       cheap   \n",
              "\n",
              "   Power_Consumption (W)  \n",
              "0                  704.0  \n",
              "1                 1304.0  \n",
              "2                 1570.0  \n",
              "3                 1095.0  \n",
              "4               712590.0  "
            ],
            "text/html": [
              "\n",
              "  <div id=\"df-df33e9ef-4ccf-4273-a079-bb8a6ab359bc\">\n",
              "    <div class=\"colab-df-container\">\n",
              "      <div>\n",
              "<style scoped>\n",
              "    .dataframe tbody tr th:only-of-type {\n",
              "        vertical-align: middle;\n",
              "    }\n",
              "\n",
              "    .dataframe tbody tr th {\n",
              "        vertical-align: top;\n",
              "    }\n",
              "\n",
              "    .dataframe thead th {\n",
              "        text-align: right;\n",
              "    }\n",
              "</style>\n",
              "<table border=\"1\" class=\"dataframe\">\n",
              "  <thead>\n",
              "    <tr style=\"text-align: right;\">\n",
              "      <th></th>\n",
              "      <th>Brand_name</th>\n",
              "      <th>TOn</th>\n",
              "      <th>Condenser_Coil</th>\n",
              "      <th>RefrigeranT</th>\n",
              "      <th>Noise_level</th>\n",
              "      <th>STAR</th>\n",
              "      <th>Ratings</th>\n",
              "      <th>Price</th>\n",
              "      <th>Image_url</th>\n",
              "      <th>price_level</th>\n",
              "      <th>Power_Consumption (W)</th>\n",
              "    </tr>\n",
              "  </thead>\n",
              "  <tbody>\n",
              "    <tr>\n",
              "      <th>0</th>\n",
              "      <td>Haier</td>\n",
              "      <td>1</td>\n",
              "      <td>Copper</td>\n",
              "      <td>R-32</td>\n",
              "      <td>26.0</td>\n",
              "      <td>0.0</td>\n",
              "      <td>0</td>\n",
              "      <td>354.822</td>\n",
              "      <td>https://rukminim1.flixcart.com/image/312/312/l...</td>\n",
              "      <td>cheap</td>\n",
              "      <td>704.0</td>\n",
              "    </tr>\n",
              "    <tr>\n",
              "      <th>1</th>\n",
              "      <td>Daikin</td>\n",
              "      <td>1.5</td>\n",
              "      <td>Alloy</td>\n",
              "      <td>R-32</td>\n",
              "      <td>42.0</td>\n",
              "      <td>4.2</td>\n",
              "      <td>0</td>\n",
              "      <td>506.987</td>\n",
              "      <td>https://rukminim1.flixcart.com/image/312/312/l...</td>\n",
              "      <td>mid</td>\n",
              "      <td>1304.0</td>\n",
              "    </tr>\n",
              "    <tr>\n",
              "      <th>2</th>\n",
              "      <td>Croma</td>\n",
              "      <td>1.5</td>\n",
              "      <td>Copper</td>\n",
              "      <td>R - 32</td>\n",
              "      <td>49.0</td>\n",
              "      <td>3.8</td>\n",
              "      <td>75</td>\n",
              "      <td>370.370</td>\n",
              "      <td>https://rukminim1.flixcart.com/image/312/312/l...</td>\n",
              "      <td>cheap</td>\n",
              "      <td>1570.0</td>\n",
              "    </tr>\n",
              "    <tr>\n",
              "      <th>3</th>\n",
              "      <td>Panasonic</td>\n",
              "      <td>1</td>\n",
              "      <td>Copper</td>\n",
              "      <td>R-32</td>\n",
              "      <td>45.0</td>\n",
              "      <td>4.3</td>\n",
              "      <td>10156</td>\n",
              "      <td>428.987</td>\n",
              "      <td>https://rukminim1.flixcart.com/image/312/312/l...</td>\n",
              "      <td>low</td>\n",
              "      <td>1095.0</td>\n",
              "    </tr>\n",
              "    <tr>\n",
              "      <th>4</th>\n",
              "      <td>MarQ</td>\n",
              "      <td>By</td>\n",
              "      <td>Copper</td>\n",
              "      <td>R-32</td>\n",
              "      <td>40.0</td>\n",
              "      <td>4.0</td>\n",
              "      <td>642</td>\n",
              "      <td>357.370</td>\n",
              "      <td>https://rukminim1.flixcart.com/image/312/312/k...</td>\n",
              "      <td>cheap</td>\n",
              "      <td>712590.0</td>\n",
              "    </tr>\n",
              "  </tbody>\n",
              "</table>\n",
              "</div>\n",
              "      <button class=\"colab-df-convert\" onclick=\"convertToInteractive('df-df33e9ef-4ccf-4273-a079-bb8a6ab359bc')\"\n",
              "              title=\"Convert this dataframe to an interactive table.\"\n",
              "              style=\"display:none;\">\n",
              "        \n",
              "  <svg xmlns=\"http://www.w3.org/2000/svg\" height=\"24px\"viewBox=\"0 0 24 24\"\n",
              "       width=\"24px\">\n",
              "    <path d=\"M0 0h24v24H0V0z\" fill=\"none\"/>\n",
              "    <path d=\"M18.56 5.44l.94 2.06.94-2.06 2.06-.94-2.06-.94-.94-2.06-.94 2.06-2.06.94zm-11 1L8.5 8.5l.94-2.06 2.06-.94-2.06-.94L8.5 2.5l-.94 2.06-2.06.94zm10 10l.94 2.06.94-2.06 2.06-.94-2.06-.94-.94-2.06-.94 2.06-2.06.94z\"/><path d=\"M17.41 7.96l-1.37-1.37c-.4-.4-.92-.59-1.43-.59-.52 0-1.04.2-1.43.59L10.3 9.45l-7.72 7.72c-.78.78-.78 2.05 0 2.83L4 21.41c.39.39.9.59 1.41.59.51 0 1.02-.2 1.41-.59l7.78-7.78 2.81-2.81c.8-.78.8-2.07 0-2.86zM5.41 20L4 18.59l7.72-7.72 1.47 1.35L5.41 20z\"/>\n",
              "  </svg>\n",
              "      </button>\n",
              "      \n",
              "  <style>\n",
              "    .colab-df-container {\n",
              "      display:flex;\n",
              "      flex-wrap:wrap;\n",
              "      gap: 12px;\n",
              "    }\n",
              "\n",
              "    .colab-df-convert {\n",
              "      background-color: #E8F0FE;\n",
              "      border: none;\n",
              "      border-radius: 50%;\n",
              "      cursor: pointer;\n",
              "      display: none;\n",
              "      fill: #1967D2;\n",
              "      height: 32px;\n",
              "      padding: 0 0 0 0;\n",
              "      width: 32px;\n",
              "    }\n",
              "\n",
              "    .colab-df-convert:hover {\n",
              "      background-color: #E2EBFA;\n",
              "      box-shadow: 0px 1px 2px rgba(60, 64, 67, 0.3), 0px 1px 3px 1px rgba(60, 64, 67, 0.15);\n",
              "      fill: #174EA6;\n",
              "    }\n",
              "\n",
              "    [theme=dark] .colab-df-convert {\n",
              "      background-color: #3B4455;\n",
              "      fill: #D2E3FC;\n",
              "    }\n",
              "\n",
              "    [theme=dark] .colab-df-convert:hover {\n",
              "      background-color: #434B5C;\n",
              "      box-shadow: 0px 1px 3px 1px rgba(0, 0, 0, 0.15);\n",
              "      filter: drop-shadow(0px 1px 2px rgba(0, 0, 0, 0.3));\n",
              "      fill: #FFFFFF;\n",
              "    }\n",
              "  </style>\n",
              "\n",
              "      <script>\n",
              "        const buttonEl =\n",
              "          document.querySelector('#df-df33e9ef-4ccf-4273-a079-bb8a6ab359bc button.colab-df-convert');\n",
              "        buttonEl.style.display =\n",
              "          google.colab.kernel.accessAllowed ? 'block' : 'none';\n",
              "\n",
              "        async function convertToInteractive(key) {\n",
              "          const element = document.querySelector('#df-df33e9ef-4ccf-4273-a079-bb8a6ab359bc');\n",
              "          const dataTable =\n",
              "            await google.colab.kernel.invokeFunction('convertToInteractive',\n",
              "                                                     [key], {});\n",
              "          if (!dataTable) return;\n",
              "\n",
              "          const docLinkHtml = 'Like what you see? Visit the ' +\n",
              "            '<a target=\"_blank\" href=https://colab.research.google.com/notebooks/data_table.ipynb>data table notebook</a>'\n",
              "            + ' to learn more about interactive tables.';\n",
              "          element.innerHTML = '';\n",
              "          dataTable['output_type'] = 'display_data';\n",
              "          await google.colab.output.renderOutput(dataTable, element);\n",
              "          const docLink = document.createElement('div');\n",
              "          docLink.innerHTML = docLinkHtml;\n",
              "          element.appendChild(docLink);\n",
              "        }\n",
              "      </script>\n",
              "    </div>\n",
              "  </div>\n",
              "  "
            ]
          },
          "metadata": {},
          "execution_count": 40
        }
      ]
    },
    {
      "cell_type": "code",
      "source": [
        "# divide Power_Consumption (W) column values into 5 intervals\n",
        "df_m['Pc_bins'] = pd.cut(df_m['Power_Consumption (W)'], 5, labels=['very low', 'low', 'mid', 'high', 'very high'])"
      ],
      "metadata": {
        "id": "0PoObnmL7znx"
      },
      "execution_count": 41,
      "outputs": []
    },
    {
      "cell_type": "code",
      "source": [
        "# visualize the distribution of power consumption under different price levels\n",
        "plt.figure(figsize=(15,8))\n",
        "sns.histplot(data=df_m, x='Pc_bins', hue='price_level')\n",
        "\n",
        "plt.xlabel('Power Consumption')\n",
        "plt.title('power consumption distribution under different price levels')\n",
        "plt.show()"
      ],
      "metadata": {
        "id": "lLdw9DZ6i-BZ",
        "colab": {
          "base_uri": "https://localhost:8080/",
          "height": 0
        },
        "outputId": "64c36d37-bf7b-4fe5-8e96-e8951ae2e618"
      },
      "execution_count": 42,
      "outputs": [
        {
          "output_type": "display_data",
          "data": {
            "text/plain": [
              "<Figure size 1080x576 with 1 Axes>"
            ],
            "image/png": "[encoded data removed]"
          },
          "metadata": {
            "needs_background": "light"
          }
        }
      ]
    },
    {
      "cell_type": "code",
      "source": [
        "df_m.groupby('price_level')['Power_Consumption (W)'].mean().round(2).sort_values()"
      ],
      "metadata": {
        "colab": {
          "base_uri": "https://localhost:8080/"
        },
        "id": "d-hQ2G-07KVS",
        "outputId": "9b5d575c-eb79-45d7-f168-8ebfb0673f09"
      },
      "execution_count": 43,
      "outputs": [
        {
          "output_type": "execute_result",
          "data": {
            "text/plain": [
              "price_level\n",
              "expensive      1568.33\n",
              "cheap        106422.20\n",
              "low          131219.48\n",
              "mid          133563.48\n",
              "very high    275333.08\n",
              "high         411535.39\n",
              "Name: Power_Consumption (W), dtype: float64"
            ]
          },
          "metadata": {},
          "execution_count": 43
        }
      ]
    },
    {
      "cell_type": "markdown",
      "source": [
        "Based on the graph, expensive ACs usually have very low power consumption, however, in the groupby table, we see the average power consumption value for expensive ACs is obviously incorrect. This could be due to data collection issues.\n",
        "\n",
        "Besides expensive ACs, ACs price and power consumption are negatively related, meaning the cheaper an AC is, the less power it consumes. I think this is not a very persuasive observation, since ACs that are more expensive usually larger, and used for different situations."
      ],
      "metadata": {
        "id": "VgUS8yqS9zPg"
      }
    }
  ]
}